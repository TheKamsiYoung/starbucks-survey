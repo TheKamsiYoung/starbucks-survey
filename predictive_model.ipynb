{
 "cells": [
  {
   "cell_type": "markdown",
   "metadata": {
    "colab_type": "text",
    "id": "coIYKKbEjJN1"
   },
   "source": [
    "# Starbucks Customer Survey"
   ]
  },
  {
   "cell_type": "markdown",
   "metadata": {
    "colab_type": "text",
    "id": "5bBZpRfZjJN2"
   },
   "source": [
    "### Objective\n",
    "Perform prepocessing and model prediction on the Starbucks customer dataset available from Kaggle\n",
    "Some operations include:\n",
    "\n",
    "1.\tObjective\n",
    "2.\tData Exploration\n",
    "3.\tMissing Data\n",
    "4.\tOutliers\n",
    "5.\tData Standardization or Normalization\n",
    "6.\tData Sampling\n",
    "7.\tTrain and Test"
   ]
  },
  {
   "cell_type": "code",
   "execution_count": 667,
   "metadata": {
    "colab": {},
    "colab_type": "code",
    "id": "rq3s3GT0jJN4"
   },
   "outputs": [],
   "source": [
    "import pandas as pd\n",
    "pd.set_option('mode.chained_assignment', None)\n",
    "pd.set_option('display.max_columns', None)"
   ]
  },
  {
   "cell_type": "code",
   "execution_count": 668,
   "metadata": {
    "colab": {},
    "colab_type": "code",
    "id": "n6GhDGtAjJN8"
   },
   "outputs": [
    {
     "data": {
      "text/html": [
       "<div>\n",
       "<style scoped>\n",
       "    .dataframe tbody tr th:only-of-type {\n",
       "        vertical-align: middle;\n",
       "    }\n",
       "\n",
       "    .dataframe tbody tr th {\n",
       "        vertical-align: top;\n",
       "    }\n",
       "\n",
       "    .dataframe thead th {\n",
       "        text-align: right;\n",
       "    }\n",
       "</style>\n",
       "<table border=\"1\" class=\"dataframe\">\n",
       "  <thead>\n",
       "    <tr style=\"text-align: right;\">\n",
       "      <th></th>\n",
       "      <th>Timestamp</th>\n",
       "      <th>1. Your Gender</th>\n",
       "      <th>2. Your Age</th>\n",
       "      <th>3. Are you currently....?</th>\n",
       "      <th>4. What is your annual income?</th>\n",
       "      <th>5. How often do you visit Starbucks?</th>\n",
       "      <th>6. How do you usually enjoy Starbucks?</th>\n",
       "      <th>7. How much time do you normally  spend during your visit?</th>\n",
       "      <th>8. The nearest Starbucks's outlet to you is...?</th>\n",
       "      <th>9. Do you have Starbucks membership card?</th>\n",
       "      <th>10. What do you most frequently purchase at Starbucks?</th>\n",
       "      <th>11. On average, how much would you spend at Starbucks per visit?</th>\n",
       "      <th>12. How would you rate the quality of Starbucks compared to other brands (Coffee Bean, Old Town White Coffee..) to be:</th>\n",
       "      <th>13. How would you rate the price range at Starbucks?</th>\n",
       "      <th>14. How important are sales and promotions in your purchase decision?</th>\n",
       "      <th>15. How would you rate the ambiance at Starbucks? (lighting, music, etc...)</th>\n",
       "      <th>16. You rate the WiFi quality at Starbucks as..</th>\n",
       "      <th>17. How would you rate the service at Starbucks? (Promptness, friendliness, etc..)</th>\n",
       "      <th>18. How likely you will choose Starbucks for doing business meetings or hangout with friends?</th>\n",
       "      <th>19. How do you come to hear of promotions at Starbucks? Check all that apply.</th>\n",
       "      <th>20. Will you continue buying at Starbucks?</th>\n",
       "    </tr>\n",
       "  </thead>\n",
       "  <tbody>\n",
       "    <tr>\n",
       "      <th>0</th>\n",
       "      <td>2019/10/01 12:38:43 PM GMT+8</td>\n",
       "      <td>Female</td>\n",
       "      <td>From 20 to 29</td>\n",
       "      <td>Student</td>\n",
       "      <td>Less than RM25,000</td>\n",
       "      <td>Rarely</td>\n",
       "      <td>Dine in</td>\n",
       "      <td>Between 30 minutes to 1 hour</td>\n",
       "      <td>within 1km</td>\n",
       "      <td>Yes</td>\n",
       "      <td>Coffee</td>\n",
       "      <td>Less than RM20</td>\n",
       "      <td>4</td>\n",
       "      <td>3</td>\n",
       "      <td>5</td>\n",
       "      <td>5</td>\n",
       "      <td>4</td>\n",
       "      <td>4</td>\n",
       "      <td>3</td>\n",
       "      <td>Starbucks Website/Apps;Social Media;Emails;Dea...</td>\n",
       "      <td>Yes</td>\n",
       "    </tr>\n",
       "    <tr>\n",
       "      <th>1</th>\n",
       "      <td>2019/10/01 12:38:54 PM GMT+8</td>\n",
       "      <td>Female</td>\n",
       "      <td>From 20 to 29</td>\n",
       "      <td>Student</td>\n",
       "      <td>Less than RM25,000</td>\n",
       "      <td>Rarely</td>\n",
       "      <td>Take away</td>\n",
       "      <td>Below 30 minutes</td>\n",
       "      <td>1km - 3km</td>\n",
       "      <td>Yes</td>\n",
       "      <td>Cold drinks;Pastries</td>\n",
       "      <td>Less than RM20</td>\n",
       "      <td>4</td>\n",
       "      <td>3</td>\n",
       "      <td>4</td>\n",
       "      <td>4</td>\n",
       "      <td>4</td>\n",
       "      <td>5</td>\n",
       "      <td>2</td>\n",
       "      <td>Social Media;In Store displays</td>\n",
       "      <td>Yes</td>\n",
       "    </tr>\n",
       "    <tr>\n",
       "      <th>2</th>\n",
       "      <td>2019/10/01 12:38:56 PM GMT+8</td>\n",
       "      <td>Male</td>\n",
       "      <td>From 20 to 29</td>\n",
       "      <td>Employed</td>\n",
       "      <td>Less than RM25,000</td>\n",
       "      <td>Monthly</td>\n",
       "      <td>Dine in</td>\n",
       "      <td>Between 30 minutes to 1 hour</td>\n",
       "      <td>more than 3km</td>\n",
       "      <td>Yes</td>\n",
       "      <td>Coffee</td>\n",
       "      <td>Less than RM20</td>\n",
       "      <td>4</td>\n",
       "      <td>3</td>\n",
       "      <td>4</td>\n",
       "      <td>4</td>\n",
       "      <td>4</td>\n",
       "      <td>4</td>\n",
       "      <td>3</td>\n",
       "      <td>In Store displays;Billboards</td>\n",
       "      <td>Yes</td>\n",
       "    </tr>\n",
       "    <tr>\n",
       "      <th>3</th>\n",
       "      <td>2019/10/01 12:39:08 PM GMT+8</td>\n",
       "      <td>Female</td>\n",
       "      <td>From 20 to 29</td>\n",
       "      <td>Student</td>\n",
       "      <td>Less than RM25,000</td>\n",
       "      <td>Rarely</td>\n",
       "      <td>Take away</td>\n",
       "      <td>Below 30 minutes</td>\n",
       "      <td>more than 3km</td>\n",
       "      <td>No</td>\n",
       "      <td>Coffee</td>\n",
       "      <td>Less than RM20</td>\n",
       "      <td>2</td>\n",
       "      <td>1</td>\n",
       "      <td>4</td>\n",
       "      <td>3</td>\n",
       "      <td>3</td>\n",
       "      <td>3</td>\n",
       "      <td>3</td>\n",
       "      <td>Through friends and word of mouth</td>\n",
       "      <td>No</td>\n",
       "    </tr>\n",
       "    <tr>\n",
       "      <th>4</th>\n",
       "      <td>2019/10/01 12:39:20 PM GMT+8</td>\n",
       "      <td>Male</td>\n",
       "      <td>From 20 to 29</td>\n",
       "      <td>Student</td>\n",
       "      <td>Less than RM25,000</td>\n",
       "      <td>Monthly</td>\n",
       "      <td>Take away</td>\n",
       "      <td>Between 30 minutes to 1 hour</td>\n",
       "      <td>1km - 3km</td>\n",
       "      <td>No</td>\n",
       "      <td>Coffee;Sandwiches</td>\n",
       "      <td>Around RM20 - RM40</td>\n",
       "      <td>3</td>\n",
       "      <td>3</td>\n",
       "      <td>4</td>\n",
       "      <td>2</td>\n",
       "      <td>2</td>\n",
       "      <td>3</td>\n",
       "      <td>3</td>\n",
       "      <td>Starbucks Website/Apps;Social Media</td>\n",
       "      <td>Yes</td>\n",
       "    </tr>\n",
       "    <tr>\n",
       "      <th>...</th>\n",
       "      <td>...</td>\n",
       "      <td>...</td>\n",
       "      <td>...</td>\n",
       "      <td>...</td>\n",
       "      <td>...</td>\n",
       "      <td>...</td>\n",
       "      <td>...</td>\n",
       "      <td>...</td>\n",
       "      <td>...</td>\n",
       "      <td>...</td>\n",
       "      <td>...</td>\n",
       "      <td>...</td>\n",
       "      <td>...</td>\n",
       "      <td>...</td>\n",
       "      <td>...</td>\n",
       "      <td>...</td>\n",
       "      <td>...</td>\n",
       "      <td>...</td>\n",
       "      <td>...</td>\n",
       "      <td>...</td>\n",
       "      <td>...</td>\n",
       "    </tr>\n",
       "    <tr>\n",
       "      <th>117</th>\n",
       "      <td>2019/10/04 12:24:26 AM GMT+8</td>\n",
       "      <td>Male</td>\n",
       "      <td>40 and above</td>\n",
       "      <td>Self-employed</td>\n",
       "      <td>RM25,000 - RM50,000</td>\n",
       "      <td>Monthly</td>\n",
       "      <td>Dine in</td>\n",
       "      <td>Between 1 hour to 2 hours</td>\n",
       "      <td>1km - 3km</td>\n",
       "      <td>Yes</td>\n",
       "      <td>Coffee</td>\n",
       "      <td>Around RM20 - RM40</td>\n",
       "      <td>3</td>\n",
       "      <td>3</td>\n",
       "      <td>5</td>\n",
       "      <td>3</td>\n",
       "      <td>2</td>\n",
       "      <td>4</td>\n",
       "      <td>4</td>\n",
       "      <td>Starbucks Website/Apps;Social Media</td>\n",
       "      <td>Yes</td>\n",
       "    </tr>\n",
       "    <tr>\n",
       "      <th>118</th>\n",
       "      <td>2019/10/04 9:30:09 AM GMT+8</td>\n",
       "      <td>Male</td>\n",
       "      <td>From 20 to 29</td>\n",
       "      <td>Employed</td>\n",
       "      <td>Less than RM25,000</td>\n",
       "      <td>Monthly</td>\n",
       "      <td>Dine in</td>\n",
       "      <td>Between 1 hour to 2 hours</td>\n",
       "      <td>1km - 3km</td>\n",
       "      <td>Yes</td>\n",
       "      <td>Coffee;Cold drinks;Juices;Pastries;Sandwiches</td>\n",
       "      <td>More than RM40</td>\n",
       "      <td>5</td>\n",
       "      <td>5</td>\n",
       "      <td>5</td>\n",
       "      <td>5</td>\n",
       "      <td>5</td>\n",
       "      <td>5</td>\n",
       "      <td>5</td>\n",
       "      <td>Starbucks Website/Apps;Social Media;Emails;Dea...</td>\n",
       "      <td>Yes</td>\n",
       "    </tr>\n",
       "    <tr>\n",
       "      <th>119</th>\n",
       "      <td>2019/10/04 1:46:07 PM GMT+8</td>\n",
       "      <td>Male</td>\n",
       "      <td>From 20 to 29</td>\n",
       "      <td>Student</td>\n",
       "      <td>Less than RM25,000</td>\n",
       "      <td>Rarely</td>\n",
       "      <td>Dine in</td>\n",
       "      <td>Between 30 minutes to 1 hour</td>\n",
       "      <td>1km - 3km</td>\n",
       "      <td>No</td>\n",
       "      <td>Coffee;Cold drinks</td>\n",
       "      <td>Less than RM20</td>\n",
       "      <td>3</td>\n",
       "      <td>2</td>\n",
       "      <td>4</td>\n",
       "      <td>3</td>\n",
       "      <td>3</td>\n",
       "      <td>3</td>\n",
       "      <td>4</td>\n",
       "      <td>Social Media;Through friends and word of mouth...</td>\n",
       "      <td>No</td>\n",
       "    </tr>\n",
       "    <tr>\n",
       "      <th>120</th>\n",
       "      <td>2019/10/05 11:01:14 AM GMT+8</td>\n",
       "      <td>Female</td>\n",
       "      <td>From 20 to 29</td>\n",
       "      <td>Employed</td>\n",
       "      <td>Less than RM25,000</td>\n",
       "      <td>Rarely</td>\n",
       "      <td>Take away</td>\n",
       "      <td>Below 30 minutes</td>\n",
       "      <td>within 1km</td>\n",
       "      <td>No</td>\n",
       "      <td>Coffee</td>\n",
       "      <td>Less than RM20</td>\n",
       "      <td>4</td>\n",
       "      <td>4</td>\n",
       "      <td>4</td>\n",
       "      <td>4</td>\n",
       "      <td>4</td>\n",
       "      <td>4</td>\n",
       "      <td>4</td>\n",
       "      <td>Social Media;Through friends and word of mouth...</td>\n",
       "      <td>Yes</td>\n",
       "    </tr>\n",
       "    <tr>\n",
       "      <th>121</th>\n",
       "      <td>2019/10/05 4:57:22 PM GMT+8</td>\n",
       "      <td>Male</td>\n",
       "      <td>From 20 to 29</td>\n",
       "      <td>Employed</td>\n",
       "      <td>RM50,000 - RM100,000</td>\n",
       "      <td>Rarely</td>\n",
       "      <td>Dine in</td>\n",
       "      <td>Between 30 minutes to 1 hour</td>\n",
       "      <td>1km - 3km</td>\n",
       "      <td>No</td>\n",
       "      <td>Coffee</td>\n",
       "      <td>Less than RM20</td>\n",
       "      <td>1</td>\n",
       "      <td>1</td>\n",
       "      <td>5</td>\n",
       "      <td>4</td>\n",
       "      <td>3</td>\n",
       "      <td>3</td>\n",
       "      <td>2</td>\n",
       "      <td>In Store displays</td>\n",
       "      <td>No</td>\n",
       "    </tr>\n",
       "  </tbody>\n",
       "</table>\n",
       "<p>122 rows × 21 columns</p>\n",
       "</div>"
      ],
      "text/plain": [
       "                        Timestamp 1. Your Gender    2. Your Age  \\\n",
       "0    2019/10/01 12:38:43 PM GMT+8         Female  From 20 to 29   \n",
       "1    2019/10/01 12:38:54 PM GMT+8         Female  From 20 to 29   \n",
       "2    2019/10/01 12:38:56 PM GMT+8           Male  From 20 to 29   \n",
       "3    2019/10/01 12:39:08 PM GMT+8         Female  From 20 to 29   \n",
       "4    2019/10/01 12:39:20 PM GMT+8           Male  From 20 to 29   \n",
       "..                            ...            ...            ...   \n",
       "117  2019/10/04 12:24:26 AM GMT+8           Male   40 and above   \n",
       "118   2019/10/04 9:30:09 AM GMT+8           Male  From 20 to 29   \n",
       "119   2019/10/04 1:46:07 PM GMT+8           Male  From 20 to 29   \n",
       "120  2019/10/05 11:01:14 AM GMT+8         Female  From 20 to 29   \n",
       "121   2019/10/05 4:57:22 PM GMT+8           Male  From 20 to 29   \n",
       "\n",
       "    3. Are you currently....? 4. What is your annual income?  \\\n",
       "0                     Student             Less than RM25,000   \n",
       "1                     Student             Less than RM25,000   \n",
       "2                    Employed             Less than RM25,000   \n",
       "3                     Student             Less than RM25,000   \n",
       "4                     Student             Less than RM25,000   \n",
       "..                        ...                            ...   \n",
       "117             Self-employed            RM25,000 - RM50,000   \n",
       "118                  Employed             Less than RM25,000   \n",
       "119                   Student             Less than RM25,000   \n",
       "120                  Employed             Less than RM25,000   \n",
       "121                  Employed           RM50,000 - RM100,000   \n",
       "\n",
       "    5. How often do you visit Starbucks?  \\\n",
       "0                                 Rarely   \n",
       "1                                 Rarely   \n",
       "2                                Monthly   \n",
       "3                                 Rarely   \n",
       "4                                Monthly   \n",
       "..                                   ...   \n",
       "117                              Monthly   \n",
       "118                              Monthly   \n",
       "119                               Rarely   \n",
       "120                               Rarely   \n",
       "121                               Rarely   \n",
       "\n",
       "    6. How do you usually enjoy Starbucks?  \\\n",
       "0                                  Dine in   \n",
       "1                                Take away   \n",
       "2                                  Dine in   \n",
       "3                                Take away   \n",
       "4                                Take away   \n",
       "..                                     ...   \n",
       "117                                Dine in   \n",
       "118                                Dine in   \n",
       "119                                Dine in   \n",
       "120                              Take away   \n",
       "121                                Dine in   \n",
       "\n",
       "    7. How much time do you normally  spend during your visit?  \\\n",
       "0                         Between 30 minutes to 1 hour           \n",
       "1                                     Below 30 minutes           \n",
       "2                         Between 30 minutes to 1 hour           \n",
       "3                                     Below 30 minutes           \n",
       "4                         Between 30 minutes to 1 hour           \n",
       "..                                                 ...           \n",
       "117                          Between 1 hour to 2 hours           \n",
       "118                          Between 1 hour to 2 hours           \n",
       "119                       Between 30 minutes to 1 hour           \n",
       "120                                   Below 30 minutes           \n",
       "121                       Between 30 minutes to 1 hour           \n",
       "\n",
       "    8. The nearest Starbucks's outlet to you is...?  \\\n",
       "0                                        within 1km   \n",
       "1                                         1km - 3km   \n",
       "2                                     more than 3km   \n",
       "3                                     more than 3km   \n",
       "4                                         1km - 3km   \n",
       "..                                              ...   \n",
       "117                                       1km - 3km   \n",
       "118                                       1km - 3km   \n",
       "119                                       1km - 3km   \n",
       "120                                      within 1km   \n",
       "121                                       1km - 3km   \n",
       "\n",
       "    9. Do you have Starbucks membership card?  \\\n",
       "0                                         Yes   \n",
       "1                                         Yes   \n",
       "2                                         Yes   \n",
       "3                                          No   \n",
       "4                                          No   \n",
       "..                                        ...   \n",
       "117                                       Yes   \n",
       "118                                       Yes   \n",
       "119                                        No   \n",
       "120                                        No   \n",
       "121                                        No   \n",
       "\n",
       "    10. What do you most frequently purchase at Starbucks?  \\\n",
       "0                                               Coffee       \n",
       "1                                 Cold drinks;Pastries       \n",
       "2                                               Coffee       \n",
       "3                                               Coffee       \n",
       "4                                    Coffee;Sandwiches       \n",
       "..                                                 ...       \n",
       "117                                             Coffee       \n",
       "118      Coffee;Cold drinks;Juices;Pastries;Sandwiches       \n",
       "119                                 Coffee;Cold drinks       \n",
       "120                                             Coffee       \n",
       "121                                             Coffee       \n",
       "\n",
       "    11. On average, how much would you spend at Starbucks per visit?  \\\n",
       "0                                       Less than RM20                 \n",
       "1                                       Less than RM20                 \n",
       "2                                       Less than RM20                 \n",
       "3                                       Less than RM20                 \n",
       "4                                   Around RM20 - RM40                 \n",
       "..                                                 ...                 \n",
       "117                                 Around RM20 - RM40                 \n",
       "118                                     More than RM40                 \n",
       "119                                     Less than RM20                 \n",
       "120                                     Less than RM20                 \n",
       "121                                     Less than RM20                 \n",
       "\n",
       "     12. How would you rate the quality of Starbucks compared to other brands (Coffee Bean, Old Town White Coffee..) to be:  \\\n",
       "0                                                    4                                                                        \n",
       "1                                                    4                                                                        \n",
       "2                                                    4                                                                        \n",
       "3                                                    2                                                                        \n",
       "4                                                    3                                                                        \n",
       "..                                                 ...                                                                        \n",
       "117                                                  3                                                                        \n",
       "118                                                  5                                                                        \n",
       "119                                                  3                                                                        \n",
       "120                                                  4                                                                        \n",
       "121                                                  1                                                                        \n",
       "\n",
       "     13. How would you rate the price range at Starbucks?  \\\n",
       "0                                                    3      \n",
       "1                                                    3      \n",
       "2                                                    3      \n",
       "3                                                    1      \n",
       "4                                                    3      \n",
       "..                                                 ...      \n",
       "117                                                  3      \n",
       "118                                                  5      \n",
       "119                                                  2      \n",
       "120                                                  4      \n",
       "121                                                  1      \n",
       "\n",
       "     14. How important are sales and promotions in your purchase decision?  \\\n",
       "0                                                    5                       \n",
       "1                                                    4                       \n",
       "2                                                    4                       \n",
       "3                                                    4                       \n",
       "4                                                    4                       \n",
       "..                                                 ...                       \n",
       "117                                                  5                       \n",
       "118                                                  5                       \n",
       "119                                                  4                       \n",
       "120                                                  4                       \n",
       "121                                                  5                       \n",
       "\n",
       "     15. How would you rate the ambiance at Starbucks? (lighting, music, etc...)  \\\n",
       "0                                                    5                             \n",
       "1                                                    4                             \n",
       "2                                                    4                             \n",
       "3                                                    3                             \n",
       "4                                                    2                             \n",
       "..                                                 ...                             \n",
       "117                                                  3                             \n",
       "118                                                  5                             \n",
       "119                                                  3                             \n",
       "120                                                  4                             \n",
       "121                                                  4                             \n",
       "\n",
       "     16. You rate the WiFi quality at Starbucks as..  \\\n",
       "0                                                  4   \n",
       "1                                                  4   \n",
       "2                                                  4   \n",
       "3                                                  3   \n",
       "4                                                  2   \n",
       "..                                               ...   \n",
       "117                                                2   \n",
       "118                                                5   \n",
       "119                                                3   \n",
       "120                                                4   \n",
       "121                                                3   \n",
       "\n",
       "     17. How would you rate the service at Starbucks? (Promptness, friendliness, etc..)  \\\n",
       "0                                                    4                                    \n",
       "1                                                    5                                    \n",
       "2                                                    4                                    \n",
       "3                                                    3                                    \n",
       "4                                                    3                                    \n",
       "..                                                 ...                                    \n",
       "117                                                  4                                    \n",
       "118                                                  5                                    \n",
       "119                                                  3                                    \n",
       "120                                                  4                                    \n",
       "121                                                  3                                    \n",
       "\n",
       "     18. How likely you will choose Starbucks for doing business meetings or hangout with friends?  \\\n",
       "0                                                    3                                               \n",
       "1                                                    2                                               \n",
       "2                                                    3                                               \n",
       "3                                                    3                                               \n",
       "4                                                    3                                               \n",
       "..                                                 ...                                               \n",
       "117                                                  4                                               \n",
       "118                                                  5                                               \n",
       "119                                                  4                                               \n",
       "120                                                  4                                               \n",
       "121                                                  2                                               \n",
       "\n",
       "    19. How do you come to hear of promotions at Starbucks? Check all that apply.  \\\n",
       "0    Starbucks Website/Apps;Social Media;Emails;Dea...                              \n",
       "1                       Social Media;In Store displays                              \n",
       "2                         In Store displays;Billboards                              \n",
       "3                    Through friends and word of mouth                              \n",
       "4                  Starbucks Website/Apps;Social Media                              \n",
       "..                                                 ...                              \n",
       "117                Starbucks Website/Apps;Social Media                              \n",
       "118  Starbucks Website/Apps;Social Media;Emails;Dea...                              \n",
       "119  Social Media;Through friends and word of mouth...                              \n",
       "120  Social Media;Through friends and word of mouth...                              \n",
       "121                                  In Store displays                              \n",
       "\n",
       "    20. Will you continue buying at Starbucks?  \n",
       "0                                          Yes  \n",
       "1                                          Yes  \n",
       "2                                          Yes  \n",
       "3                                           No  \n",
       "4                                          Yes  \n",
       "..                                         ...  \n",
       "117                                        Yes  \n",
       "118                                        Yes  \n",
       "119                                         No  \n",
       "120                                        Yes  \n",
       "121                                         No  \n",
       "\n",
       "[122 rows x 21 columns]"
      ]
     },
     "execution_count": 668,
     "metadata": {},
     "output_type": "execute_result"
    }
   ],
   "source": [
    "df = pd.read_csv(\"starbucks_satisfactory_survey.csv\")\n",
    "df"
   ]
  },
  {
   "cell_type": "markdown",
   "metadata": {
    "colab_type": "text",
    "id": "ICVhIVlOjJOD"
   },
   "source": [
    "## Preliminary Data Cleaning"
   ]
  },
  {
   "cell_type": "markdown",
   "metadata": {
    "colab_type": "text",
    "id": "nGUvJBN1jJOD"
   },
   "source": [
    "\n",
    "### 1. Rename Columns\n",
    "The column names consisted of questions which were hard to work with in code and hence needed to be changed to shorter but expressive names."
   ]
  },
  {
   "cell_type": "code",
   "execution_count": 669,
   "metadata": {
    "colab": {
     "base_uri": "https://localhost:8080/",
     "height": 480
    },
    "colab_type": "code",
    "id": "KHuIxw7EjJOE",
    "outputId": "acf4c7b0-d361-4093-db2c-053446af8406"
   },
   "outputs": [
    {
     "data": {
      "text/html": [
       "<div>\n",
       "<style scoped>\n",
       "    .dataframe tbody tr th:only-of-type {\n",
       "        vertical-align: middle;\n",
       "    }\n",
       "\n",
       "    .dataframe tbody tr th {\n",
       "        vertical-align: top;\n",
       "    }\n",
       "\n",
       "    .dataframe thead th {\n",
       "        text-align: right;\n",
       "    }\n",
       "</style>\n",
       "<table border=\"1\" class=\"dataframe\">\n",
       "  <thead>\n",
       "    <tr style=\"text-align: right;\">\n",
       "      <th></th>\n",
       "      <th>timestamp</th>\n",
       "      <th>gender</th>\n",
       "      <th>age</th>\n",
       "      <th>occupation</th>\n",
       "      <th>income_rm</th>\n",
       "      <th>visit_frequency</th>\n",
       "      <th>most_used_service</th>\n",
       "      <th>time_spent_per_visit</th>\n",
       "      <th>distance_from_shop</th>\n",
       "      <th>member</th>\n",
       "      <th>most_purchased_item</th>\n",
       "      <th>average_amount_spent_rm</th>\n",
       "      <th>brand_rating_comparison</th>\n",
       "      <th>price_rating</th>\n",
       "      <th>sales_promotions_influence</th>\n",
       "      <th>ambience_rating</th>\n",
       "      <th>wifi_rating</th>\n",
       "      <th>service_rating</th>\n",
       "      <th>preferred_social_hangout</th>\n",
       "      <th>referral</th>\n",
       "      <th>continued_patronage</th>\n",
       "    </tr>\n",
       "  </thead>\n",
       "  <tbody>\n",
       "    <tr>\n",
       "      <th>0</th>\n",
       "      <td>2019/10/01 12:38:43 PM GMT+8</td>\n",
       "      <td>Female</td>\n",
       "      <td>From 20 to 29</td>\n",
       "      <td>Student</td>\n",
       "      <td>Less than RM25,000</td>\n",
       "      <td>Rarely</td>\n",
       "      <td>Dine in</td>\n",
       "      <td>Between 30 minutes to 1 hour</td>\n",
       "      <td>within 1km</td>\n",
       "      <td>Yes</td>\n",
       "      <td>Coffee</td>\n",
       "      <td>Less than RM20</td>\n",
       "      <td>4</td>\n",
       "      <td>3</td>\n",
       "      <td>5</td>\n",
       "      <td>5</td>\n",
       "      <td>4</td>\n",
       "      <td>4</td>\n",
       "      <td>3</td>\n",
       "      <td>Starbucks Website/Apps;Social Media;Emails;Dea...</td>\n",
       "      <td>Yes</td>\n",
       "    </tr>\n",
       "    <tr>\n",
       "      <th>1</th>\n",
       "      <td>2019/10/01 12:38:54 PM GMT+8</td>\n",
       "      <td>Female</td>\n",
       "      <td>From 20 to 29</td>\n",
       "      <td>Student</td>\n",
       "      <td>Less than RM25,000</td>\n",
       "      <td>Rarely</td>\n",
       "      <td>Take away</td>\n",
       "      <td>Below 30 minutes</td>\n",
       "      <td>1km - 3km</td>\n",
       "      <td>Yes</td>\n",
       "      <td>Cold drinks;Pastries</td>\n",
       "      <td>Less than RM20</td>\n",
       "      <td>4</td>\n",
       "      <td>3</td>\n",
       "      <td>4</td>\n",
       "      <td>4</td>\n",
       "      <td>4</td>\n",
       "      <td>5</td>\n",
       "      <td>2</td>\n",
       "      <td>Social Media;In Store displays</td>\n",
       "      <td>Yes</td>\n",
       "    </tr>\n",
       "    <tr>\n",
       "      <th>2</th>\n",
       "      <td>2019/10/01 12:38:56 PM GMT+8</td>\n",
       "      <td>Male</td>\n",
       "      <td>From 20 to 29</td>\n",
       "      <td>Employed</td>\n",
       "      <td>Less than RM25,000</td>\n",
       "      <td>Monthly</td>\n",
       "      <td>Dine in</td>\n",
       "      <td>Between 30 minutes to 1 hour</td>\n",
       "      <td>more than 3km</td>\n",
       "      <td>Yes</td>\n",
       "      <td>Coffee</td>\n",
       "      <td>Less than RM20</td>\n",
       "      <td>4</td>\n",
       "      <td>3</td>\n",
       "      <td>4</td>\n",
       "      <td>4</td>\n",
       "      <td>4</td>\n",
       "      <td>4</td>\n",
       "      <td>3</td>\n",
       "      <td>In Store displays;Billboards</td>\n",
       "      <td>Yes</td>\n",
       "    </tr>\n",
       "    <tr>\n",
       "      <th>3</th>\n",
       "      <td>2019/10/01 12:39:08 PM GMT+8</td>\n",
       "      <td>Female</td>\n",
       "      <td>From 20 to 29</td>\n",
       "      <td>Student</td>\n",
       "      <td>Less than RM25,000</td>\n",
       "      <td>Rarely</td>\n",
       "      <td>Take away</td>\n",
       "      <td>Below 30 minutes</td>\n",
       "      <td>more than 3km</td>\n",
       "      <td>No</td>\n",
       "      <td>Coffee</td>\n",
       "      <td>Less than RM20</td>\n",
       "      <td>2</td>\n",
       "      <td>1</td>\n",
       "      <td>4</td>\n",
       "      <td>3</td>\n",
       "      <td>3</td>\n",
       "      <td>3</td>\n",
       "      <td>3</td>\n",
       "      <td>Through friends and word of mouth</td>\n",
       "      <td>No</td>\n",
       "    </tr>\n",
       "    <tr>\n",
       "      <th>4</th>\n",
       "      <td>2019/10/01 12:39:20 PM GMT+8</td>\n",
       "      <td>Male</td>\n",
       "      <td>From 20 to 29</td>\n",
       "      <td>Student</td>\n",
       "      <td>Less than RM25,000</td>\n",
       "      <td>Monthly</td>\n",
       "      <td>Take away</td>\n",
       "      <td>Between 30 minutes to 1 hour</td>\n",
       "      <td>1km - 3km</td>\n",
       "      <td>No</td>\n",
       "      <td>Coffee;Sandwiches</td>\n",
       "      <td>Around RM20 - RM40</td>\n",
       "      <td>3</td>\n",
       "      <td>3</td>\n",
       "      <td>4</td>\n",
       "      <td>2</td>\n",
       "      <td>2</td>\n",
       "      <td>3</td>\n",
       "      <td>3</td>\n",
       "      <td>Starbucks Website/Apps;Social Media</td>\n",
       "      <td>Yes</td>\n",
       "    </tr>\n",
       "  </tbody>\n",
       "</table>\n",
       "</div>"
      ],
      "text/plain": [
       "                      timestamp  gender            age occupation  \\\n",
       "0  2019/10/01 12:38:43 PM GMT+8  Female  From 20 to 29    Student   \n",
       "1  2019/10/01 12:38:54 PM GMT+8  Female  From 20 to 29    Student   \n",
       "2  2019/10/01 12:38:56 PM GMT+8    Male  From 20 to 29   Employed   \n",
       "3  2019/10/01 12:39:08 PM GMT+8  Female  From 20 to 29    Student   \n",
       "4  2019/10/01 12:39:20 PM GMT+8    Male  From 20 to 29    Student   \n",
       "\n",
       "            income_rm visit_frequency most_used_service  \\\n",
       "0  Less than RM25,000          Rarely           Dine in   \n",
       "1  Less than RM25,000          Rarely         Take away   \n",
       "2  Less than RM25,000         Monthly           Dine in   \n",
       "3  Less than RM25,000          Rarely         Take away   \n",
       "4  Less than RM25,000         Monthly         Take away   \n",
       "\n",
       "           time_spent_per_visit distance_from_shop member  \\\n",
       "0  Between 30 minutes to 1 hour         within 1km    Yes   \n",
       "1              Below 30 minutes          1km - 3km    Yes   \n",
       "2  Between 30 minutes to 1 hour      more than 3km    Yes   \n",
       "3              Below 30 minutes      more than 3km     No   \n",
       "4  Between 30 minutes to 1 hour          1km - 3km     No   \n",
       "\n",
       "    most_purchased_item average_amount_spent_rm  brand_rating_comparison  \\\n",
       "0                Coffee          Less than RM20                        4   \n",
       "1  Cold drinks;Pastries          Less than RM20                        4   \n",
       "2                Coffee          Less than RM20                        4   \n",
       "3                Coffee          Less than RM20                        2   \n",
       "4     Coffee;Sandwiches      Around RM20 - RM40                        3   \n",
       "\n",
       "   price_rating  sales_promotions_influence  ambience_rating  wifi_rating  \\\n",
       "0             3                           5                5            4   \n",
       "1             3                           4                4            4   \n",
       "2             3                           4                4            4   \n",
       "3             1                           4                3            3   \n",
       "4             3                           4                2            2   \n",
       "\n",
       "   service_rating  preferred_social_hangout  \\\n",
       "0               4                         3   \n",
       "1               5                         2   \n",
       "2               4                         3   \n",
       "3               3                         3   \n",
       "4               3                         3   \n",
       "\n",
       "                                            referral continued_patronage  \n",
       "0  Starbucks Website/Apps;Social Media;Emails;Dea...                 Yes  \n",
       "1                     Social Media;In Store displays                 Yes  \n",
       "2                       In Store displays;Billboards                 Yes  \n",
       "3                  Through friends and word of mouth                  No  \n",
       "4                Starbucks Website/Apps;Social Media                 Yes  "
      ]
     },
     "execution_count": 669,
     "metadata": {},
     "output_type": "execute_result"
    }
   ],
   "source": [
    "df.columns = [\n",
    "              \"timestamp\", \"gender\",  \"age\",  \"occupation\", \"income_rm\", \n",
    "              \"visit_frequency\", \"most_used_service\", 'time_spent_per_visit', \n",
    "              \"distance_from_shop\",  \"member\",  \"most_purchased_item\",  \n",
    "              \"average_amount_spent_rm\",  \"brand_rating_comparison\", \n",
    "              \"price_rating\",  \"sales_promotions_influence\",  \n",
    "              \"ambience_rating\", \"wifi_rating\", \"service_rating\", \n",
    "              \"preferred_social_hangout\",  \"referral\",  \"continued_patronage\"\n",
    "              ]\n",
    "df.head()"
   ]
  },
  {
   "cell_type": "markdown",
   "metadata": {
    "colab_type": "text",
    "id": "uX5IlciyjJOO"
   },
   "source": [
    "### 2. Check data types\n",
    "I ascertain the kind of data I would be working with. Knowledge of the associated datatype can help resolve data mismatch errors during computation."
   ]
  },
  {
   "cell_type": "code",
   "execution_count": 670,
   "metadata": {
    "colab": {
     "base_uri": "https://localhost:8080/",
     "height": 394
    },
    "colab_type": "code",
    "id": "SiGRkg5ojJOP",
    "outputId": "12af6e40-120b-498d-8517-3d5ef861385a",
    "scrolled": false
   },
   "outputs": [
    {
     "data": {
      "text/plain": [
       "timestamp                     object\n",
       "gender                        object\n",
       "age                           object\n",
       "occupation                    object\n",
       "income_rm                     object\n",
       "visit_frequency               object\n",
       "most_used_service             object\n",
       "time_spent_per_visit          object\n",
       "distance_from_shop            object\n",
       "member                        object\n",
       "most_purchased_item           object\n",
       "average_amount_spent_rm       object\n",
       "brand_rating_comparison        int64\n",
       "price_rating                   int64\n",
       "sales_promotions_influence     int64\n",
       "ambience_rating                int64\n",
       "wifi_rating                    int64\n",
       "service_rating                 int64\n",
       "preferred_social_hangout       int64\n",
       "referral                      object\n",
       "continued_patronage           object\n",
       "dtype: object"
      ]
     },
     "execution_count": 670,
     "metadata": {},
     "output_type": "execute_result"
    }
   ],
   "source": [
    "df.dtypes"
   ]
  },
  {
   "cell_type": "markdown",
   "metadata": {
    "colab_type": "text",
    "id": "cPai9pBAjJOR"
   },
   "source": [
    "### 3. Check null data\n"
   ]
  },
  {
   "cell_type": "markdown",
   "metadata": {
    "colab_type": "text",
    "id": "kmByvVVNjJOS"
   },
   "source": [
    "Discover and remove null data especifically in the 'continued_patronage' column."
   ]
  },
  {
   "cell_type": "code",
   "execution_count": 671,
   "metadata": {
    "colab": {
     "base_uri": "https://localhost:8080/",
     "height": 394
    },
    "colab_type": "code",
    "id": "JpnsmjvkjJOT",
    "outputId": "e7c15df2-5abe-4313-8048-4ea0d8d48454",
    "scrolled": false
   },
   "outputs": [
    {
     "data": {
      "text/plain": [
       "timestamp                     0\n",
       "gender                        0\n",
       "age                           0\n",
       "occupation                    0\n",
       "income_rm                     0\n",
       "visit_frequency               0\n",
       "most_used_service             1\n",
       "time_spent_per_visit          0\n",
       "distance_from_shop            0\n",
       "member                        0\n",
       "most_purchased_item           0\n",
       "average_amount_spent_rm       0\n",
       "brand_rating_comparison       0\n",
       "price_rating                  0\n",
       "sales_promotions_influence    0\n",
       "ambience_rating               0\n",
       "wifi_rating                   0\n",
       "service_rating                0\n",
       "preferred_social_hangout      0\n",
       "referral                      1\n",
       "continued_patronage           0\n",
       "dtype: int64"
      ]
     },
     "execution_count": 671,
     "metadata": {},
     "output_type": "execute_result"
    }
   ],
   "source": [
    "df.isnull().sum()"
   ]
  },
  {
   "cell_type": "markdown",
   "metadata": {
    "colab_type": "text",
    "id": "WhMpidknjJOW"
   },
   "source": [
    "There are only a few missing data. A lot can be done to clean up the data but this null margin is not that bad. I replace these null values with 'none'"
   ]
  },
  {
   "cell_type": "code",
   "execution_count": 672,
   "metadata": {
    "colab": {
     "base_uri": "https://localhost:8080/",
     "height": 188
    },
    "colab_type": "code",
    "id": "PrujRbjMjJOX",
    "outputId": "8097db8e-9188-41ee-ca62-087eb8c7bc69"
   },
   "outputs": [
    {
     "data": {
      "text/plain": [
       "Take away             49\n",
       "Dine in               46\n",
       "Drive-thru            20\n",
       "never                  2\n",
       "unknown                1\n",
       "Never                  1\n",
       "Never                  1\n",
       "I dont like coffee     1\n",
       "Never buy              1\n",
       "Name: most_used_service, dtype: int64"
      ]
     },
     "execution_count": 672,
     "metadata": {},
     "output_type": "execute_result"
    }
   ],
   "source": [
    "df.most_used_service.fillna(value='unknown', inplace=True)\n",
    "df.most_used_service.value_counts()"
   ]
  },
  {
   "cell_type": "code",
   "execution_count": 673,
   "metadata": {
    "colab": {
     "base_uri": "https://localhost:8080/",
     "height": 583
    },
    "colab_type": "code",
    "id": "KyQZ7gT2jJOa",
    "outputId": "9c9e2d9f-f311-41e4-9199-e4acf9338fa5"
   },
   "outputs": [],
   "source": [
    "df.referral.fillna(value='unknown', inplace=True)\n",
    "_ = df.referral.value_counts()"
   ]
  },
  {
   "cell_type": "code",
   "execution_count": 674,
   "metadata": {
    "colab": {
     "base_uri": "https://localhost:8080/",
     "height": 394
    },
    "colab_type": "code",
    "id": "lWxBMdNRjJOd",
    "outputId": "b745fc5d-88c9-442f-99ee-2da1241ffe9b"
   },
   "outputs": [
    {
     "data": {
      "text/plain": [
       "timestamp                     0\n",
       "gender                        0\n",
       "age                           0\n",
       "occupation                    0\n",
       "income_rm                     0\n",
       "visit_frequency               0\n",
       "most_used_service             0\n",
       "time_spent_per_visit          0\n",
       "distance_from_shop            0\n",
       "member                        0\n",
       "most_purchased_item           0\n",
       "average_amount_spent_rm       0\n",
       "brand_rating_comparison       0\n",
       "price_rating                  0\n",
       "sales_promotions_influence    0\n",
       "ambience_rating               0\n",
       "wifi_rating                   0\n",
       "service_rating                0\n",
       "preferred_social_hangout      0\n",
       "referral                      0\n",
       "continued_patronage           0\n",
       "dtype: int64"
      ]
     },
     "execution_count": 674,
     "metadata": {},
     "output_type": "execute_result"
    }
   ],
   "source": [
    "df.isnull().sum()"
   ]
  },
  {
   "cell_type": "markdown",
   "metadata": {},
   "source": [
    "## Data Visualizations"
   ]
  },
  {
   "cell_type": "markdown",
   "metadata": {},
   "source": [
    "Firstly, I import my preferred libraries for this data visualizaition exercise. Seaborn is particularly a choice because of its minimal code and aesthetics. "
   ]
  },
  {
   "cell_type": "code",
   "execution_count": 675,
   "metadata": {},
   "outputs": [],
   "source": [
    "import matplotlib.pyplot as plt\n",
    "%matplotlib inline\n",
    "plt.rcParams[\"figure.figsize\"] = (6,4)"
   ]
  },
  {
   "cell_type": "code",
   "execution_count": 676,
   "metadata": {},
   "outputs": [],
   "source": [
    "import seaborn as sns\n",
    "sns.set(style=\"whitegrid\")"
   ]
  },
  {
   "cell_type": "markdown",
   "metadata": {},
   "source": [
    "### Target Field"
   ]
  },
  {
   "cell_type": "markdown",
   "metadata": {},
   "source": [
    "Let's get a feel of the Starbucks responses and visualize the various distributions."
   ]
  },
  {
   "cell_type": "code",
   "execution_count": 677,
   "metadata": {
    "scrolled": false
   },
   "outputs": [
    {
     "data": {
      "image/png": "[encoded data removed]",
      "text/plain": [
       "<Figure size 432x288 with 1 Axes>"
      ]
     },
     "metadata": {},
     "output_type": "display_data"
    }
   ],
   "source": [
    "_ = sns.countplot(x='continued_patronage', \n",
    "                  data=df, \n",
    "                  order=df.continued_patronage.value_counts().index, \n",
    "                  palette='Set2')"
   ]
  },
  {
   "cell_type": "markdown",
   "metadata": {},
   "source": [
    "### Age"
   ]
  },
  {
   "cell_type": "code",
   "execution_count": 678,
   "metadata": {},
   "outputs": [
    {
     "data": {
      "image/png": "[encoded data removed]",
      "text/plain": [
       "<Figure size 432x288 with 1 Axes>"
      ]
     },
     "metadata": {},
     "output_type": "display_data"
    }
   ],
   "source": [
    "h = sns.countplot(x='age', \n",
    "                  hue='continued_patronage', \n",
    "                  data=df, \n",
    "                  order=df.age.value_counts().index, \n",
    "                  palette='Set2')\n",
    "_ = h.set_xticklabels(h.get_xticklabels())"
   ]
  },
  {
   "cell_type": "markdown",
   "metadata": {},
   "source": [
    "### Occupation"
   ]
  },
  {
   "cell_type": "code",
   "execution_count": 679,
   "metadata": {},
   "outputs": [
    {
     "data": {
      "image/png": "[encoded data removed]",
      "text/plain": [
       "<Figure size 432x288 with 1 Axes>"
      ]
     },
     "metadata": {},
     "output_type": "display_data"
    }
   ],
   "source": [
    "h = sns.countplot(x='occupation', \n",
    "                  hue='continued_patronage', \n",
    "                  data=df, \n",
    "                  order=df.occupation.value_counts().index, \n",
    "                  palette='Set2')\n",
    "_ = h.set_xticklabels(h.get_xticklabels(),)"
   ]
  },
  {
   "cell_type": "markdown",
   "metadata": {},
   "source": [
    "### Income"
   ]
  },
  {
   "cell_type": "code",
   "execution_count": 680,
   "metadata": {},
   "outputs": [
    {
     "data": {
      "image/png": "[encoded data removed]",
      "text/plain": [
       "<Figure size 432x288 with 1 Axes>"
      ]
     },
     "metadata": {},
     "output_type": "display_data"
    }
   ],
   "source": [
    "h = sns.countplot(x='income_rm', \n",
    "                  hue='continued_patronage', \n",
    "                  data=df, order=df.income_rm.value_counts().index, \n",
    "                  palette='Set2')\n",
    "_ = h.set_xticklabels(h.get_xticklabels(), rotation=45, horizontalalignment='right')"
   ]
  },
  {
   "cell_type": "markdown",
   "metadata": {},
   "source": [
    "### Gender"
   ]
  },
  {
   "cell_type": "code",
   "execution_count": 681,
   "metadata": {},
   "outputs": [
    {
     "data": {
      "image/png": "[encoded data removed]",
      "text/plain": [
       "<Figure size 432x288 with 1 Axes>"
      ]
     },
     "metadata": {},
     "output_type": "display_data"
    }
   ],
   "source": [
    "h = sns.countplot(x='gender', \n",
    "                  hue='continued_patronage', \n",
    "                  data=df, \n",
    "                  order=df.gender.value_counts().index, \n",
    "                  palette='Set2')\n",
    "_ = h.set_xticklabels(h.get_xticklabels())"
   ]
  },
  {
   "cell_type": "markdown",
   "metadata": {},
   "source": [
    "It turns out that most of the regular customers are within the age of 20 - 29 and our least amount is from the 40 and above age range. We need to find out what categories of people comprise this 20 -29 age group. In order to do this, I filter the dataset to only include those that fall within the range of 20 - 29."
   ]
  },
  {
   "cell_type": "code",
   "execution_count": 682,
   "metadata": {},
   "outputs": [],
   "source": [
    "filter_boolean = (df['age']=='From 20 to 29')\n",
    "only_age_20_29 = df[filter_boolean]"
   ]
  },
  {
   "cell_type": "markdown",
   "metadata": {},
   "source": [
    "Get a glimpse of how the new dataset looks."
   ]
  },
  {
   "cell_type": "code",
   "execution_count": 683,
   "metadata": {
    "scrolled": true
   },
   "outputs": [],
   "source": [
    "_ = only_age_20_29.head()"
   ]
  },
  {
   "cell_type": "markdown",
   "metadata": {},
   "source": [
    "Now that we have the new data set, we'll plot the age group 20-29 against Occupation, Income and Gender to see the kind of people that make of majority of Starbuck's retained customers."
   ]
  },
  {
   "cell_type": "code",
   "execution_count": 684,
   "metadata": {
    "scrolled": false
   },
   "outputs": [
    {
     "data": {
      "image/png": "[encoded data removed]",
      "text/plain": [
       "<Figure size 1440x432 with 3 Axes>"
      ]
     },
     "metadata": {},
     "output_type": "display_data"
    }
   ],
   "source": [
    "fig, axs = plt.subplots(ncols=3, figsize=(20, 6))\n",
    "\n",
    "_ = sns.countplot(x='occupation', hue='continued_patronage', data=only_age_20_29, order=only_age_20_29.occupation.value_counts().index, ax=axs[0], palette='Set2')\n",
    "g = sns.countplot(x='income_rm', hue='continued_patronage', data=only_age_20_29, order=only_age_20_29.income_rm.value_counts().index, ax=axs[1], palette='Set2')\n",
    "_ = sns.countplot(x='gender', hue='continued_patronage', data=only_age_20_29, order=only_age_20_29.gender.value_counts().index, ax=axs[2], palette='Set2')\n",
    "\n",
    "g.set_xticklabels(g.get_xticklabels(), horizontalalignment='right', rotation=45)\n",
    "\n",
    "fig.suptitle('From 20 to 29', position=(.5,1.1), fontsize=20)\n",
    "fig.tight_layout()"
   ]
  },
  {
   "cell_type": "markdown",
   "metadata": {},
   "source": [
    "## Some more data visualisations"
   ]
  },
  {
   "cell_type": "markdown",
   "metadata": {},
   "source": [
    "### 1. Pricing Rating\n",
    "Let's see how many people reacted to the pricing of Starbucks products"
   ]
  },
  {
   "cell_type": "code",
   "execution_count": 685,
   "metadata": {},
   "outputs": [
    {
     "data": {
      "image/png": "[encoded data removed]",
      "text/plain": [
       "<Figure size 432x288 with 1 Axes>"
      ]
     },
     "metadata": {},
     "output_type": "display_data"
    }
   ],
   "source": [
    "_ = sns.countplot(df.price_rating, hue=df.continued_patronage, palette='Set2')"
   ]
  },
  {
   "cell_type": "markdown",
   "metadata": {},
   "source": [
    "More customers in the dataset rate Starbucks prices as average. This rating is also given by most of the loyal customers.\n",
    "\n",
    "From the dataset, we also see an expected pattern. As the price rating decreased, the number of customers that opted out also increased. "
   ]
  },
  {
   "cell_type": "markdown",
   "metadata": {},
   "source": [
    "### 2. Distance of Shop\n",
    "Looking into how distance plays a role in the customer behavior"
   ]
  },
  {
   "cell_type": "code",
   "execution_count": 686,
   "metadata": {},
   "outputs": [
    {
     "data": {
      "image/png": "[encoded data removed]",
      "text/plain": [
       "<Figure size 432x288 with 1 Axes>"
      ]
     },
     "metadata": {},
     "output_type": "display_data"
    }
   ],
   "source": [
    "_ = sns.countplot(df['distance_from_shop'], hue=df.continued_patronage, palette='Set2')"
   ]
  },
  {
   "cell_type": "markdown",
   "metadata": {},
   "source": [
    "These results do not seem to follow normal logic at first glance as it indicates that loyal customers in the dataset frequent farther shops than closer ones. \n",
    "\n",
    "One expanation for this could be preference. These goes to show how loyal they are even down to the particular Starbucks shop. \n",
    "\n",
    "An expected trend is seen with non-patronizers in the dataset as their numbers increase with an increase in distance."
   ]
  },
  {
   "cell_type": "markdown",
   "metadata": {},
   "source": [
    "### 3. Starbucks Features and Services\n",
    "Looking into the adopted use case of the Starbucks shops"
   ]
  },
  {
   "cell_type": "markdown",
   "metadata": {},
   "source": [
    "1. Social Hangout"
   ]
  },
  {
   "cell_type": "code",
   "execution_count": 687,
   "metadata": {},
   "outputs": [
    {
     "data": {
      "image/png": "[encoded data removed]",
      "text/plain": [
       "<Figure size 432x288 with 1 Axes>"
      ]
     },
     "metadata": {},
     "output_type": "display_data"
    }
   ],
   "source": [
    "_ = sns.countplot(df.preferred_social_hangout, hue=df.continued_patronage, palette='Set2')"
   ]
  },
  {
   "cell_type": "markdown",
   "metadata": {},
   "source": [
    "Loyal customers from the dataset seem to prefer Starbucks as a social zone only averagely. More of the one-time customers seem to portray the same attitude."
   ]
  },
  {
   "cell_type": "markdown",
   "metadata": {},
   "source": [
    "2. Most Used Service"
   ]
  },
  {
   "cell_type": "code",
   "execution_count": 688,
   "metadata": {},
   "outputs": [
    {
     "data": {
      "image/png": "[encoded data removed]",
      "text/plain": [
       "<Figure size 432x288 with 1 Axes>"
      ]
     },
     "metadata": {},
     "output_type": "display_data"
    }
   ],
   "source": [
    "_ = sns.countplot(df.most_used_service, hue=df.continued_patronage, palette='Set2')"
   ]
  },
  {
   "cell_type": "markdown",
   "metadata": {},
   "source": [
    "Seems more customers in the dataset prefer the Dine in and take away services more compared with other services. Most loyal customers in there also opted for the take away service. \n",
    "\n",
    "Looking deeper into this behavior of loyal customers:"
   ]
  },
  {
   "cell_type": "code",
   "execution_count": 689,
   "metadata": {},
   "outputs": [
    {
     "data": {
      "image/png": "[encoded data removed]",
      "text/plain": [
       "<Figure size 1584x324 with 4 Axes>"
      ]
     },
     "metadata": {},
     "output_type": "display_data"
    }
   ],
   "source": [
    "fig, axs = plt.subplots(ncols=4, figsize=(22, 4.5))\n",
    "\n",
    "g = sns.countplot(df.most_used_service[df.occupation == 'Employed'], hue=df.continued_patronage, palette='Set2', ax=axs[0])\n",
    "_ = g.set_xlabel('Employed')\n",
    "h = sns.countplot(df.most_used_service[df.occupation == 'Student'], hue=df.continued_patronage, palette='Set2', ax=axs[1])\n",
    "_ = h.set_xlabel('Student')\n",
    "i = sns.countplot(df.most_used_service[df.occupation == 'Self-employed'], hue=df.continued_patronage, palette='Set2', ax=axs[2])\n",
    "_ = i.set_xlabel('Self-Employed')\n",
    "j = sns.countplot(df.most_used_service[df.occupation == 'Housewife'], hue=df.continued_patronage, palette='Set2', ax=axs[3])\n",
    "_ = j.set_xlabel('Housewives')"
   ]
  },
  {
   "cell_type": "markdown",
   "metadata": {},
   "source": [
    "We can see that loyal customers in the dataset that are employed contribute the most to the take away service. This behaviour can be expected as employees often utilize coffee to keep awake during work. \n",
    "\n",
    "Also, as at the time of the survey, majority of employees worked from an office which required them to be physically present at the venue. Hence a takeaway is more appropriate. However, with the advent of the lockdown in 2020, the mindset of compulsory office hours is starting to dwindle, and is gradually being replaced with a more remote approach.\n",
    "\n",
    "We also see that students in the dataset utilize the Dine in service more than the Employed customers. This is expected as students are more flexible with work and have more opportunity to work remotely given the nature of their tasks such as assignments, term papers, thesis etc. all of such that can most times be done from the comfort of almost anywhere.\n",
    "\n",
    "Looking at the choice os social hangouts by Starbucks shops by students:"
   ]
  },
  {
   "cell_type": "code",
   "execution_count": 690,
   "metadata": {},
   "outputs": [
    {
     "data": {
      "image/png": "[encoded data removed]",
      "text/plain": [
       "<Figure size 432x288 with 1 Axes>"
      ]
     },
     "metadata": {},
     "output_type": "display_data"
    }
   ],
   "source": [
    "_ = sns.countplot(df.preferred_social_hangout[df.occupation == 'Student'], hue=df.continued_patronage, palette='Set2')"
   ]
  },
  {
   "cell_type": "markdown",
   "metadata": {},
   "source": [
    "We see that in the dataset, students averagely prefer to hang out at Starbucks. This puts more perpective as to why more students patronize the dine in service."
   ]
  },
  {
   "cell_type": "markdown",
   "metadata": {},
   "source": [
    "### 4. Sales Promotion\n",
    "Checking how much sales promotions influenced user behaviour"
   ]
  },
  {
   "cell_type": "code",
   "execution_count": 691,
   "metadata": {},
   "outputs": [
    {
     "data": {
      "image/png": "[encoded data removed]",
      "text/plain": [
       "<Figure size 432x288 with 1 Axes>"
      ]
     },
     "metadata": {},
     "output_type": "display_data"
    }
   ],
   "source": [
    "_ = sns.countplot(df.sales_promotions_influence, hue=df.continued_patronage, palette='Set2')"
   ]
  },
  {
   "cell_type": "markdown",
   "metadata": {},
   "source": [
    "From the dataset, we see that an increment in sales promotions corresponds with an increment count of loyal customers. This is also true for one-time customers."
   ]
  },
  {
   "cell_type": "markdown",
   "metadata": {
    "colab_type": "text",
    "id": "ef7kidX0jJOg"
   },
   "source": [
    "## Dummy Coding"
   ]
  },
  {
   "cell_type": "markdown",
   "metadata": {
    "colab_type": "text",
    "id": "NEMP6sG-jJOg"
   },
   "source": [
    "Exploring the various datatypes"
   ]
  },
  {
   "cell_type": "code",
   "execution_count": 692,
   "metadata": {
    "colab": {
     "base_uri": "https://localhost:8080/",
     "height": 394
    },
    "colab_type": "code",
    "id": "Tz6ZiNldjJOh",
    "outputId": "fae8979f-1190-4315-8bf1-3ea55e775397"
   },
   "outputs": [
    {
     "data": {
      "text/plain": [
       "timestamp                     object\n",
       "gender                        object\n",
       "age                           object\n",
       "occupation                    object\n",
       "income_rm                     object\n",
       "visit_frequency               object\n",
       "most_used_service             object\n",
       "time_spent_per_visit          object\n",
       "distance_from_shop            object\n",
       "member                        object\n",
       "most_purchased_item           object\n",
       "average_amount_spent_rm       object\n",
       "brand_rating_comparison        int64\n",
       "price_rating                   int64\n",
       "sales_promotions_influence     int64\n",
       "ambience_rating                int64\n",
       "wifi_rating                    int64\n",
       "service_rating                 int64\n",
       "preferred_social_hangout       int64\n",
       "referral                      object\n",
       "continued_patronage           object\n",
       "dtype: object"
      ]
     },
     "execution_count": 692,
     "metadata": {},
     "output_type": "execute_result"
    }
   ],
   "source": [
    "df.dtypes"
   ]
  },
  {
   "cell_type": "markdown",
   "metadata": {
    "colab_type": "text",
    "id": "xYIpHLQLjJOj"
   },
   "source": [
    "We apply dummy coding to features that are not interval/ratio or ordinal data (i.e 'object' datatype)"
   ]
  },
  {
   "cell_type": "markdown",
   "metadata": {
    "colab_type": "text",
    "id": "npBxxAPWjJOk"
   },
   "source": [
    "- Gender"
   ]
  },
  {
   "cell_type": "code",
   "execution_count": 693,
   "metadata": {
    "colab": {
     "base_uri": "https://localhost:8080/",
     "height": 68
    },
    "colab_type": "code",
    "id": "ieDjwE_LjJOl",
    "outputId": "9c3c672d-6c5e-4773-8f4b-dff26bc56f89"
   },
   "outputs": [
    {
     "data": {
      "text/plain": [
       "Female    65\n",
       "Male      57\n",
       "Name: gender, dtype: int64"
      ]
     },
     "execution_count": 693,
     "metadata": {},
     "output_type": "execute_result"
    }
   ],
   "source": [
    "df.gender.value_counts()"
   ]
  },
  {
   "cell_type": "code",
   "execution_count": 694,
   "metadata": {
    "colab": {
     "base_uri": "https://localhost:8080/",
     "height": 203
    },
    "colab_type": "code",
    "id": "a-eY_2N-jJOp",
    "outputId": "9ca288b6-ec11-4fd4-c115-d44f43c1dc20"
   },
   "outputs": [
    {
     "data": {
      "text/html": [
       "<div>\n",
       "<style scoped>\n",
       "    .dataframe tbody tr th:only-of-type {\n",
       "        vertical-align: middle;\n",
       "    }\n",
       "\n",
       "    .dataframe tbody tr th {\n",
       "        vertical-align: top;\n",
       "    }\n",
       "\n",
       "    .dataframe thead th {\n",
       "        text-align: right;\n",
       "    }\n",
       "</style>\n",
       "<table border=\"1\" class=\"dataframe\">\n",
       "  <thead>\n",
       "    <tr style=\"text-align: right;\">\n",
       "      <th></th>\n",
       "      <th>Female</th>\n",
       "      <th>Male</th>\n",
       "    </tr>\n",
       "  </thead>\n",
       "  <tbody>\n",
       "    <tr>\n",
       "      <th>0</th>\n",
       "      <td>1</td>\n",
       "      <td>0</td>\n",
       "    </tr>\n",
       "    <tr>\n",
       "      <th>1</th>\n",
       "      <td>1</td>\n",
       "      <td>0</td>\n",
       "    </tr>\n",
       "    <tr>\n",
       "      <th>2</th>\n",
       "      <td>0</td>\n",
       "      <td>1</td>\n",
       "    </tr>\n",
       "    <tr>\n",
       "      <th>3</th>\n",
       "      <td>1</td>\n",
       "      <td>0</td>\n",
       "    </tr>\n",
       "    <tr>\n",
       "      <th>4</th>\n",
       "      <td>0</td>\n",
       "      <td>1</td>\n",
       "    </tr>\n",
       "  </tbody>\n",
       "</table>\n",
       "</div>"
      ],
      "text/plain": [
       "   Female  Male\n",
       "0       1     0\n",
       "1       1     0\n",
       "2       0     1\n",
       "3       1     0\n",
       "4       0     1"
      ]
     },
     "execution_count": 694,
     "metadata": {},
     "output_type": "execute_result"
    }
   ],
   "source": [
    "gender_dummy = pd.get_dummies(df.gender)\n",
    "gender_dummy.head()"
   ]
  },
  {
   "cell_type": "markdown",
   "metadata": {
    "colab_type": "text",
    "id": "pUoEyNIojJOr"
   },
   "source": [
    "I think 'Male' and 'Female' are pretty self-explanatory and hence would leave out the 'gender_' prefix."
   ]
  },
  {
   "cell_type": "markdown",
   "metadata": {
    "colab_type": "text",
    "id": "jpleHhjGjJOs"
   },
   "source": [
    "- Age"
   ]
  },
  {
   "cell_type": "code",
   "execution_count": 695,
   "metadata": {
    "colab": {
     "base_uri": "https://localhost:8080/",
     "height": 203
    },
    "colab_type": "code",
    "id": "F8nhcMqijJOt",
    "outputId": "ce43f346-bc07-418f-f884-25c9810e102a"
   },
   "outputs": [
    {
     "data": {
      "text/html": [
       "<div>\n",
       "<style scoped>\n",
       "    .dataframe tbody tr th:only-of-type {\n",
       "        vertical-align: middle;\n",
       "    }\n",
       "\n",
       "    .dataframe tbody tr th {\n",
       "        vertical-align: top;\n",
       "    }\n",
       "\n",
       "    .dataframe thead th {\n",
       "        text-align: right;\n",
       "    }\n",
       "</style>\n",
       "<table border=\"1\" class=\"dataframe\">\n",
       "  <thead>\n",
       "    <tr style=\"text-align: right;\">\n",
       "      <th></th>\n",
       "      <th>40 and above</th>\n",
       "      <th>Below 20</th>\n",
       "      <th>From 20 to 29</th>\n",
       "      <th>From 30 to 39</th>\n",
       "    </tr>\n",
       "  </thead>\n",
       "  <tbody>\n",
       "    <tr>\n",
       "      <th>0</th>\n",
       "      <td>0</td>\n",
       "      <td>0</td>\n",
       "      <td>1</td>\n",
       "      <td>0</td>\n",
       "    </tr>\n",
       "    <tr>\n",
       "      <th>1</th>\n",
       "      <td>0</td>\n",
       "      <td>0</td>\n",
       "      <td>1</td>\n",
       "      <td>0</td>\n",
       "    </tr>\n",
       "    <tr>\n",
       "      <th>2</th>\n",
       "      <td>0</td>\n",
       "      <td>0</td>\n",
       "      <td>1</td>\n",
       "      <td>0</td>\n",
       "    </tr>\n",
       "    <tr>\n",
       "      <th>3</th>\n",
       "      <td>0</td>\n",
       "      <td>0</td>\n",
       "      <td>1</td>\n",
       "      <td>0</td>\n",
       "    </tr>\n",
       "    <tr>\n",
       "      <th>4</th>\n",
       "      <td>0</td>\n",
       "      <td>0</td>\n",
       "      <td>1</td>\n",
       "      <td>0</td>\n",
       "    </tr>\n",
       "  </tbody>\n",
       "</table>\n",
       "</div>"
      ],
      "text/plain": [
       "   40 and above  Below 20  From 20 to 29  From 30 to 39\n",
       "0             0         0              1              0\n",
       "1             0         0              1              0\n",
       "2             0         0              1              0\n",
       "3             0         0              1              0\n",
       "4             0         0              1              0"
      ]
     },
     "execution_count": 695,
     "metadata": {},
     "output_type": "execute_result"
    }
   ],
   "source": [
    "age_dummy = pd.get_dummies(df.age)\n",
    "age_dummy.head()"
   ]
  },
  {
   "cell_type": "markdown",
   "metadata": {
    "colab_type": "text",
    "id": "37n8M72OjJOv"
   },
   "source": [
    "Adding the 'age_' prefixes to each subgroup"
   ]
  },
  {
   "cell_type": "code",
   "execution_count": 696,
   "metadata": {
    "colab": {
     "base_uri": "https://localhost:8080/",
     "height": 203
    },
    "colab_type": "code",
    "id": "1JhcW5eCjJOv",
    "outputId": "995eccb0-be55-475a-f500-118e995a1ad8"
   },
   "outputs": [
    {
     "data": {
      "text/html": [
       "<div>\n",
       "<style scoped>\n",
       "    .dataframe tbody tr th:only-of-type {\n",
       "        vertical-align: middle;\n",
       "    }\n",
       "\n",
       "    .dataframe tbody tr th {\n",
       "        vertical-align: top;\n",
       "    }\n",
       "\n",
       "    .dataframe thead th {\n",
       "        text-align: right;\n",
       "    }\n",
       "</style>\n",
       "<table border=\"1\" class=\"dataframe\">\n",
       "  <thead>\n",
       "    <tr style=\"text-align: right;\">\n",
       "      <th></th>\n",
       "      <th>age_40 and above</th>\n",
       "      <th>age_Below 20</th>\n",
       "      <th>age_From 20 to 29</th>\n",
       "      <th>age_From 30 to 39</th>\n",
       "    </tr>\n",
       "  </thead>\n",
       "  <tbody>\n",
       "    <tr>\n",
       "      <th>0</th>\n",
       "      <td>0</td>\n",
       "      <td>0</td>\n",
       "      <td>1</td>\n",
       "      <td>0</td>\n",
       "    </tr>\n",
       "    <tr>\n",
       "      <th>1</th>\n",
       "      <td>0</td>\n",
       "      <td>0</td>\n",
       "      <td>1</td>\n",
       "      <td>0</td>\n",
       "    </tr>\n",
       "    <tr>\n",
       "      <th>2</th>\n",
       "      <td>0</td>\n",
       "      <td>0</td>\n",
       "      <td>1</td>\n",
       "      <td>0</td>\n",
       "    </tr>\n",
       "    <tr>\n",
       "      <th>3</th>\n",
       "      <td>0</td>\n",
       "      <td>0</td>\n",
       "      <td>1</td>\n",
       "      <td>0</td>\n",
       "    </tr>\n",
       "    <tr>\n",
       "      <th>4</th>\n",
       "      <td>0</td>\n",
       "      <td>0</td>\n",
       "      <td>1</td>\n",
       "      <td>0</td>\n",
       "    </tr>\n",
       "  </tbody>\n",
       "</table>\n",
       "</div>"
      ],
      "text/plain": [
       "   age_40 and above  age_Below 20  age_From 20 to 29  age_From 30 to 39\n",
       "0                 0             0                  1                  0\n",
       "1                 0             0                  1                  0\n",
       "2                 0             0                  1                  0\n",
       "3                 0             0                  1                  0\n",
       "4                 0             0                  1                  0"
      ]
     },
     "execution_count": 696,
     "metadata": {},
     "output_type": "execute_result"
    }
   ],
   "source": [
    "age_dummy.columns = ['age_'+col for col in age_dummy.columns]\n",
    "age_dummy.head()"
   ]
  },
  {
   "cell_type": "markdown",
   "metadata": {
    "colab_type": "text",
    "id": "laJlQI62jJOy"
   },
   "source": [
    "Great, now to speed up the process..."
   ]
  },
  {
   "cell_type": "markdown",
   "metadata": {
    "colab_type": "text",
    "id": "ymfPYOGajJOy"
   },
   "source": [
    "- Occupation"
   ]
  },
  {
   "cell_type": "code",
   "execution_count": 697,
   "metadata": {
    "colab": {
     "base_uri": "https://localhost:8080/",
     "height": 203
    },
    "colab_type": "code",
    "id": "5ckdTaWsjJOz",
    "outputId": "decad94a-71ec-4851-a991-76dcf2834703"
   },
   "outputs": [
    {
     "data": {
      "text/html": [
       "<div>\n",
       "<style scoped>\n",
       "    .dataframe tbody tr th:only-of-type {\n",
       "        vertical-align: middle;\n",
       "    }\n",
       "\n",
       "    .dataframe tbody tr th {\n",
       "        vertical-align: top;\n",
       "    }\n",
       "\n",
       "    .dataframe thead th {\n",
       "        text-align: right;\n",
       "    }\n",
       "</style>\n",
       "<table border=\"1\" class=\"dataframe\">\n",
       "  <thead>\n",
       "    <tr style=\"text-align: right;\">\n",
       "      <th></th>\n",
       "      <th>occupation_Employed</th>\n",
       "      <th>occupation_Housewife</th>\n",
       "      <th>occupation_Self-employed</th>\n",
       "      <th>occupation_Student</th>\n",
       "    </tr>\n",
       "  </thead>\n",
       "  <tbody>\n",
       "    <tr>\n",
       "      <th>0</th>\n",
       "      <td>0</td>\n",
       "      <td>0</td>\n",
       "      <td>0</td>\n",
       "      <td>1</td>\n",
       "    </tr>\n",
       "    <tr>\n",
       "      <th>1</th>\n",
       "      <td>0</td>\n",
       "      <td>0</td>\n",
       "      <td>0</td>\n",
       "      <td>1</td>\n",
       "    </tr>\n",
       "    <tr>\n",
       "      <th>2</th>\n",
       "      <td>1</td>\n",
       "      <td>0</td>\n",
       "      <td>0</td>\n",
       "      <td>0</td>\n",
       "    </tr>\n",
       "    <tr>\n",
       "      <th>3</th>\n",
       "      <td>0</td>\n",
       "      <td>0</td>\n",
       "      <td>0</td>\n",
       "      <td>1</td>\n",
       "    </tr>\n",
       "    <tr>\n",
       "      <th>4</th>\n",
       "      <td>0</td>\n",
       "      <td>0</td>\n",
       "      <td>0</td>\n",
       "      <td>1</td>\n",
       "    </tr>\n",
       "  </tbody>\n",
       "</table>\n",
       "</div>"
      ],
      "text/plain": [
       "   occupation_Employed  occupation_Housewife  occupation_Self-employed  \\\n",
       "0                    0                     0                         0   \n",
       "1                    0                     0                         0   \n",
       "2                    1                     0                         0   \n",
       "3                    0                     0                         0   \n",
       "4                    0                     0                         0   \n",
       "\n",
       "   occupation_Student  \n",
       "0                   1  \n",
       "1                   1  \n",
       "2                   0  \n",
       "3                   1  \n",
       "4                   1  "
      ]
     },
     "execution_count": 697,
     "metadata": {},
     "output_type": "execute_result"
    }
   ],
   "source": [
    "occupation_dummy = pd.get_dummies(df.occupation)\n",
    "occupation_dummy.columns = ['occupation_'+col \n",
    "                            for col in occupation_dummy.columns]\n",
    "occupation_dummy.head()"
   ]
  },
  {
   "cell_type": "markdown",
   "metadata": {
    "colab_type": "text",
    "id": "nnxGoGa1jJO1"
   },
   "source": [
    "- Income"
   ]
  },
  {
   "cell_type": "code",
   "execution_count": 698,
   "metadata": {
    "colab": {
     "base_uri": "https://localhost:8080/",
     "height": 203
    },
    "colab_type": "code",
    "id": "c2rK_yNjjJO1",
    "outputId": "02abf913-6952-4a32-a125-2e29d720acd7"
   },
   "outputs": [
    {
     "data": {
      "text/html": [
       "<div>\n",
       "<style scoped>\n",
       "    .dataframe tbody tr th:only-of-type {\n",
       "        vertical-align: middle;\n",
       "    }\n",
       "\n",
       "    .dataframe tbody tr th {\n",
       "        vertical-align: top;\n",
       "    }\n",
       "\n",
       "    .dataframe thead th {\n",
       "        text-align: right;\n",
       "    }\n",
       "</style>\n",
       "<table border=\"1\" class=\"dataframe\">\n",
       "  <thead>\n",
       "    <tr style=\"text-align: right;\">\n",
       "      <th></th>\n",
       "      <th>income_Less than RM25,000</th>\n",
       "      <th>income_More than RM150,000</th>\n",
       "      <th>income_RM100,000 - RM150,000</th>\n",
       "      <th>income_RM25,000 - RM50,000</th>\n",
       "      <th>income_RM50,000 - RM100,000</th>\n",
       "    </tr>\n",
       "  </thead>\n",
       "  <tbody>\n",
       "    <tr>\n",
       "      <th>0</th>\n",
       "      <td>1</td>\n",
       "      <td>0</td>\n",
       "      <td>0</td>\n",
       "      <td>0</td>\n",
       "      <td>0</td>\n",
       "    </tr>\n",
       "    <tr>\n",
       "      <th>1</th>\n",
       "      <td>1</td>\n",
       "      <td>0</td>\n",
       "      <td>0</td>\n",
       "      <td>0</td>\n",
       "      <td>0</td>\n",
       "    </tr>\n",
       "    <tr>\n",
       "      <th>2</th>\n",
       "      <td>1</td>\n",
       "      <td>0</td>\n",
       "      <td>0</td>\n",
       "      <td>0</td>\n",
       "      <td>0</td>\n",
       "    </tr>\n",
       "    <tr>\n",
       "      <th>3</th>\n",
       "      <td>1</td>\n",
       "      <td>0</td>\n",
       "      <td>0</td>\n",
       "      <td>0</td>\n",
       "      <td>0</td>\n",
       "    </tr>\n",
       "    <tr>\n",
       "      <th>4</th>\n",
       "      <td>1</td>\n",
       "      <td>0</td>\n",
       "      <td>0</td>\n",
       "      <td>0</td>\n",
       "      <td>0</td>\n",
       "    </tr>\n",
       "  </tbody>\n",
       "</table>\n",
       "</div>"
      ],
      "text/plain": [
       "   income_Less than RM25,000  income_More than RM150,000  \\\n",
       "0                          1                           0   \n",
       "1                          1                           0   \n",
       "2                          1                           0   \n",
       "3                          1                           0   \n",
       "4                          1                           0   \n",
       "\n",
       "   income_RM100,000 - RM150,000  income_RM25,000 - RM50,000  \\\n",
       "0                             0                           0   \n",
       "1                             0                           0   \n",
       "2                             0                           0   \n",
       "3                             0                           0   \n",
       "4                             0                           0   \n",
       "\n",
       "   income_RM50,000 - RM100,000  \n",
       "0                            0  \n",
       "1                            0  \n",
       "2                            0  \n",
       "3                            0  \n",
       "4                            0  "
      ]
     },
     "execution_count": 698,
     "metadata": {},
     "output_type": "execute_result"
    }
   ],
   "source": [
    "income_dummy = pd.get_dummies(df.income_rm)\n",
    "income_dummy.columns = ['income_'+col for col in income_dummy.columns]\n",
    "income_dummy.head()"
   ]
  },
  {
   "cell_type": "markdown",
   "metadata": {
    "colab_type": "text",
    "id": "pC7wT_-LjJO4"
   },
   "source": [
    "- Visit Frequency"
   ]
  },
  {
   "cell_type": "code",
   "execution_count": 699,
   "metadata": {
    "colab": {
     "base_uri": "https://localhost:8080/",
     "height": 203
    },
    "colab_type": "code",
    "id": "o96CRoujjJO4",
    "outputId": "9ebe480f-ed23-4aa2-b18c-e759d9314c80",
    "scrolled": false
   },
   "outputs": [
    {
     "data": {
      "text/html": [
       "<div>\n",
       "<style scoped>\n",
       "    .dataframe tbody tr th:only-of-type {\n",
       "        vertical-align: middle;\n",
       "    }\n",
       "\n",
       "    .dataframe tbody tr th {\n",
       "        vertical-align: top;\n",
       "    }\n",
       "\n",
       "    .dataframe thead th {\n",
       "        text-align: right;\n",
       "    }\n",
       "</style>\n",
       "<table border=\"1\" class=\"dataframe\">\n",
       "  <thead>\n",
       "    <tr style=\"text-align: right;\">\n",
       "      <th></th>\n",
       "      <th>visit_Daily</th>\n",
       "      <th>visit_Monthly</th>\n",
       "      <th>visit_Never</th>\n",
       "      <th>visit_Rarely</th>\n",
       "      <th>visit_Weekly</th>\n",
       "    </tr>\n",
       "  </thead>\n",
       "  <tbody>\n",
       "    <tr>\n",
       "      <th>0</th>\n",
       "      <td>0</td>\n",
       "      <td>0</td>\n",
       "      <td>0</td>\n",
       "      <td>1</td>\n",
       "      <td>0</td>\n",
       "    </tr>\n",
       "    <tr>\n",
       "      <th>1</th>\n",
       "      <td>0</td>\n",
       "      <td>0</td>\n",
       "      <td>0</td>\n",
       "      <td>1</td>\n",
       "      <td>0</td>\n",
       "    </tr>\n",
       "    <tr>\n",
       "      <th>2</th>\n",
       "      <td>0</td>\n",
       "      <td>1</td>\n",
       "      <td>0</td>\n",
       "      <td>0</td>\n",
       "      <td>0</td>\n",
       "    </tr>\n",
       "    <tr>\n",
       "      <th>3</th>\n",
       "      <td>0</td>\n",
       "      <td>0</td>\n",
       "      <td>0</td>\n",
       "      <td>1</td>\n",
       "      <td>0</td>\n",
       "    </tr>\n",
       "    <tr>\n",
       "      <th>4</th>\n",
       "      <td>0</td>\n",
       "      <td>1</td>\n",
       "      <td>0</td>\n",
       "      <td>0</td>\n",
       "      <td>0</td>\n",
       "    </tr>\n",
       "  </tbody>\n",
       "</table>\n",
       "</div>"
      ],
      "text/plain": [
       "   visit_Daily  visit_Monthly  visit_Never  visit_Rarely  visit_Weekly\n",
       "0            0              0            0             1             0\n",
       "1            0              0            0             1             0\n",
       "2            0              1            0             0             0\n",
       "3            0              0            0             1             0\n",
       "4            0              1            0             0             0"
      ]
     },
     "execution_count": 699,
     "metadata": {},
     "output_type": "execute_result"
    }
   ],
   "source": [
    "visit_frequency_dummy = pd.get_dummies(df.visit_frequency)\n",
    "visit_frequency_dummy.columns = ['visit_'+col \n",
    "                                 for col in visit_frequency_dummy.columns]\n",
    "visit_frequency_dummy.head()"
   ]
  },
  {
   "cell_type": "markdown",
   "metadata": {
    "colab_type": "text",
    "id": "u4-nmZVAjJO7"
   },
   "source": [
    "- Most Used Service"
   ]
  },
  {
   "cell_type": "code",
   "execution_count": 700,
   "metadata": {
    "colab": {
     "base_uri": "https://localhost:8080/",
     "height": 188
    },
    "colab_type": "code",
    "id": "wkK4U-cDjJO7",
    "outputId": "d6994d6d-e653-4f06-813d-e4066e5fb932"
   },
   "outputs": [
    {
     "data": {
      "text/plain": [
       "Take away             49\n",
       "Dine in               46\n",
       "Drive-thru            20\n",
       "never                  2\n",
       "unknown                1\n",
       "Never                  1\n",
       "Never                  1\n",
       "I dont like coffee     1\n",
       "Never buy              1\n",
       "Name: most_used_service, dtype: int64"
      ]
     },
     "execution_count": 700,
     "metadata": {},
     "output_type": "execute_result"
    }
   ],
   "source": [
    "df.most_used_service.value_counts()"
   ]
  },
  {
   "cell_type": "markdown",
   "metadata": {
    "colab_type": "text",
    "id": "M0Eco8NnjJO9"
   },
   "source": [
    "Merge all the negative replies into one, 'Never'"
   ]
  },
  {
   "cell_type": "code",
   "execution_count": 701,
   "metadata": {
    "colab": {
     "base_uri": "https://localhost:8080/",
     "height": 120
    },
    "colab_type": "code",
    "id": "x_8-IPXEjJO9",
    "outputId": "8736972d-be76-41d5-8947-50e8a3733d4e"
   },
   "outputs": [],
   "source": [
    "df.most_used_service.replace(to_replace={'Never ': 'Never',\n",
    "                                         'Never buy': 'Never', \n",
    "                                         'never': 'Never',\n",
    "                                         'I dont like coffee': 'Never'}, \n",
    "                             inplace=True)\n",
    "_ = df.most_used_service.value_counts()"
   ]
  },
  {
   "cell_type": "code",
   "execution_count": 702,
   "metadata": {
    "colab": {
     "base_uri": "https://localhost:8080/",
     "height": 203
    },
    "colab_type": "code",
    "id": "qz5GfayMjJPB",
    "outputId": "63cefdf2-d50c-4618-edda-e5cc958e0f32",
    "scrolled": true
   },
   "outputs": [
    {
     "data": {
      "text/html": [
       "<div>\n",
       "<style scoped>\n",
       "    .dataframe tbody tr th:only-of-type {\n",
       "        vertical-align: middle;\n",
       "    }\n",
       "\n",
       "    .dataframe tbody tr th {\n",
       "        vertical-align: top;\n",
       "    }\n",
       "\n",
       "    .dataframe thead th {\n",
       "        text-align: right;\n",
       "    }\n",
       "</style>\n",
       "<table border=\"1\" class=\"dataframe\">\n",
       "  <thead>\n",
       "    <tr style=\"text-align: right;\">\n",
       "      <th></th>\n",
       "      <th>most_used_Dine in</th>\n",
       "      <th>most_used_Drive-thru</th>\n",
       "      <th>most_used_Never</th>\n",
       "      <th>most_used_Take away</th>\n",
       "      <th>most_used_unknown</th>\n",
       "    </tr>\n",
       "  </thead>\n",
       "  <tbody>\n",
       "    <tr>\n",
       "      <th>0</th>\n",
       "      <td>1</td>\n",
       "      <td>0</td>\n",
       "      <td>0</td>\n",
       "      <td>0</td>\n",
       "      <td>0</td>\n",
       "    </tr>\n",
       "    <tr>\n",
       "      <th>1</th>\n",
       "      <td>0</td>\n",
       "      <td>0</td>\n",
       "      <td>0</td>\n",
       "      <td>1</td>\n",
       "      <td>0</td>\n",
       "    </tr>\n",
       "    <tr>\n",
       "      <th>2</th>\n",
       "      <td>1</td>\n",
       "      <td>0</td>\n",
       "      <td>0</td>\n",
       "      <td>0</td>\n",
       "      <td>0</td>\n",
       "    </tr>\n",
       "    <tr>\n",
       "      <th>3</th>\n",
       "      <td>0</td>\n",
       "      <td>0</td>\n",
       "      <td>0</td>\n",
       "      <td>1</td>\n",
       "      <td>0</td>\n",
       "    </tr>\n",
       "    <tr>\n",
       "      <th>4</th>\n",
       "      <td>0</td>\n",
       "      <td>0</td>\n",
       "      <td>0</td>\n",
       "      <td>1</td>\n",
       "      <td>0</td>\n",
       "    </tr>\n",
       "  </tbody>\n",
       "</table>\n",
       "</div>"
      ],
      "text/plain": [
       "   most_used_Dine in  most_used_Drive-thru  most_used_Never  \\\n",
       "0                  1                     0                0   \n",
       "1                  0                     0                0   \n",
       "2                  1                     0                0   \n",
       "3                  0                     0                0   \n",
       "4                  0                     0                0   \n",
       "\n",
       "   most_used_Take away  most_used_unknown  \n",
       "0                    0                  0  \n",
       "1                    1                  0  \n",
       "2                    0                  0  \n",
       "3                    1                  0  \n",
       "4                    1                  0  "
      ]
     },
     "execution_count": 702,
     "metadata": {},
     "output_type": "execute_result"
    }
   ],
   "source": [
    "most_used_service_dummy = pd.get_dummies(df.most_used_service)\n",
    "most_used_service_dummy.columns = ['most_used_'+col \n",
    "                                   for col in most_used_service_dummy.columns]\n",
    "most_used_service_dummy.head()"
   ]
  },
  {
   "cell_type": "markdown",
   "metadata": {
    "colab_type": "text",
    "id": "APqS3zmUjJPD"
   },
   "source": [
    "- Time Spent per visit"
   ]
  },
  {
   "cell_type": "code",
   "execution_count": 703,
   "metadata": {
    "colab": {
     "base_uri": "https://localhost:8080/",
     "height": 203
    },
    "colab_type": "code",
    "id": "tOC5oD8LjJPD",
    "outputId": "b2349536-9cd5-4a19-e634-9796dc5a7344"
   },
   "outputs": [
    {
     "data": {
      "text/html": [
       "<div>\n",
       "<style scoped>\n",
       "    .dataframe tbody tr th:only-of-type {\n",
       "        vertical-align: middle;\n",
       "    }\n",
       "\n",
       "    .dataframe tbody tr th {\n",
       "        vertical-align: top;\n",
       "    }\n",
       "\n",
       "    .dataframe thead th {\n",
       "        text-align: right;\n",
       "    }\n",
       "</style>\n",
       "<table border=\"1\" class=\"dataframe\">\n",
       "  <thead>\n",
       "    <tr style=\"text-align: right;\">\n",
       "      <th></th>\n",
       "      <th>time_spent_Below 30 minutes</th>\n",
       "      <th>time_spent_Between 1 hour to 2 hours</th>\n",
       "      <th>time_spent_Between 2 hours to 3 hours</th>\n",
       "      <th>time_spent_Between 30 minutes to 1 hour</th>\n",
       "      <th>time_spent_More than 3 hours</th>\n",
       "    </tr>\n",
       "  </thead>\n",
       "  <tbody>\n",
       "    <tr>\n",
       "      <th>0</th>\n",
       "      <td>0</td>\n",
       "      <td>0</td>\n",
       "      <td>0</td>\n",
       "      <td>1</td>\n",
       "      <td>0</td>\n",
       "    </tr>\n",
       "    <tr>\n",
       "      <th>1</th>\n",
       "      <td>1</td>\n",
       "      <td>0</td>\n",
       "      <td>0</td>\n",
       "      <td>0</td>\n",
       "      <td>0</td>\n",
       "    </tr>\n",
       "    <tr>\n",
       "      <th>2</th>\n",
       "      <td>0</td>\n",
       "      <td>0</td>\n",
       "      <td>0</td>\n",
       "      <td>1</td>\n",
       "      <td>0</td>\n",
       "    </tr>\n",
       "    <tr>\n",
       "      <th>3</th>\n",
       "      <td>1</td>\n",
       "      <td>0</td>\n",
       "      <td>0</td>\n",
       "      <td>0</td>\n",
       "      <td>0</td>\n",
       "    </tr>\n",
       "    <tr>\n",
       "      <th>4</th>\n",
       "      <td>0</td>\n",
       "      <td>0</td>\n",
       "      <td>0</td>\n",
       "      <td>1</td>\n",
       "      <td>0</td>\n",
       "    </tr>\n",
       "  </tbody>\n",
       "</table>\n",
       "</div>"
      ],
      "text/plain": [
       "   time_spent_Below 30 minutes  time_spent_Between 1 hour to 2 hours  \\\n",
       "0                            0                                     0   \n",
       "1                            1                                     0   \n",
       "2                            0                                     0   \n",
       "3                            1                                     0   \n",
       "4                            0                                     0   \n",
       "\n",
       "   time_spent_Between 2 hours to 3 hours  \\\n",
       "0                                      0   \n",
       "1                                      0   \n",
       "2                                      0   \n",
       "3                                      0   \n",
       "4                                      0   \n",
       "\n",
       "   time_spent_Between 30 minutes to 1 hour  time_spent_More than 3 hours  \n",
       "0                                        1                             0  \n",
       "1                                        0                             0  \n",
       "2                                        1                             0  \n",
       "3                                        0                             0  \n",
       "4                                        1                             0  "
      ]
     },
     "execution_count": 703,
     "metadata": {},
     "output_type": "execute_result"
    }
   ],
   "source": [
    "time_spent_per_visit_dummy = pd.get_dummies(df.time_spent_per_visit)\n",
    "time_spent_per_visit_dummy.columns = ['time_spent_'+col \n",
    "                                      for col in time_spent_per_visit_dummy.columns]\n",
    "time_spent_per_visit_dummy.head()"
   ]
  },
  {
   "cell_type": "markdown",
   "metadata": {
    "colab_type": "text",
    "id": "OPBGZwv-jJPF"
   },
   "source": [
    "- Distance from shop"
   ]
  },
  {
   "cell_type": "code",
   "execution_count": 704,
   "metadata": {
    "colab": {
     "base_uri": "https://localhost:8080/",
     "height": 203
    },
    "colab_type": "code",
    "id": "Ui0jIb47jJPG",
    "outputId": "55f2e0f2-7851-433a-8251-1d5aba406ddf"
   },
   "outputs": [
    {
     "data": {
      "text/html": [
       "<div>\n",
       "<style scoped>\n",
       "    .dataframe tbody tr th:only-of-type {\n",
       "        vertical-align: middle;\n",
       "    }\n",
       "\n",
       "    .dataframe tbody tr th {\n",
       "        vertical-align: top;\n",
       "    }\n",
       "\n",
       "    .dataframe thead th {\n",
       "        text-align: right;\n",
       "    }\n",
       "</style>\n",
       "<table border=\"1\" class=\"dataframe\">\n",
       "  <thead>\n",
       "    <tr style=\"text-align: right;\">\n",
       "      <th></th>\n",
       "      <th>distance_1km - 3km</th>\n",
       "      <th>distance_more than 3km</th>\n",
       "      <th>distance_within 1km</th>\n",
       "    </tr>\n",
       "  </thead>\n",
       "  <tbody>\n",
       "    <tr>\n",
       "      <th>0</th>\n",
       "      <td>0</td>\n",
       "      <td>0</td>\n",
       "      <td>1</td>\n",
       "    </tr>\n",
       "    <tr>\n",
       "      <th>1</th>\n",
       "      <td>1</td>\n",
       "      <td>0</td>\n",
       "      <td>0</td>\n",
       "    </tr>\n",
       "    <tr>\n",
       "      <th>2</th>\n",
       "      <td>0</td>\n",
       "      <td>1</td>\n",
       "      <td>0</td>\n",
       "    </tr>\n",
       "    <tr>\n",
       "      <th>3</th>\n",
       "      <td>0</td>\n",
       "      <td>1</td>\n",
       "      <td>0</td>\n",
       "    </tr>\n",
       "    <tr>\n",
       "      <th>4</th>\n",
       "      <td>1</td>\n",
       "      <td>0</td>\n",
       "      <td>0</td>\n",
       "    </tr>\n",
       "  </tbody>\n",
       "</table>\n",
       "</div>"
      ],
      "text/plain": [
       "   distance_1km - 3km  distance_more than 3km  distance_within 1km\n",
       "0                   0                       0                    1\n",
       "1                   1                       0                    0\n",
       "2                   0                       1                    0\n",
       "3                   0                       1                    0\n",
       "4                   1                       0                    0"
      ]
     },
     "execution_count": 704,
     "metadata": {},
     "output_type": "execute_result"
    }
   ],
   "source": [
    "distance_from_shop_dummy = pd.get_dummies(df.distance_from_shop)\n",
    "distance_from_shop_dummy.columns = ['distance_'+col \n",
    "                                    for col in distance_from_shop_dummy.columns]\n",
    "distance_from_shop_dummy.head()"
   ]
  },
  {
   "cell_type": "markdown",
   "metadata": {
    "colab_type": "text",
    "id": "ImNv4wZajJPI"
   },
   "source": [
    "- Member"
   ]
  },
  {
   "cell_type": "code",
   "execution_count": 705,
   "metadata": {
    "colab": {
     "base_uri": "https://localhost:8080/",
     "height": 203
    },
    "colab_type": "code",
    "id": "eHArSYGTjJPI",
    "outputId": "0ab0d2b1-652b-4288-fc60-e27362df6962"
   },
   "outputs": [
    {
     "data": {
      "text/html": [
       "<div>\n",
       "<style scoped>\n",
       "    .dataframe tbody tr th:only-of-type {\n",
       "        vertical-align: middle;\n",
       "    }\n",
       "\n",
       "    .dataframe tbody tr th {\n",
       "        vertical-align: top;\n",
       "    }\n",
       "\n",
       "    .dataframe thead th {\n",
       "        text-align: right;\n",
       "    }\n",
       "</style>\n",
       "<table border=\"1\" class=\"dataframe\">\n",
       "  <thead>\n",
       "    <tr style=\"text-align: right;\">\n",
       "      <th></th>\n",
       "      <th>is_member_No</th>\n",
       "      <th>is_member_Yes</th>\n",
       "    </tr>\n",
       "  </thead>\n",
       "  <tbody>\n",
       "    <tr>\n",
       "      <th>0</th>\n",
       "      <td>0</td>\n",
       "      <td>1</td>\n",
       "    </tr>\n",
       "    <tr>\n",
       "      <th>1</th>\n",
       "      <td>0</td>\n",
       "      <td>1</td>\n",
       "    </tr>\n",
       "    <tr>\n",
       "      <th>2</th>\n",
       "      <td>0</td>\n",
       "      <td>1</td>\n",
       "    </tr>\n",
       "    <tr>\n",
       "      <th>3</th>\n",
       "      <td>1</td>\n",
       "      <td>0</td>\n",
       "    </tr>\n",
       "    <tr>\n",
       "      <th>4</th>\n",
       "      <td>1</td>\n",
       "      <td>0</td>\n",
       "    </tr>\n",
       "  </tbody>\n",
       "</table>\n",
       "</div>"
      ],
      "text/plain": [
       "   is_member_No  is_member_Yes\n",
       "0             0              1\n",
       "1             0              1\n",
       "2             0              1\n",
       "3             1              0\n",
       "4             1              0"
      ]
     },
     "execution_count": 705,
     "metadata": {},
     "output_type": "execute_result"
    }
   ],
   "source": [
    "member_dummy = pd.get_dummies(df.member)\n",
    "member_dummy.columns = ['is_member_'+col for col in member_dummy.columns]\n",
    "member_dummy.head()"
   ]
  },
  {
   "cell_type": "markdown",
   "metadata": {
    "colab_type": "text",
    "id": "eTqgv3XEjJPL"
   },
   "source": [
    "- Most purchased item, this one is a little tricky."
   ]
  },
  {
   "cell_type": "code",
   "execution_count": 706,
   "metadata": {
    "colab": {
     "base_uri": "https://localhost:8080/",
     "height": 471
    },
    "colab_type": "code",
    "id": "444j7aHZjJPM",
    "outputId": "622fc42d-ec7f-4bae-fe4e-7c67a32ea340"
   },
   "outputs": [
    {
     "data": {
      "text/html": [
       "<div>\n",
       "<style scoped>\n",
       "    .dataframe tbody tr th:only-of-type {\n",
       "        vertical-align: middle;\n",
       "    }\n",
       "\n",
       "    .dataframe tbody tr th {\n",
       "        vertical-align: top;\n",
       "    }\n",
       "\n",
       "    .dataframe thead th {\n",
       "        text-align: right;\n",
       "    }\n",
       "</style>\n",
       "<table border=\"1\" class=\"dataframe\">\n",
       "  <thead>\n",
       "    <tr style=\"text-align: right;\">\n",
       "      <th></th>\n",
       "      <th>Coffee</th>\n",
       "      <th>Coffee;Cold drinks</th>\n",
       "      <th>Coffee;Cold drinks;Juices;Pastries;Sandwiches</th>\n",
       "      <th>Coffee;Cold drinks;Pastries;Sandwiches</th>\n",
       "      <th>Coffee;Juices;Pastries;Sandwiches</th>\n",
       "      <th>Coffee;Pastries</th>\n",
       "      <th>Coffee;Pastries;Sandwiches</th>\n",
       "      <th>Coffee;Sandwiches</th>\n",
       "      <th>Cold drinks</th>\n",
       "      <th>Cold drinks;Juices;Pastries</th>\n",
       "      <th>Cold drinks;Never</th>\n",
       "      <th>Cold drinks;Pastries</th>\n",
       "      <th>Cold drinks;Pastries;Sandwiches</th>\n",
       "      <th>Jaws chip</th>\n",
       "      <th>Never</th>\n",
       "      <th>Never buy any</th>\n",
       "      <th>Nothing</th>\n",
       "      <th>Pastries</th>\n",
       "      <th>cake</th>\n",
       "      <th>never</th>\n",
       "    </tr>\n",
       "  </thead>\n",
       "  <tbody>\n",
       "    <tr>\n",
       "      <th>0</th>\n",
       "      <td>1</td>\n",
       "      <td>0</td>\n",
       "      <td>0</td>\n",
       "      <td>0</td>\n",
       "      <td>0</td>\n",
       "      <td>0</td>\n",
       "      <td>0</td>\n",
       "      <td>0</td>\n",
       "      <td>0</td>\n",
       "      <td>0</td>\n",
       "      <td>0</td>\n",
       "      <td>0</td>\n",
       "      <td>0</td>\n",
       "      <td>0</td>\n",
       "      <td>0</td>\n",
       "      <td>0</td>\n",
       "      <td>0</td>\n",
       "      <td>0</td>\n",
       "      <td>0</td>\n",
       "      <td>0</td>\n",
       "    </tr>\n",
       "    <tr>\n",
       "      <th>1</th>\n",
       "      <td>0</td>\n",
       "      <td>0</td>\n",
       "      <td>0</td>\n",
       "      <td>0</td>\n",
       "      <td>0</td>\n",
       "      <td>0</td>\n",
       "      <td>0</td>\n",
       "      <td>0</td>\n",
       "      <td>0</td>\n",
       "      <td>0</td>\n",
       "      <td>0</td>\n",
       "      <td>1</td>\n",
       "      <td>0</td>\n",
       "      <td>0</td>\n",
       "      <td>0</td>\n",
       "      <td>0</td>\n",
       "      <td>0</td>\n",
       "      <td>0</td>\n",
       "      <td>0</td>\n",
       "      <td>0</td>\n",
       "    </tr>\n",
       "    <tr>\n",
       "      <th>2</th>\n",
       "      <td>1</td>\n",
       "      <td>0</td>\n",
       "      <td>0</td>\n",
       "      <td>0</td>\n",
       "      <td>0</td>\n",
       "      <td>0</td>\n",
       "      <td>0</td>\n",
       "      <td>0</td>\n",
       "      <td>0</td>\n",
       "      <td>0</td>\n",
       "      <td>0</td>\n",
       "      <td>0</td>\n",
       "      <td>0</td>\n",
       "      <td>0</td>\n",
       "      <td>0</td>\n",
       "      <td>0</td>\n",
       "      <td>0</td>\n",
       "      <td>0</td>\n",
       "      <td>0</td>\n",
       "      <td>0</td>\n",
       "    </tr>\n",
       "    <tr>\n",
       "      <th>3</th>\n",
       "      <td>1</td>\n",
       "      <td>0</td>\n",
       "      <td>0</td>\n",
       "      <td>0</td>\n",
       "      <td>0</td>\n",
       "      <td>0</td>\n",
       "      <td>0</td>\n",
       "      <td>0</td>\n",
       "      <td>0</td>\n",
       "      <td>0</td>\n",
       "      <td>0</td>\n",
       "      <td>0</td>\n",
       "      <td>0</td>\n",
       "      <td>0</td>\n",
       "      <td>0</td>\n",
       "      <td>0</td>\n",
       "      <td>0</td>\n",
       "      <td>0</td>\n",
       "      <td>0</td>\n",
       "      <td>0</td>\n",
       "    </tr>\n",
       "    <tr>\n",
       "      <th>4</th>\n",
       "      <td>0</td>\n",
       "      <td>0</td>\n",
       "      <td>0</td>\n",
       "      <td>0</td>\n",
       "      <td>0</td>\n",
       "      <td>0</td>\n",
       "      <td>0</td>\n",
       "      <td>1</td>\n",
       "      <td>0</td>\n",
       "      <td>0</td>\n",
       "      <td>0</td>\n",
       "      <td>0</td>\n",
       "      <td>0</td>\n",
       "      <td>0</td>\n",
       "      <td>0</td>\n",
       "      <td>0</td>\n",
       "      <td>0</td>\n",
       "      <td>0</td>\n",
       "      <td>0</td>\n",
       "      <td>0</td>\n",
       "    </tr>\n",
       "    <tr>\n",
       "      <th>...</th>\n",
       "      <td>...</td>\n",
       "      <td>...</td>\n",
       "      <td>...</td>\n",
       "      <td>...</td>\n",
       "      <td>...</td>\n",
       "      <td>...</td>\n",
       "      <td>...</td>\n",
       "      <td>...</td>\n",
       "      <td>...</td>\n",
       "      <td>...</td>\n",
       "      <td>...</td>\n",
       "      <td>...</td>\n",
       "      <td>...</td>\n",
       "      <td>...</td>\n",
       "      <td>...</td>\n",
       "      <td>...</td>\n",
       "      <td>...</td>\n",
       "      <td>...</td>\n",
       "      <td>...</td>\n",
       "      <td>...</td>\n",
       "    </tr>\n",
       "    <tr>\n",
       "      <th>117</th>\n",
       "      <td>1</td>\n",
       "      <td>0</td>\n",
       "      <td>0</td>\n",
       "      <td>0</td>\n",
       "      <td>0</td>\n",
       "      <td>0</td>\n",
       "      <td>0</td>\n",
       "      <td>0</td>\n",
       "      <td>0</td>\n",
       "      <td>0</td>\n",
       "      <td>0</td>\n",
       "      <td>0</td>\n",
       "      <td>0</td>\n",
       "      <td>0</td>\n",
       "      <td>0</td>\n",
       "      <td>0</td>\n",
       "      <td>0</td>\n",
       "      <td>0</td>\n",
       "      <td>0</td>\n",
       "      <td>0</td>\n",
       "    </tr>\n",
       "    <tr>\n",
       "      <th>118</th>\n",
       "      <td>0</td>\n",
       "      <td>0</td>\n",
       "      <td>1</td>\n",
       "      <td>0</td>\n",
       "      <td>0</td>\n",
       "      <td>0</td>\n",
       "      <td>0</td>\n",
       "      <td>0</td>\n",
       "      <td>0</td>\n",
       "      <td>0</td>\n",
       "      <td>0</td>\n",
       "      <td>0</td>\n",
       "      <td>0</td>\n",
       "      <td>0</td>\n",
       "      <td>0</td>\n",
       "      <td>0</td>\n",
       "      <td>0</td>\n",
       "      <td>0</td>\n",
       "      <td>0</td>\n",
       "      <td>0</td>\n",
       "    </tr>\n",
       "    <tr>\n",
       "      <th>119</th>\n",
       "      <td>0</td>\n",
       "      <td>1</td>\n",
       "      <td>0</td>\n",
       "      <td>0</td>\n",
       "      <td>0</td>\n",
       "      <td>0</td>\n",
       "      <td>0</td>\n",
       "      <td>0</td>\n",
       "      <td>0</td>\n",
       "      <td>0</td>\n",
       "      <td>0</td>\n",
       "      <td>0</td>\n",
       "      <td>0</td>\n",
       "      <td>0</td>\n",
       "      <td>0</td>\n",
       "      <td>0</td>\n",
       "      <td>0</td>\n",
       "      <td>0</td>\n",
       "      <td>0</td>\n",
       "      <td>0</td>\n",
       "    </tr>\n",
       "    <tr>\n",
       "      <th>120</th>\n",
       "      <td>1</td>\n",
       "      <td>0</td>\n",
       "      <td>0</td>\n",
       "      <td>0</td>\n",
       "      <td>0</td>\n",
       "      <td>0</td>\n",
       "      <td>0</td>\n",
       "      <td>0</td>\n",
       "      <td>0</td>\n",
       "      <td>0</td>\n",
       "      <td>0</td>\n",
       "      <td>0</td>\n",
       "      <td>0</td>\n",
       "      <td>0</td>\n",
       "      <td>0</td>\n",
       "      <td>0</td>\n",
       "      <td>0</td>\n",
       "      <td>0</td>\n",
       "      <td>0</td>\n",
       "      <td>0</td>\n",
       "    </tr>\n",
       "    <tr>\n",
       "      <th>121</th>\n",
       "      <td>1</td>\n",
       "      <td>0</td>\n",
       "      <td>0</td>\n",
       "      <td>0</td>\n",
       "      <td>0</td>\n",
       "      <td>0</td>\n",
       "      <td>0</td>\n",
       "      <td>0</td>\n",
       "      <td>0</td>\n",
       "      <td>0</td>\n",
       "      <td>0</td>\n",
       "      <td>0</td>\n",
       "      <td>0</td>\n",
       "      <td>0</td>\n",
       "      <td>0</td>\n",
       "      <td>0</td>\n",
       "      <td>0</td>\n",
       "      <td>0</td>\n",
       "      <td>0</td>\n",
       "      <td>0</td>\n",
       "    </tr>\n",
       "  </tbody>\n",
       "</table>\n",
       "<p>122 rows × 20 columns</p>\n",
       "</div>"
      ],
      "text/plain": [
       "     Coffee  Coffee;Cold drinks  \\\n",
       "0         1                   0   \n",
       "1         0                   0   \n",
       "2         1                   0   \n",
       "3         1                   0   \n",
       "4         0                   0   \n",
       "..      ...                 ...   \n",
       "117       1                   0   \n",
       "118       0                   0   \n",
       "119       0                   1   \n",
       "120       1                   0   \n",
       "121       1                   0   \n",
       "\n",
       "     Coffee;Cold drinks;Juices;Pastries;Sandwiches  \\\n",
       "0                                                0   \n",
       "1                                                0   \n",
       "2                                                0   \n",
       "3                                                0   \n",
       "4                                                0   \n",
       "..                                             ...   \n",
       "117                                              0   \n",
       "118                                              1   \n",
       "119                                              0   \n",
       "120                                              0   \n",
       "121                                              0   \n",
       "\n",
       "     Coffee;Cold drinks;Pastries;Sandwiches  \\\n",
       "0                                         0   \n",
       "1                                         0   \n",
       "2                                         0   \n",
       "3                                         0   \n",
       "4                                         0   \n",
       "..                                      ...   \n",
       "117                                       0   \n",
       "118                                       0   \n",
       "119                                       0   \n",
       "120                                       0   \n",
       "121                                       0   \n",
       "\n",
       "     Coffee;Juices;Pastries;Sandwiches  Coffee;Pastries  \\\n",
       "0                                    0                0   \n",
       "1                                    0                0   \n",
       "2                                    0                0   \n",
       "3                                    0                0   \n",
       "4                                    0                0   \n",
       "..                                 ...              ...   \n",
       "117                                  0                0   \n",
       "118                                  0                0   \n",
       "119                                  0                0   \n",
       "120                                  0                0   \n",
       "121                                  0                0   \n",
       "\n",
       "     Coffee;Pastries;Sandwiches  Coffee;Sandwiches  Cold drinks  \\\n",
       "0                             0                  0            0   \n",
       "1                             0                  0            0   \n",
       "2                             0                  0            0   \n",
       "3                             0                  0            0   \n",
       "4                             0                  1            0   \n",
       "..                          ...                ...          ...   \n",
       "117                           0                  0            0   \n",
       "118                           0                  0            0   \n",
       "119                           0                  0            0   \n",
       "120                           0                  0            0   \n",
       "121                           0                  0            0   \n",
       "\n",
       "     Cold drinks;Juices;Pastries  Cold drinks;Never  Cold drinks;Pastries  \\\n",
       "0                              0                  0                     0   \n",
       "1                              0                  0                     1   \n",
       "2                              0                  0                     0   \n",
       "3                              0                  0                     0   \n",
       "4                              0                  0                     0   \n",
       "..                           ...                ...                   ...   \n",
       "117                            0                  0                     0   \n",
       "118                            0                  0                     0   \n",
       "119                            0                  0                     0   \n",
       "120                            0                  0                     0   \n",
       "121                            0                  0                     0   \n",
       "\n",
       "     Cold drinks;Pastries;Sandwiches  Jaws chip   Never  Never buy any  \\\n",
       "0                                  0           0      0              0   \n",
       "1                                  0           0      0              0   \n",
       "2                                  0           0      0              0   \n",
       "3                                  0           0      0              0   \n",
       "4                                  0           0      0              0   \n",
       "..                               ...         ...    ...            ...   \n",
       "117                                0           0      0              0   \n",
       "118                                0           0      0              0   \n",
       "119                                0           0      0              0   \n",
       "120                                0           0      0              0   \n",
       "121                                0           0      0              0   \n",
       "\n",
       "     Nothing   Pastries  cake   never  \n",
       "0           0         0      0      0  \n",
       "1           0         0      0      0  \n",
       "2           0         0      0      0  \n",
       "3           0         0      0      0  \n",
       "4           0         0      0      0  \n",
       "..        ...       ...    ...    ...  \n",
       "117         0         0      0      0  \n",
       "118         0         0      0      0  \n",
       "119         0         0      0      0  \n",
       "120         0         0      0      0  \n",
       "121         0         0      0      0  \n",
       "\n",
       "[122 rows x 20 columns]"
      ]
     },
     "execution_count": 706,
     "metadata": {},
     "output_type": "execute_result"
    }
   ],
   "source": [
    "pd.get_dummies(df.most_purchased_item)"
   ]
  },
  {
   "cell_type": "markdown",
   "metadata": {
    "colab_type": "text",
    "id": "aKFBo8QCjJPO"
   },
   "source": [
    "Splitting the string"
   ]
  },
  {
   "cell_type": "code",
   "execution_count": 707,
   "metadata": {
    "colab": {
     "base_uri": "https://localhost:8080/",
     "height": 223
    },
    "colab_type": "code",
    "id": "f19GTDSKjJPO",
    "outputId": "574b94c4-4013-45ee-ad69-105dcfd9e472"
   },
   "outputs": [
    {
     "data": {
      "text/plain": [
       "0                                               [Coffee]\n",
       "1                                [Cold drinks, Pastries]\n",
       "2                                               [Coffee]\n",
       "3                                               [Coffee]\n",
       "4                                   [Coffee, Sandwiches]\n",
       "                             ...                        \n",
       "117                                             [Coffee]\n",
       "118    [Coffee, Cold drinks, Juices, Pastries, Sandwi...\n",
       "119                                [Coffee, Cold drinks]\n",
       "120                                             [Coffee]\n",
       "121                                             [Coffee]\n",
       "Name: most_purchased_item, Length: 122, dtype: object"
      ]
     },
     "execution_count": 707,
     "metadata": {},
     "output_type": "execute_result"
    }
   ],
   "source": [
    "split_list = df.most_purchased_item.str.split(pat=';')\n",
    "split_list"
   ]
  },
  {
   "cell_type": "markdown",
   "metadata": {
    "colab_type": "text",
    "id": "nb4d-pPPjJPQ"
   },
   "source": [
    "Making the individual colums"
   ]
  },
  {
   "cell_type": "code",
   "execution_count": 708,
   "metadata": {
    "colab": {},
    "colab_type": "code",
    "id": "xTEXwZjnjJPR"
   },
   "outputs": [],
   "source": [
    "most_purchased_coffee = [1 if 'Coffee' in items else 0 for items in split_list.values]\n",
    "most_purchased_pastries = [1 if 'Pastries' in items else 0 for items in split_list.values]\n",
    "most_purchased_sandwiches = [1 if 'Sandwiches' in items else 0 for items in split_list.values]\n",
    "most_purchased_cold_drinks = [1 if 'Cold drinks' in items else 0 for items in split_list.values]\n",
    "most_purchased_juices = [1 if 'Juices' in items else 0 for items in split_list.values]\n",
    "most_purchased_never = [1 if 'Never buy any' in items else 1 if 'Never' in items else 1 \n",
    "                        if 'nothing' in items else 1 \n",
    "                        if 'never' in items else 0 for items in split_list.values]\n",
    "most_purchased_cake = [1 if 'cake' in items else 0 for items in split_list.values]\n",
    "most_purchased_jaws_chip = [1 if 'Jaws chip' in items else 0 for items in split_list.values]"
   ]
  },
  {
   "cell_type": "markdown",
   "metadata": {
    "colab_type": "text",
    "id": "qytp9Pg5jJPT"
   },
   "source": [
    "Let's see how most_purchased_coffee looks. I'll print it horizontally.\n"
   ]
  },
  {
   "cell_type": "code",
   "execution_count": 709,
   "metadata": {
    "colab": {
     "base_uri": "https://localhost:8080/",
     "height": 54
    },
    "colab_type": "code",
    "id": "JkWbJvEcjJPT",
    "outputId": "3f992f3d-981f-4a2c-b170-d61a49dc609c",
    "scrolled": false,
    "tags": []
   },
   "outputs": [
    {
     "name": "stdout",
     "output_type": "stream",
     "text": [
      "[1, 0, 1, 1, 1, 0, 1, 1, 0, 1, 0, 1, 1, 1, 1, 1, 1, 1, 1, 0, 1, 1, 1, 0, 1, 1, 1, 1, 1, 1, 1, 1, 1, 1, 1, 1, 0, 1, 0, 1, 1, 1, 1, 1, 1, 1, 0, 1, 0, 0, 1, 0, 0, 1, 1, 1, 1, 1, 1, 0, 1, 1, 1, 1, 1, 1, 1, 0, 1, 0, 1, 1, 1, 0, 1, 1, 1, 1, 1, 0, 1, 0, 0, 1, 1, 0, 1, 1, 0, 0, 1, 1, 1, 1, 1, 0, 0, 0, 1, 1, 0, 1, 1, 1, 0, 0, 1, 0, 0, 1, 0, 0, 0, 0, 0, 0, 0, 1, 1, 1, 1, 1] "
     ]
    }
   ],
   "source": [
    "print(most_purchased_coffee, end=\" \")"
   ]
  },
  {
   "cell_type": "markdown",
   "metadata": {
    "colab_type": "text",
    "id": "r0RWL8_6p-X_"
   },
   "source": [
    "Now let's see how the whole dummy coding looks"
   ]
  },
  {
   "cell_type": "code",
   "execution_count": 710,
   "metadata": {
    "colab": {
     "base_uri": "https://localhost:8080/",
     "height": 437
    },
    "colab_type": "code",
    "id": "rzrMytqjjJPW",
    "outputId": "9711fe63-b749-4b85-97c1-52d2dd0e1c73"
   },
   "outputs": [
    {
     "data": {
      "text/html": [
       "<div>\n",
       "<style scoped>\n",
       "    .dataframe tbody tr th:only-of-type {\n",
       "        vertical-align: middle;\n",
       "    }\n",
       "\n",
       "    .dataframe tbody tr th {\n",
       "        vertical-align: top;\n",
       "    }\n",
       "\n",
       "    .dataframe thead th {\n",
       "        text-align: right;\n",
       "    }\n",
       "</style>\n",
       "<table border=\"1\" class=\"dataframe\">\n",
       "  <thead>\n",
       "    <tr style=\"text-align: right;\">\n",
       "      <th></th>\n",
       "      <th>most_purchased_coffee</th>\n",
       "      <th>most_purchased_pastries</th>\n",
       "      <th>most_purchased_sandwiches</th>\n",
       "      <th>most_purchased_cold_drinks</th>\n",
       "      <th>most_purchased_juices</th>\n",
       "      <th>most_purchased_never</th>\n",
       "      <th>most_purchased_cake</th>\n",
       "      <th>most_purchased_jaws_chip</th>\n",
       "    </tr>\n",
       "  </thead>\n",
       "  <tbody>\n",
       "    <tr>\n",
       "      <th>0</th>\n",
       "      <td>1</td>\n",
       "      <td>0</td>\n",
       "      <td>0</td>\n",
       "      <td>0</td>\n",
       "      <td>0</td>\n",
       "      <td>0</td>\n",
       "      <td>0</td>\n",
       "      <td>0</td>\n",
       "    </tr>\n",
       "    <tr>\n",
       "      <th>1</th>\n",
       "      <td>0</td>\n",
       "      <td>1</td>\n",
       "      <td>0</td>\n",
       "      <td>1</td>\n",
       "      <td>0</td>\n",
       "      <td>0</td>\n",
       "      <td>0</td>\n",
       "      <td>0</td>\n",
       "    </tr>\n",
       "    <tr>\n",
       "      <th>2</th>\n",
       "      <td>1</td>\n",
       "      <td>0</td>\n",
       "      <td>0</td>\n",
       "      <td>0</td>\n",
       "      <td>0</td>\n",
       "      <td>0</td>\n",
       "      <td>0</td>\n",
       "      <td>0</td>\n",
       "    </tr>\n",
       "    <tr>\n",
       "      <th>3</th>\n",
       "      <td>1</td>\n",
       "      <td>0</td>\n",
       "      <td>0</td>\n",
       "      <td>0</td>\n",
       "      <td>0</td>\n",
       "      <td>0</td>\n",
       "      <td>0</td>\n",
       "      <td>0</td>\n",
       "    </tr>\n",
       "    <tr>\n",
       "      <th>4</th>\n",
       "      <td>1</td>\n",
       "      <td>0</td>\n",
       "      <td>1</td>\n",
       "      <td>0</td>\n",
       "      <td>0</td>\n",
       "      <td>0</td>\n",
       "      <td>0</td>\n",
       "      <td>0</td>\n",
       "    </tr>\n",
       "    <tr>\n",
       "      <th>...</th>\n",
       "      <td>...</td>\n",
       "      <td>...</td>\n",
       "      <td>...</td>\n",
       "      <td>...</td>\n",
       "      <td>...</td>\n",
       "      <td>...</td>\n",
       "      <td>...</td>\n",
       "      <td>...</td>\n",
       "    </tr>\n",
       "    <tr>\n",
       "      <th>117</th>\n",
       "      <td>1</td>\n",
       "      <td>0</td>\n",
       "      <td>0</td>\n",
       "      <td>0</td>\n",
       "      <td>0</td>\n",
       "      <td>0</td>\n",
       "      <td>0</td>\n",
       "      <td>0</td>\n",
       "    </tr>\n",
       "    <tr>\n",
       "      <th>118</th>\n",
       "      <td>1</td>\n",
       "      <td>1</td>\n",
       "      <td>1</td>\n",
       "      <td>1</td>\n",
       "      <td>1</td>\n",
       "      <td>0</td>\n",
       "      <td>0</td>\n",
       "      <td>0</td>\n",
       "    </tr>\n",
       "    <tr>\n",
       "      <th>119</th>\n",
       "      <td>1</td>\n",
       "      <td>0</td>\n",
       "      <td>0</td>\n",
       "      <td>1</td>\n",
       "      <td>0</td>\n",
       "      <td>0</td>\n",
       "      <td>0</td>\n",
       "      <td>0</td>\n",
       "    </tr>\n",
       "    <tr>\n",
       "      <th>120</th>\n",
       "      <td>1</td>\n",
       "      <td>0</td>\n",
       "      <td>0</td>\n",
       "      <td>0</td>\n",
       "      <td>0</td>\n",
       "      <td>0</td>\n",
       "      <td>0</td>\n",
       "      <td>0</td>\n",
       "    </tr>\n",
       "    <tr>\n",
       "      <th>121</th>\n",
       "      <td>1</td>\n",
       "      <td>0</td>\n",
       "      <td>0</td>\n",
       "      <td>0</td>\n",
       "      <td>0</td>\n",
       "      <td>0</td>\n",
       "      <td>0</td>\n",
       "      <td>0</td>\n",
       "    </tr>\n",
       "  </tbody>\n",
       "</table>\n",
       "<p>122 rows × 8 columns</p>\n",
       "</div>"
      ],
      "text/plain": [
       "     most_purchased_coffee  most_purchased_pastries  \\\n",
       "0                        1                        0   \n",
       "1                        0                        1   \n",
       "2                        1                        0   \n",
       "3                        1                        0   \n",
       "4                        1                        0   \n",
       "..                     ...                      ...   \n",
       "117                      1                        0   \n",
       "118                      1                        1   \n",
       "119                      1                        0   \n",
       "120                      1                        0   \n",
       "121                      1                        0   \n",
       "\n",
       "     most_purchased_sandwiches  most_purchased_cold_drinks  \\\n",
       "0                            0                           0   \n",
       "1                            0                           1   \n",
       "2                            0                           0   \n",
       "3                            0                           0   \n",
       "4                            1                           0   \n",
       "..                         ...                         ...   \n",
       "117                          0                           0   \n",
       "118                          1                           1   \n",
       "119                          0                           1   \n",
       "120                          0                           0   \n",
       "121                          0                           0   \n",
       "\n",
       "     most_purchased_juices  most_purchased_never  most_purchased_cake  \\\n",
       "0                        0                     0                    0   \n",
       "1                        0                     0                    0   \n",
       "2                        0                     0                    0   \n",
       "3                        0                     0                    0   \n",
       "4                        0                     0                    0   \n",
       "..                     ...                   ...                  ...   \n",
       "117                      0                     0                    0   \n",
       "118                      1                     0                    0   \n",
       "119                      0                     0                    0   \n",
       "120                      0                     0                    0   \n",
       "121                      0                     0                    0   \n",
       "\n",
       "     most_purchased_jaws_chip  \n",
       "0                           0  \n",
       "1                           0  \n",
       "2                           0  \n",
       "3                           0  \n",
       "4                           0  \n",
       "..                        ...  \n",
       "117                         0  \n",
       "118                         0  \n",
       "119                         0  \n",
       "120                         0  \n",
       "121                         0  \n",
       "\n",
       "[122 rows x 8 columns]"
      ]
     },
     "execution_count": 710,
     "metadata": {},
     "output_type": "execute_result"
    }
   ],
   "source": [
    "most_purchased_items_dummy = pd.DataFrame({'most_purchased_coffee':most_purchased_coffee, \n",
    "                                           'most_purchased_pastries':most_purchased_pastries, \n",
    "                                           'most_purchased_sandwiches':most_purchased_sandwiches, \n",
    "                                           'most_purchased_cold_drinks':most_purchased_cold_drinks, \n",
    "                                           'most_purchased_juices':most_purchased_juices, \n",
    "                                           'most_purchased_never':most_purchased_never, \n",
    "                                           'most_purchased_cake':most_purchased_cake, \n",
    "                                           'most_purchased_jaws_chip':most_purchased_jaws_chip  })\n",
    "most_purchased_items_dummy"
   ]
  },
  {
   "cell_type": "markdown",
   "metadata": {
    "colab_type": "text",
    "id": "rIUhBFBzjJPY"
   },
   "source": [
    "- Next, Average amount spent"
   ]
  },
  {
   "cell_type": "code",
   "execution_count": 711,
   "metadata": {
    "colab": {
     "base_uri": "https://localhost:8080/",
     "height": 417
    },
    "colab_type": "code",
    "id": "X9OI0EN0jJPY",
    "outputId": "82b5b634-b2dd-4cd1-d5a5-f6cfd83d0aaf"
   },
   "outputs": [
    {
     "data": {
      "text/html": [
       "<div>\n",
       "<style scoped>\n",
       "    .dataframe tbody tr th:only-of-type {\n",
       "        vertical-align: middle;\n",
       "    }\n",
       "\n",
       "    .dataframe tbody tr th {\n",
       "        vertical-align: top;\n",
       "    }\n",
       "\n",
       "    .dataframe thead th {\n",
       "        text-align: right;\n",
       "    }\n",
       "</style>\n",
       "<table border=\"1\" class=\"dataframe\">\n",
       "  <thead>\n",
       "    <tr style=\"text-align: right;\">\n",
       "      <th></th>\n",
       "      <th>average_amount_spent_Around RM20 - RM40</th>\n",
       "      <th>average_amount_spent_Less than RM20</th>\n",
       "      <th>average_amount_spent_More than RM40</th>\n",
       "      <th>average_amount_spent_Zero</th>\n",
       "    </tr>\n",
       "  </thead>\n",
       "  <tbody>\n",
       "    <tr>\n",
       "      <th>0</th>\n",
       "      <td>0</td>\n",
       "      <td>1</td>\n",
       "      <td>0</td>\n",
       "      <td>0</td>\n",
       "    </tr>\n",
       "    <tr>\n",
       "      <th>1</th>\n",
       "      <td>0</td>\n",
       "      <td>1</td>\n",
       "      <td>0</td>\n",
       "      <td>0</td>\n",
       "    </tr>\n",
       "    <tr>\n",
       "      <th>2</th>\n",
       "      <td>0</td>\n",
       "      <td>1</td>\n",
       "      <td>0</td>\n",
       "      <td>0</td>\n",
       "    </tr>\n",
       "    <tr>\n",
       "      <th>3</th>\n",
       "      <td>0</td>\n",
       "      <td>1</td>\n",
       "      <td>0</td>\n",
       "      <td>0</td>\n",
       "    </tr>\n",
       "    <tr>\n",
       "      <th>4</th>\n",
       "      <td>1</td>\n",
       "      <td>0</td>\n",
       "      <td>0</td>\n",
       "      <td>0</td>\n",
       "    </tr>\n",
       "    <tr>\n",
       "      <th>...</th>\n",
       "      <td>...</td>\n",
       "      <td>...</td>\n",
       "      <td>...</td>\n",
       "      <td>...</td>\n",
       "    </tr>\n",
       "    <tr>\n",
       "      <th>117</th>\n",
       "      <td>1</td>\n",
       "      <td>0</td>\n",
       "      <td>0</td>\n",
       "      <td>0</td>\n",
       "    </tr>\n",
       "    <tr>\n",
       "      <th>118</th>\n",
       "      <td>0</td>\n",
       "      <td>0</td>\n",
       "      <td>1</td>\n",
       "      <td>0</td>\n",
       "    </tr>\n",
       "    <tr>\n",
       "      <th>119</th>\n",
       "      <td>0</td>\n",
       "      <td>1</td>\n",
       "      <td>0</td>\n",
       "      <td>0</td>\n",
       "    </tr>\n",
       "    <tr>\n",
       "      <th>120</th>\n",
       "      <td>0</td>\n",
       "      <td>1</td>\n",
       "      <td>0</td>\n",
       "      <td>0</td>\n",
       "    </tr>\n",
       "    <tr>\n",
       "      <th>121</th>\n",
       "      <td>0</td>\n",
       "      <td>1</td>\n",
       "      <td>0</td>\n",
       "      <td>0</td>\n",
       "    </tr>\n",
       "  </tbody>\n",
       "</table>\n",
       "<p>122 rows × 4 columns</p>\n",
       "</div>"
      ],
      "text/plain": [
       "     average_amount_spent_Around RM20 - RM40  \\\n",
       "0                                          0   \n",
       "1                                          0   \n",
       "2                                          0   \n",
       "3                                          0   \n",
       "4                                          1   \n",
       "..                                       ...   \n",
       "117                                        1   \n",
       "118                                        0   \n",
       "119                                        0   \n",
       "120                                        0   \n",
       "121                                        0   \n",
       "\n",
       "     average_amount_spent_Less than RM20  average_amount_spent_More than RM40  \\\n",
       "0                                      1                                    0   \n",
       "1                                      1                                    0   \n",
       "2                                      1                                    0   \n",
       "3                                      1                                    0   \n",
       "4                                      0                                    0   \n",
       "..                                   ...                                  ...   \n",
       "117                                    0                                    0   \n",
       "118                                    0                                    1   \n",
       "119                                    1                                    0   \n",
       "120                                    1                                    0   \n",
       "121                                    1                                    0   \n",
       "\n",
       "     average_amount_spent_Zero  \n",
       "0                            0  \n",
       "1                            0  \n",
       "2                            0  \n",
       "3                            0  \n",
       "4                            0  \n",
       "..                         ...  \n",
       "117                          0  \n",
       "118                          0  \n",
       "119                          0  \n",
       "120                          0  \n",
       "121                          0  \n",
       "\n",
       "[122 rows x 4 columns]"
      ]
     },
     "execution_count": 711,
     "metadata": {},
     "output_type": "execute_result"
    }
   ],
   "source": [
    "average_amount_spent_dummy = pd.get_dummies(df.average_amount_spent_rm)\n",
    "average_amount_spent_dummy.columns = ['average_amount_spent_'+col \n",
    "                                      for col in average_amount_spent_dummy.columns]\n",
    "average_amount_spent_dummy"
   ]
  },
  {
   "cell_type": "markdown",
   "metadata": {
    "colab_type": "text",
    "id": "_wmLOh-LjJPb"
   },
   "source": [
    "- Referral"
   ]
  },
  {
   "cell_type": "code",
   "execution_count": 712,
   "metadata": {
    "colab": {
     "base_uri": "https://localhost:8080/",
     "height": 360
    },
    "colab_type": "code",
    "id": "HFuRvJoDjJPe",
    "outputId": "b6da783c-e0c3-48d4-aa8d-ddece106e72e",
    "scrolled": false
   },
   "outputs": [
    {
     "data": {
      "text/html": [
       "<div>\n",
       "<style scoped>\n",
       "    .dataframe tbody tr th:only-of-type {\n",
       "        vertical-align: middle;\n",
       "    }\n",
       "\n",
       "    .dataframe tbody tr th {\n",
       "        vertical-align: top;\n",
       "    }\n",
       "\n",
       "    .dataframe thead th {\n",
       "        text-align: right;\n",
       "    }\n",
       "</style>\n",
       "<table border=\"1\" class=\"dataframe\">\n",
       "  <thead>\n",
       "    <tr style=\"text-align: right;\">\n",
       "      <th></th>\n",
       "      <th>Application offer</th>\n",
       "      <th>Billboards</th>\n",
       "      <th>Emails</th>\n",
       "      <th>In Store displays</th>\n",
       "      <th>In Store displays;Billboards</th>\n",
       "      <th>Never hear</th>\n",
       "      <th>Social Media</th>\n",
       "      <th>Social Media;Deal sites (fave, iprice, etc...)</th>\n",
       "      <th>Social Media;Deal sites (fave, iprice, etc...);Through friends and word of mouth</th>\n",
       "      <th>Social Media;Emails</th>\n",
       "      <th>Social Media;Emails;Deal sites (fave, iprice, etc...);Through friends and word of mouth;In Store displays;Billboards</th>\n",
       "      <th>Social Media;Emails;Through friends and word of mouth</th>\n",
       "      <th>Social Media;In Store displays</th>\n",
       "      <th>Social Media;In Store displays;Billboards</th>\n",
       "      <th>Social Media;Through friends and word of mouth</th>\n",
       "      <th>Social Media;Through friends and word of mouth;Billboards</th>\n",
       "      <th>Social Media;Through friends and word of mouth;In Store displays</th>\n",
       "      <th>Social Media;Through friends and word of mouth;In Store displays;Billboards</th>\n",
       "      <th>Starbucks Website/Apps</th>\n",
       "      <th>Starbucks Website/Apps;Deal sites (fave, iprice, etc...)</th>\n",
       "      <th>Starbucks Website/Apps;Emails</th>\n",
       "      <th>Starbucks Website/Apps;Social Media</th>\n",
       "      <th>Starbucks Website/Apps;Social Media;Deal sites (fave, iprice, etc...);Through friends and word of mouth</th>\n",
       "      <th>Starbucks Website/Apps;Social Media;Emails;Billboards</th>\n",
       "      <th>Starbucks Website/Apps;Social Media;Emails;Deal sites (fave, iprice, etc...)</th>\n",
       "      <th>Starbucks Website/Apps;Social Media;Emails;Deal sites (fave, iprice, etc...);Through friends and word of mouth;In Store displays;Billboards</th>\n",
       "      <th>Starbucks Website/Apps;Social Media;Emails;Through friends and word of mouth</th>\n",
       "      <th>Starbucks Website/Apps;Social Media;Through friends and word of mouth</th>\n",
       "      <th>Starbucks Website/Apps;Social Media;Through friends and word of mouth;In Store displays</th>\n",
       "      <th>Through friends and word of mouth</th>\n",
       "      <th>Through friends and word of mouth;In Store displays</th>\n",
       "      <th>unknown</th>\n",
       "    </tr>\n",
       "  </thead>\n",
       "  <tbody>\n",
       "    <tr>\n",
       "      <th>0</th>\n",
       "      <td>0</td>\n",
       "      <td>0</td>\n",
       "      <td>0</td>\n",
       "      <td>0</td>\n",
       "      <td>0</td>\n",
       "      <td>0</td>\n",
       "      <td>0</td>\n",
       "      <td>0</td>\n",
       "      <td>0</td>\n",
       "      <td>0</td>\n",
       "      <td>0</td>\n",
       "      <td>0</td>\n",
       "      <td>0</td>\n",
       "      <td>0</td>\n",
       "      <td>0</td>\n",
       "      <td>0</td>\n",
       "      <td>0</td>\n",
       "      <td>0</td>\n",
       "      <td>0</td>\n",
       "      <td>0</td>\n",
       "      <td>0</td>\n",
       "      <td>0</td>\n",
       "      <td>0</td>\n",
       "      <td>0</td>\n",
       "      <td>1</td>\n",
       "      <td>0</td>\n",
       "      <td>0</td>\n",
       "      <td>0</td>\n",
       "      <td>0</td>\n",
       "      <td>0</td>\n",
       "      <td>0</td>\n",
       "      <td>0</td>\n",
       "    </tr>\n",
       "    <tr>\n",
       "      <th>1</th>\n",
       "      <td>0</td>\n",
       "      <td>0</td>\n",
       "      <td>0</td>\n",
       "      <td>0</td>\n",
       "      <td>0</td>\n",
       "      <td>0</td>\n",
       "      <td>0</td>\n",
       "      <td>0</td>\n",
       "      <td>0</td>\n",
       "      <td>0</td>\n",
       "      <td>0</td>\n",
       "      <td>0</td>\n",
       "      <td>1</td>\n",
       "      <td>0</td>\n",
       "      <td>0</td>\n",
       "      <td>0</td>\n",
       "      <td>0</td>\n",
       "      <td>0</td>\n",
       "      <td>0</td>\n",
       "      <td>0</td>\n",
       "      <td>0</td>\n",
       "      <td>0</td>\n",
       "      <td>0</td>\n",
       "      <td>0</td>\n",
       "      <td>0</td>\n",
       "      <td>0</td>\n",
       "      <td>0</td>\n",
       "      <td>0</td>\n",
       "      <td>0</td>\n",
       "      <td>0</td>\n",
       "      <td>0</td>\n",
       "      <td>0</td>\n",
       "    </tr>\n",
       "    <tr>\n",
       "      <th>2</th>\n",
       "      <td>0</td>\n",
       "      <td>0</td>\n",
       "      <td>0</td>\n",
       "      <td>0</td>\n",
       "      <td>1</td>\n",
       "      <td>0</td>\n",
       "      <td>0</td>\n",
       "      <td>0</td>\n",
       "      <td>0</td>\n",
       "      <td>0</td>\n",
       "      <td>0</td>\n",
       "      <td>0</td>\n",
       "      <td>0</td>\n",
       "      <td>0</td>\n",
       "      <td>0</td>\n",
       "      <td>0</td>\n",
       "      <td>0</td>\n",
       "      <td>0</td>\n",
       "      <td>0</td>\n",
       "      <td>0</td>\n",
       "      <td>0</td>\n",
       "      <td>0</td>\n",
       "      <td>0</td>\n",
       "      <td>0</td>\n",
       "      <td>0</td>\n",
       "      <td>0</td>\n",
       "      <td>0</td>\n",
       "      <td>0</td>\n",
       "      <td>0</td>\n",
       "      <td>0</td>\n",
       "      <td>0</td>\n",
       "      <td>0</td>\n",
       "    </tr>\n",
       "    <tr>\n",
       "      <th>3</th>\n",
       "      <td>0</td>\n",
       "      <td>0</td>\n",
       "      <td>0</td>\n",
       "      <td>0</td>\n",
       "      <td>0</td>\n",
       "      <td>0</td>\n",
       "      <td>0</td>\n",
       "      <td>0</td>\n",
       "      <td>0</td>\n",
       "      <td>0</td>\n",
       "      <td>0</td>\n",
       "      <td>0</td>\n",
       "      <td>0</td>\n",
       "      <td>0</td>\n",
       "      <td>0</td>\n",
       "      <td>0</td>\n",
       "      <td>0</td>\n",
       "      <td>0</td>\n",
       "      <td>0</td>\n",
       "      <td>0</td>\n",
       "      <td>0</td>\n",
       "      <td>0</td>\n",
       "      <td>0</td>\n",
       "      <td>0</td>\n",
       "      <td>0</td>\n",
       "      <td>0</td>\n",
       "      <td>0</td>\n",
       "      <td>0</td>\n",
       "      <td>0</td>\n",
       "      <td>1</td>\n",
       "      <td>0</td>\n",
       "      <td>0</td>\n",
       "    </tr>\n",
       "    <tr>\n",
       "      <th>4</th>\n",
       "      <td>0</td>\n",
       "      <td>0</td>\n",
       "      <td>0</td>\n",
       "      <td>0</td>\n",
       "      <td>0</td>\n",
       "      <td>0</td>\n",
       "      <td>0</td>\n",
       "      <td>0</td>\n",
       "      <td>0</td>\n",
       "      <td>0</td>\n",
       "      <td>0</td>\n",
       "      <td>0</td>\n",
       "      <td>0</td>\n",
       "      <td>0</td>\n",
       "      <td>0</td>\n",
       "      <td>0</td>\n",
       "      <td>0</td>\n",
       "      <td>0</td>\n",
       "      <td>0</td>\n",
       "      <td>0</td>\n",
       "      <td>0</td>\n",
       "      <td>1</td>\n",
       "      <td>0</td>\n",
       "      <td>0</td>\n",
       "      <td>0</td>\n",
       "      <td>0</td>\n",
       "      <td>0</td>\n",
       "      <td>0</td>\n",
       "      <td>0</td>\n",
       "      <td>0</td>\n",
       "      <td>0</td>\n",
       "      <td>0</td>\n",
       "    </tr>\n",
       "  </tbody>\n",
       "</table>\n",
       "</div>"
      ],
      "text/plain": [
       "   Application offer  Billboards  Emails  In Store displays  \\\n",
       "0                  0           0       0                  0   \n",
       "1                  0           0       0                  0   \n",
       "2                  0           0       0                  0   \n",
       "3                  0           0       0                  0   \n",
       "4                  0           0       0                  0   \n",
       "\n",
       "   In Store displays;Billboards  Never hear  Social Media  \\\n",
       "0                             0           0             0   \n",
       "1                             0           0             0   \n",
       "2                             1           0             0   \n",
       "3                             0           0             0   \n",
       "4                             0           0             0   \n",
       "\n",
       "   Social Media;Deal sites (fave, iprice, etc...)  \\\n",
       "0                                               0   \n",
       "1                                               0   \n",
       "2                                               0   \n",
       "3                                               0   \n",
       "4                                               0   \n",
       "\n",
       "   Social Media;Deal sites (fave, iprice, etc...);Through friends and word of mouth  \\\n",
       "0                                                  0                                  \n",
       "1                                                  0                                  \n",
       "2                                                  0                                  \n",
       "3                                                  0                                  \n",
       "4                                                  0                                  \n",
       "\n",
       "   Social Media;Emails  \\\n",
       "0                    0   \n",
       "1                    0   \n",
       "2                    0   \n",
       "3                    0   \n",
       "4                    0   \n",
       "\n",
       "   Social Media;Emails;Deal sites (fave, iprice, etc...);Through friends and word of mouth;In Store displays;Billboards  \\\n",
       "0                                                  0                                                                      \n",
       "1                                                  0                                                                      \n",
       "2                                                  0                                                                      \n",
       "3                                                  0                                                                      \n",
       "4                                                  0                                                                      \n",
       "\n",
       "   Social Media;Emails;Through friends and word of mouth  \\\n",
       "0                                                  0       \n",
       "1                                                  0       \n",
       "2                                                  0       \n",
       "3                                                  0       \n",
       "4                                                  0       \n",
       "\n",
       "   Social Media;In Store displays  Social Media;In Store displays;Billboards  \\\n",
       "0                               0                                          0   \n",
       "1                               1                                          0   \n",
       "2                               0                                          0   \n",
       "3                               0                                          0   \n",
       "4                               0                                          0   \n",
       "\n",
       "   Social Media;Through friends and word of mouth  \\\n",
       "0                                               0   \n",
       "1                                               0   \n",
       "2                                               0   \n",
       "3                                               0   \n",
       "4                                               0   \n",
       "\n",
       "   Social Media;Through friends and word of mouth;Billboards  \\\n",
       "0                                                  0           \n",
       "1                                                  0           \n",
       "2                                                  0           \n",
       "3                                                  0           \n",
       "4                                                  0           \n",
       "\n",
       "   Social Media;Through friends and word of mouth;In Store displays  \\\n",
       "0                                                  0                  \n",
       "1                                                  0                  \n",
       "2                                                  0                  \n",
       "3                                                  0                  \n",
       "4                                                  0                  \n",
       "\n",
       "   Social Media;Through friends and word of mouth;In Store displays;Billboards  \\\n",
       "0                                                  0                             \n",
       "1                                                  0                             \n",
       "2                                                  0                             \n",
       "3                                                  0                             \n",
       "4                                                  0                             \n",
       "\n",
       "   Starbucks Website/Apps  \\\n",
       "0                       0   \n",
       "1                       0   \n",
       "2                       0   \n",
       "3                       0   \n",
       "4                       0   \n",
       "\n",
       "   Starbucks Website/Apps;Deal sites (fave, iprice, etc...)  \\\n",
       "0                                                  0          \n",
       "1                                                  0          \n",
       "2                                                  0          \n",
       "3                                                  0          \n",
       "4                                                  0          \n",
       "\n",
       "   Starbucks Website/Apps;Emails  Starbucks Website/Apps;Social Media  \\\n",
       "0                              0                                    0   \n",
       "1                              0                                    0   \n",
       "2                              0                                    0   \n",
       "3                              0                                    0   \n",
       "4                              0                                    1   \n",
       "\n",
       "   Starbucks Website/Apps;Social Media;Deal sites (fave, iprice, etc...);Through friends and word of mouth  \\\n",
       "0                                                  0                                                         \n",
       "1                                                  0                                                         \n",
       "2                                                  0                                                         \n",
       "3                                                  0                                                         \n",
       "4                                                  0                                                         \n",
       "\n",
       "   Starbucks Website/Apps;Social Media;Emails;Billboards  \\\n",
       "0                                                  0       \n",
       "1                                                  0       \n",
       "2                                                  0       \n",
       "3                                                  0       \n",
       "4                                                  0       \n",
       "\n",
       "   Starbucks Website/Apps;Social Media;Emails;Deal sites (fave, iprice, etc...)  \\\n",
       "0                                                  1                              \n",
       "1                                                  0                              \n",
       "2                                                  0                              \n",
       "3                                                  0                              \n",
       "4                                                  0                              \n",
       "\n",
       "   Starbucks Website/Apps;Social Media;Emails;Deal sites (fave, iprice, etc...);Through friends and word of mouth;In Store displays;Billboards  \\\n",
       "0                                                  0                                                                                             \n",
       "1                                                  0                                                                                             \n",
       "2                                                  0                                                                                             \n",
       "3                                                  0                                                                                             \n",
       "4                                                  0                                                                                             \n",
       "\n",
       "   Starbucks Website/Apps;Social Media;Emails;Through friends and word of mouth  \\\n",
       "0                                                  0                              \n",
       "1                                                  0                              \n",
       "2                                                  0                              \n",
       "3                                                  0                              \n",
       "4                                                  0                              \n",
       "\n",
       "   Starbucks Website/Apps;Social Media;Through friends and word of mouth  \\\n",
       "0                                                  0                       \n",
       "1                                                  0                       \n",
       "2                                                  0                       \n",
       "3                                                  0                       \n",
       "4                                                  0                       \n",
       "\n",
       "   Starbucks Website/Apps;Social Media;Through friends and word of mouth;In Store displays  \\\n",
       "0                                                  0                                         \n",
       "1                                                  0                                         \n",
       "2                                                  0                                         \n",
       "3                                                  0                                         \n",
       "4                                                  0                                         \n",
       "\n",
       "   Through friends and word of mouth  \\\n",
       "0                                  0   \n",
       "1                                  0   \n",
       "2                                  0   \n",
       "3                                  1   \n",
       "4                                  0   \n",
       "\n",
       "   Through friends and word of mouth;In Store displays  unknown  \n",
       "0                                                  0          0  \n",
       "1                                                  0          0  \n",
       "2                                                  0          0  \n",
       "3                                                  0          0  \n",
       "4                                                  0          0  "
      ]
     },
     "execution_count": 712,
     "metadata": {},
     "output_type": "execute_result"
    }
   ],
   "source": [
    "pd.get_dummies(df.referral).head()"
   ]
  },
  {
   "cell_type": "markdown",
   "metadata": {
    "colab_type": "text",
    "id": "NxIPgNa1jJPg"
   },
   "source": [
    "Seems like we have to repeat the previous step again."
   ]
  },
  {
   "cell_type": "markdown",
   "metadata": {
    "colab_type": "text",
    "id": "5KuevxyYjJPg"
   },
   "source": [
    "Splitting the string values"
   ]
  },
  {
   "cell_type": "code",
   "execution_count": 713,
   "metadata": {
    "colab": {},
    "colab_type": "code",
    "id": "DuLEzZNBjJPh"
   },
   "outputs": [],
   "source": [
    "referral_split_list = df.referral.str.split(';')"
   ]
  },
  {
   "cell_type": "markdown",
   "metadata": {
    "colab_type": "text",
    "id": "VBtehXSkqunV"
   },
   "source": [
    "Obtaining individual referral type counts"
   ]
  },
  {
   "cell_type": "code",
   "execution_count": 714,
   "metadata": {
    "colab": {},
    "colab_type": "code",
    "id": "gaZMxl7PjJPk"
   },
   "outputs": [],
   "source": [
    "referral_application_offer = [1 if 'Application offer' in items else 0 for items in referral_split_list.values]\n",
    "referral_billboards = [1 if 'Billboards' in items else 0 for items in referral_split_list.values]\n",
    "referral_emails = [1 if 'Emails' in items else 0 for items in referral_split_list.values]\n",
    "referral_in_store = [1 if 'In Store displays' in items else 0 for items in referral_split_list.values]\n",
    "referral_never = [1 if 'Never hear' in items else 1 if 'none' in items else 0 for items in referral_split_list.values]\n",
    "referral_social_media = [1 if 'Social Media' in items else 0 for items in referral_split_list.values]\n",
    "referral_deal_sites = [1 if \"Deal sites (fave, iprice, etc...)\" in items else 0 for items in referral_split_list.values]\n",
    "referral_friends = [1 if \"Through friends and word of mouth\" in items else 0 for items in referral_split_list.values]\n",
    "referral_starbucks_website_app = [1 if \"Starbucks Website/Apps\" in items else 0 for items in referral_split_list.values]"
   ]
  },
  {
   "cell_type": "markdown",
   "metadata": {
    "colab_type": "text",
    "id": "RSavew19q4Nl"
   },
   "source": [
    "Creating dummy code"
   ]
  },
  {
   "cell_type": "code",
   "execution_count": 715,
   "metadata": {
    "colab": {
     "base_uri": "https://localhost:8080/",
     "height": 203
    },
    "colab_type": "code",
    "id": "MYLFC7OrjJPm",
    "outputId": "ac4e71e1-db36-4530-c8fb-3017c7148c82"
   },
   "outputs": [
    {
     "data": {
      "text/html": [
       "<div>\n",
       "<style scoped>\n",
       "    .dataframe tbody tr th:only-of-type {\n",
       "        vertical-align: middle;\n",
       "    }\n",
       "\n",
       "    .dataframe tbody tr th {\n",
       "        vertical-align: top;\n",
       "    }\n",
       "\n",
       "    .dataframe thead th {\n",
       "        text-align: right;\n",
       "    }\n",
       "</style>\n",
       "<table border=\"1\" class=\"dataframe\">\n",
       "  <thead>\n",
       "    <tr style=\"text-align: right;\">\n",
       "      <th></th>\n",
       "      <th>referral_application_offer</th>\n",
       "      <th>referral_billboards</th>\n",
       "      <th>referral_emails</th>\n",
       "      <th>referral_in_store</th>\n",
       "      <th>referral_never</th>\n",
       "      <th>referral_social_media</th>\n",
       "      <th>referral_deal_sites</th>\n",
       "      <th>referral_friends</th>\n",
       "      <th>referral_starbucks_website_app</th>\n",
       "    </tr>\n",
       "  </thead>\n",
       "  <tbody>\n",
       "    <tr>\n",
       "      <th>0</th>\n",
       "      <td>0</td>\n",
       "      <td>0</td>\n",
       "      <td>1</td>\n",
       "      <td>0</td>\n",
       "      <td>0</td>\n",
       "      <td>1</td>\n",
       "      <td>1</td>\n",
       "      <td>0</td>\n",
       "      <td>1</td>\n",
       "    </tr>\n",
       "    <tr>\n",
       "      <th>1</th>\n",
       "      <td>0</td>\n",
       "      <td>0</td>\n",
       "      <td>0</td>\n",
       "      <td>1</td>\n",
       "      <td>0</td>\n",
       "      <td>1</td>\n",
       "      <td>0</td>\n",
       "      <td>0</td>\n",
       "      <td>0</td>\n",
       "    </tr>\n",
       "    <tr>\n",
       "      <th>2</th>\n",
       "      <td>0</td>\n",
       "      <td>1</td>\n",
       "      <td>0</td>\n",
       "      <td>1</td>\n",
       "      <td>0</td>\n",
       "      <td>0</td>\n",
       "      <td>0</td>\n",
       "      <td>0</td>\n",
       "      <td>0</td>\n",
       "    </tr>\n",
       "    <tr>\n",
       "      <th>3</th>\n",
       "      <td>0</td>\n",
       "      <td>0</td>\n",
       "      <td>0</td>\n",
       "      <td>0</td>\n",
       "      <td>0</td>\n",
       "      <td>0</td>\n",
       "      <td>0</td>\n",
       "      <td>1</td>\n",
       "      <td>0</td>\n",
       "    </tr>\n",
       "    <tr>\n",
       "      <th>4</th>\n",
       "      <td>0</td>\n",
       "      <td>0</td>\n",
       "      <td>0</td>\n",
       "      <td>0</td>\n",
       "      <td>0</td>\n",
       "      <td>1</td>\n",
       "      <td>0</td>\n",
       "      <td>0</td>\n",
       "      <td>1</td>\n",
       "    </tr>\n",
       "  </tbody>\n",
       "</table>\n",
       "</div>"
      ],
      "text/plain": [
       "   referral_application_offer  referral_billboards  referral_emails  \\\n",
       "0                           0                    0                1   \n",
       "1                           0                    0                0   \n",
       "2                           0                    1                0   \n",
       "3                           0                    0                0   \n",
       "4                           0                    0                0   \n",
       "\n",
       "   referral_in_store  referral_never  referral_social_media  \\\n",
       "0                  0               0                      1   \n",
       "1                  1               0                      1   \n",
       "2                  1               0                      0   \n",
       "3                  0               0                      0   \n",
       "4                  0               0                      1   \n",
       "\n",
       "   referral_deal_sites  referral_friends  referral_starbucks_website_app  \n",
       "0                    1                 0                               1  \n",
       "1                    0                 0                               0  \n",
       "2                    0                 0                               0  \n",
       "3                    0                 1                               0  \n",
       "4                    0                 0                               1  "
      ]
     },
     "execution_count": 715,
     "metadata": {},
     "output_type": "execute_result"
    }
   ],
   "source": [
    "referral_dummy = pd.DataFrame({'referral_application_offer':referral_application_offer, \n",
    "                               'referral_billboards':referral_billboards, \n",
    "                               'referral_emails':referral_emails, \n",
    "                               'referral_in_store':referral_in_store, \n",
    "                               'referral_never':referral_never, \n",
    "                               'referral_social_media':referral_social_media, \n",
    "                               'referral_deal_sites':referral_deal_sites, \n",
    "                               'referral_friends':referral_friends,\n",
    "                               'referral_starbucks_website_app':referral_starbucks_website_app })\n",
    "referral_dummy.head()"
   ]
  },
  {
   "cell_type": "markdown",
   "metadata": {
    "colab_type": "text",
    "id": "01r0_rFvjJPo"
   },
   "source": [
    "- Next, Continued Patronage"
   ]
  },
  {
   "cell_type": "code",
   "execution_count": 716,
   "metadata": {
    "colab": {
     "base_uri": "https://localhost:8080/",
     "height": 203
    },
    "colab_type": "code",
    "id": "WZ-71ei8jJPq",
    "outputId": "ba1c4da6-9afe-4844-f4f0-d494d84940eb"
   },
   "outputs": [
    {
     "data": {
      "text/html": [
       "<div>\n",
       "<style scoped>\n",
       "    .dataframe tbody tr th:only-of-type {\n",
       "        vertical-align: middle;\n",
       "    }\n",
       "\n",
       "    .dataframe tbody tr th {\n",
       "        vertical-align: top;\n",
       "    }\n",
       "\n",
       "    .dataframe thead th {\n",
       "        text-align: right;\n",
       "    }\n",
       "</style>\n",
       "<table border=\"1\" class=\"dataframe\">\n",
       "  <thead>\n",
       "    <tr style=\"text-align: right;\">\n",
       "      <th></th>\n",
       "      <th>continued_patronage_No</th>\n",
       "      <th>continued_patronage_Yes</th>\n",
       "    </tr>\n",
       "  </thead>\n",
       "  <tbody>\n",
       "    <tr>\n",
       "      <th>0</th>\n",
       "      <td>0</td>\n",
       "      <td>1</td>\n",
       "    </tr>\n",
       "    <tr>\n",
       "      <th>1</th>\n",
       "      <td>0</td>\n",
       "      <td>1</td>\n",
       "    </tr>\n",
       "    <tr>\n",
       "      <th>2</th>\n",
       "      <td>0</td>\n",
       "      <td>1</td>\n",
       "    </tr>\n",
       "    <tr>\n",
       "      <th>3</th>\n",
       "      <td>1</td>\n",
       "      <td>0</td>\n",
       "    </tr>\n",
       "    <tr>\n",
       "      <th>4</th>\n",
       "      <td>0</td>\n",
       "      <td>1</td>\n",
       "    </tr>\n",
       "  </tbody>\n",
       "</table>\n",
       "</div>"
      ],
      "text/plain": [
       "   continued_patronage_No  continued_patronage_Yes\n",
       "0                       0                        1\n",
       "1                       0                        1\n",
       "2                       0                        1\n",
       "3                       1                        0\n",
       "4                       0                        1"
      ]
     },
     "execution_count": 716,
     "metadata": {},
     "output_type": "execute_result"
    }
   ],
   "source": [
    "continued_patronage_dummy = pd.get_dummies(df.continued_patronage)\n",
    "continued_patronage_dummy.columns = ['continued_patronage_'+col \n",
    "                                     for col in \n",
    "                                     continued_patronage_dummy.columns]\n",
    "continued_patronage_dummy.head()"
   ]
  },
  {
   "cell_type": "markdown",
   "metadata": {
    "colab_type": "text",
    "id": "92p9riY8jJPs"
   },
   "source": [
    "### Finally, merge all the new dataframes into the current dataframe df"
   ]
  },
  {
   "cell_type": "code",
   "execution_count": 717,
   "metadata": {
    "colab": {
     "base_uri": "https://localhost:8080/",
     "height": 514
    },
    "colab_type": "code",
    "id": "svHcpFiTjJPt",
    "outputId": "509ed36b-6d5d-4ca2-9e97-078f937dd2f2"
   },
   "outputs": [
    {
     "data": {
      "text/html": [
       "<div>\n",
       "<style scoped>\n",
       "    .dataframe tbody tr th:only-of-type {\n",
       "        vertical-align: middle;\n",
       "    }\n",
       "\n",
       "    .dataframe tbody tr th {\n",
       "        vertical-align: top;\n",
       "    }\n",
       "\n",
       "    .dataframe thead th {\n",
       "        text-align: right;\n",
       "    }\n",
       "</style>\n",
       "<table border=\"1\" class=\"dataframe\">\n",
       "  <thead>\n",
       "    <tr style=\"text-align: right;\">\n",
       "      <th></th>\n",
       "      <th>timestamp</th>\n",
       "      <th>gender</th>\n",
       "      <th>age</th>\n",
       "      <th>occupation</th>\n",
       "      <th>income_rm</th>\n",
       "      <th>visit_frequency</th>\n",
       "      <th>most_used_service</th>\n",
       "      <th>time_spent_per_visit</th>\n",
       "      <th>distance_from_shop</th>\n",
       "      <th>member</th>\n",
       "      <th>most_purchased_item</th>\n",
       "      <th>average_amount_spent_rm</th>\n",
       "      <th>brand_rating_comparison</th>\n",
       "      <th>price_rating</th>\n",
       "      <th>sales_promotions_influence</th>\n",
       "      <th>ambience_rating</th>\n",
       "      <th>wifi_rating</th>\n",
       "      <th>service_rating</th>\n",
       "      <th>preferred_social_hangout</th>\n",
       "      <th>referral</th>\n",
       "      <th>continued_patronage</th>\n",
       "      <th>Female</th>\n",
       "      <th>Male</th>\n",
       "      <th>age_40 and above</th>\n",
       "      <th>age_Below 20</th>\n",
       "      <th>age_From 20 to 29</th>\n",
       "      <th>age_From 30 to 39</th>\n",
       "      <th>distance_1km - 3km</th>\n",
       "      <th>distance_more than 3km</th>\n",
       "      <th>distance_within 1km</th>\n",
       "      <th>occupation_Employed</th>\n",
       "      <th>occupation_Housewife</th>\n",
       "      <th>occupation_Self-employed</th>\n",
       "      <th>occupation_Student</th>\n",
       "      <th>income_Less than RM25,000</th>\n",
       "      <th>income_More than RM150,000</th>\n",
       "      <th>income_RM100,000 - RM150,000</th>\n",
       "      <th>income_RM25,000 - RM50,000</th>\n",
       "      <th>income_RM50,000 - RM100,000</th>\n",
       "      <th>visit_Daily</th>\n",
       "      <th>visit_Monthly</th>\n",
       "      <th>visit_Never</th>\n",
       "      <th>visit_Rarely</th>\n",
       "      <th>visit_Weekly</th>\n",
       "      <th>most_used_Dine in</th>\n",
       "      <th>most_used_Drive-thru</th>\n",
       "      <th>most_used_Never</th>\n",
       "      <th>most_used_Take away</th>\n",
       "      <th>most_used_unknown</th>\n",
       "      <th>time_spent_Below 30 minutes</th>\n",
       "      <th>time_spent_Between 1 hour to 2 hours</th>\n",
       "      <th>time_spent_Between 2 hours to 3 hours</th>\n",
       "      <th>time_spent_Between 30 minutes to 1 hour</th>\n",
       "      <th>time_spent_More than 3 hours</th>\n",
       "      <th>is_member_No</th>\n",
       "      <th>is_member_Yes</th>\n",
       "      <th>most_purchased_coffee</th>\n",
       "      <th>most_purchased_pastries</th>\n",
       "      <th>most_purchased_sandwiches</th>\n",
       "      <th>most_purchased_cold_drinks</th>\n",
       "      <th>most_purchased_juices</th>\n",
       "      <th>most_purchased_never</th>\n",
       "      <th>most_purchased_cake</th>\n",
       "      <th>most_purchased_jaws_chip</th>\n",
       "      <th>average_amount_spent_Around RM20 - RM40</th>\n",
       "      <th>average_amount_spent_Less than RM20</th>\n",
       "      <th>average_amount_spent_More than RM40</th>\n",
       "      <th>average_amount_spent_Zero</th>\n",
       "      <th>referral_application_offer</th>\n",
       "      <th>referral_billboards</th>\n",
       "      <th>referral_emails</th>\n",
       "      <th>referral_in_store</th>\n",
       "      <th>referral_never</th>\n",
       "      <th>referral_social_media</th>\n",
       "      <th>referral_deal_sites</th>\n",
       "      <th>referral_friends</th>\n",
       "      <th>referral_starbucks_website_app</th>\n",
       "      <th>continued_patronage_No</th>\n",
       "      <th>continued_patronage_Yes</th>\n",
       "    </tr>\n",
       "  </thead>\n",
       "  <tbody>\n",
       "    <tr>\n",
       "      <th>0</th>\n",
       "      <td>2019/10/01 12:38:43 PM GMT+8</td>\n",
       "      <td>Female</td>\n",
       "      <td>From 20 to 29</td>\n",
       "      <td>Student</td>\n",
       "      <td>Less than RM25,000</td>\n",
       "      <td>Rarely</td>\n",
       "      <td>Dine in</td>\n",
       "      <td>Between 30 minutes to 1 hour</td>\n",
       "      <td>within 1km</td>\n",
       "      <td>Yes</td>\n",
       "      <td>Coffee</td>\n",
       "      <td>Less than RM20</td>\n",
       "      <td>4</td>\n",
       "      <td>3</td>\n",
       "      <td>5</td>\n",
       "      <td>5</td>\n",
       "      <td>4</td>\n",
       "      <td>4</td>\n",
       "      <td>3</td>\n",
       "      <td>Starbucks Website/Apps;Social Media;Emails;Dea...</td>\n",
       "      <td>Yes</td>\n",
       "      <td>1</td>\n",
       "      <td>0</td>\n",
       "      <td>0</td>\n",
       "      <td>0</td>\n",
       "      <td>1</td>\n",
       "      <td>0</td>\n",
       "      <td>0</td>\n",
       "      <td>0</td>\n",
       "      <td>1</td>\n",
       "      <td>0</td>\n",
       "      <td>0</td>\n",
       "      <td>0</td>\n",
       "      <td>1</td>\n",
       "      <td>1</td>\n",
       "      <td>0</td>\n",
       "      <td>0</td>\n",
       "      <td>0</td>\n",
       "      <td>0</td>\n",
       "      <td>0</td>\n",
       "      <td>0</td>\n",
       "      <td>0</td>\n",
       "      <td>1</td>\n",
       "      <td>0</td>\n",
       "      <td>1</td>\n",
       "      <td>0</td>\n",
       "      <td>0</td>\n",
       "      <td>0</td>\n",
       "      <td>0</td>\n",
       "      <td>0</td>\n",
       "      <td>0</td>\n",
       "      <td>0</td>\n",
       "      <td>1</td>\n",
       "      <td>0</td>\n",
       "      <td>0</td>\n",
       "      <td>1</td>\n",
       "      <td>1</td>\n",
       "      <td>0</td>\n",
       "      <td>0</td>\n",
       "      <td>0</td>\n",
       "      <td>0</td>\n",
       "      <td>0</td>\n",
       "      <td>0</td>\n",
       "      <td>0</td>\n",
       "      <td>0</td>\n",
       "      <td>1</td>\n",
       "      <td>0</td>\n",
       "      <td>0</td>\n",
       "      <td>0</td>\n",
       "      <td>0</td>\n",
       "      <td>1</td>\n",
       "      <td>0</td>\n",
       "      <td>0</td>\n",
       "      <td>1</td>\n",
       "      <td>1</td>\n",
       "      <td>0</td>\n",
       "      <td>1</td>\n",
       "      <td>0</td>\n",
       "      <td>1</td>\n",
       "    </tr>\n",
       "    <tr>\n",
       "      <th>1</th>\n",
       "      <td>2019/10/01 12:38:54 PM GMT+8</td>\n",
       "      <td>Female</td>\n",
       "      <td>From 20 to 29</td>\n",
       "      <td>Student</td>\n",
       "      <td>Less than RM25,000</td>\n",
       "      <td>Rarely</td>\n",
       "      <td>Take away</td>\n",
       "      <td>Below 30 minutes</td>\n",
       "      <td>1km - 3km</td>\n",
       "      <td>Yes</td>\n",
       "      <td>Cold drinks;Pastries</td>\n",
       "      <td>Less than RM20</td>\n",
       "      <td>4</td>\n",
       "      <td>3</td>\n",
       "      <td>4</td>\n",
       "      <td>4</td>\n",
       "      <td>4</td>\n",
       "      <td>5</td>\n",
       "      <td>2</td>\n",
       "      <td>Social Media;In Store displays</td>\n",
       "      <td>Yes</td>\n",
       "      <td>1</td>\n",
       "      <td>0</td>\n",
       "      <td>0</td>\n",
       "      <td>0</td>\n",
       "      <td>1</td>\n",
       "      <td>0</td>\n",
       "      <td>1</td>\n",
       "      <td>0</td>\n",
       "      <td>0</td>\n",
       "      <td>0</td>\n",
       "      <td>0</td>\n",
       "      <td>0</td>\n",
       "      <td>1</td>\n",
       "      <td>1</td>\n",
       "      <td>0</td>\n",
       "      <td>0</td>\n",
       "      <td>0</td>\n",
       "      <td>0</td>\n",
       "      <td>0</td>\n",
       "      <td>0</td>\n",
       "      <td>0</td>\n",
       "      <td>1</td>\n",
       "      <td>0</td>\n",
       "      <td>0</td>\n",
       "      <td>0</td>\n",
       "      <td>0</td>\n",
       "      <td>1</td>\n",
       "      <td>0</td>\n",
       "      <td>1</td>\n",
       "      <td>0</td>\n",
       "      <td>0</td>\n",
       "      <td>0</td>\n",
       "      <td>0</td>\n",
       "      <td>0</td>\n",
       "      <td>1</td>\n",
       "      <td>0</td>\n",
       "      <td>1</td>\n",
       "      <td>0</td>\n",
       "      <td>1</td>\n",
       "      <td>0</td>\n",
       "      <td>0</td>\n",
       "      <td>0</td>\n",
       "      <td>0</td>\n",
       "      <td>0</td>\n",
       "      <td>1</td>\n",
       "      <td>0</td>\n",
       "      <td>0</td>\n",
       "      <td>0</td>\n",
       "      <td>0</td>\n",
       "      <td>0</td>\n",
       "      <td>1</td>\n",
       "      <td>0</td>\n",
       "      <td>1</td>\n",
       "      <td>0</td>\n",
       "      <td>0</td>\n",
       "      <td>0</td>\n",
       "      <td>0</td>\n",
       "      <td>1</td>\n",
       "    </tr>\n",
       "    <tr>\n",
       "      <th>2</th>\n",
       "      <td>2019/10/01 12:38:56 PM GMT+8</td>\n",
       "      <td>Male</td>\n",
       "      <td>From 20 to 29</td>\n",
       "      <td>Employed</td>\n",
       "      <td>Less than RM25,000</td>\n",
       "      <td>Monthly</td>\n",
       "      <td>Dine in</td>\n",
       "      <td>Between 30 minutes to 1 hour</td>\n",
       "      <td>more than 3km</td>\n",
       "      <td>Yes</td>\n",
       "      <td>Coffee</td>\n",
       "      <td>Less than RM20</td>\n",
       "      <td>4</td>\n",
       "      <td>3</td>\n",
       "      <td>4</td>\n",
       "      <td>4</td>\n",
       "      <td>4</td>\n",
       "      <td>4</td>\n",
       "      <td>3</td>\n",
       "      <td>In Store displays;Billboards</td>\n",
       "      <td>Yes</td>\n",
       "      <td>0</td>\n",
       "      <td>1</td>\n",
       "      <td>0</td>\n",
       "      <td>0</td>\n",
       "      <td>1</td>\n",
       "      <td>0</td>\n",
       "      <td>0</td>\n",
       "      <td>1</td>\n",
       "      <td>0</td>\n",
       "      <td>1</td>\n",
       "      <td>0</td>\n",
       "      <td>0</td>\n",
       "      <td>0</td>\n",
       "      <td>1</td>\n",
       "      <td>0</td>\n",
       "      <td>0</td>\n",
       "      <td>0</td>\n",
       "      <td>0</td>\n",
       "      <td>0</td>\n",
       "      <td>1</td>\n",
       "      <td>0</td>\n",
       "      <td>0</td>\n",
       "      <td>0</td>\n",
       "      <td>1</td>\n",
       "      <td>0</td>\n",
       "      <td>0</td>\n",
       "      <td>0</td>\n",
       "      <td>0</td>\n",
       "      <td>0</td>\n",
       "      <td>0</td>\n",
       "      <td>0</td>\n",
       "      <td>1</td>\n",
       "      <td>0</td>\n",
       "      <td>0</td>\n",
       "      <td>1</td>\n",
       "      <td>1</td>\n",
       "      <td>0</td>\n",
       "      <td>0</td>\n",
       "      <td>0</td>\n",
       "      <td>0</td>\n",
       "      <td>0</td>\n",
       "      <td>0</td>\n",
       "      <td>0</td>\n",
       "      <td>0</td>\n",
       "      <td>1</td>\n",
       "      <td>0</td>\n",
       "      <td>0</td>\n",
       "      <td>0</td>\n",
       "      <td>1</td>\n",
       "      <td>0</td>\n",
       "      <td>1</td>\n",
       "      <td>0</td>\n",
       "      <td>0</td>\n",
       "      <td>0</td>\n",
       "      <td>0</td>\n",
       "      <td>0</td>\n",
       "      <td>0</td>\n",
       "      <td>1</td>\n",
       "    </tr>\n",
       "    <tr>\n",
       "      <th>3</th>\n",
       "      <td>2019/10/01 12:39:08 PM GMT+8</td>\n",
       "      <td>Female</td>\n",
       "      <td>From 20 to 29</td>\n",
       "      <td>Student</td>\n",
       "      <td>Less than RM25,000</td>\n",
       "      <td>Rarely</td>\n",
       "      <td>Take away</td>\n",
       "      <td>Below 30 minutes</td>\n",
       "      <td>more than 3km</td>\n",
       "      <td>No</td>\n",
       "      <td>Coffee</td>\n",
       "      <td>Less than RM20</td>\n",
       "      <td>2</td>\n",
       "      <td>1</td>\n",
       "      <td>4</td>\n",
       "      <td>3</td>\n",
       "      <td>3</td>\n",
       "      <td>3</td>\n",
       "      <td>3</td>\n",
       "      <td>Through friends and word of mouth</td>\n",
       "      <td>No</td>\n",
       "      <td>1</td>\n",
       "      <td>0</td>\n",
       "      <td>0</td>\n",
       "      <td>0</td>\n",
       "      <td>1</td>\n",
       "      <td>0</td>\n",
       "      <td>0</td>\n",
       "      <td>1</td>\n",
       "      <td>0</td>\n",
       "      <td>0</td>\n",
       "      <td>0</td>\n",
       "      <td>0</td>\n",
       "      <td>1</td>\n",
       "      <td>1</td>\n",
       "      <td>0</td>\n",
       "      <td>0</td>\n",
       "      <td>0</td>\n",
       "      <td>0</td>\n",
       "      <td>0</td>\n",
       "      <td>0</td>\n",
       "      <td>0</td>\n",
       "      <td>1</td>\n",
       "      <td>0</td>\n",
       "      <td>0</td>\n",
       "      <td>0</td>\n",
       "      <td>0</td>\n",
       "      <td>1</td>\n",
       "      <td>0</td>\n",
       "      <td>1</td>\n",
       "      <td>0</td>\n",
       "      <td>0</td>\n",
       "      <td>0</td>\n",
       "      <td>0</td>\n",
       "      <td>1</td>\n",
       "      <td>0</td>\n",
       "      <td>1</td>\n",
       "      <td>0</td>\n",
       "      <td>0</td>\n",
       "      <td>0</td>\n",
       "      <td>0</td>\n",
       "      <td>0</td>\n",
       "      <td>0</td>\n",
       "      <td>0</td>\n",
       "      <td>0</td>\n",
       "      <td>1</td>\n",
       "      <td>0</td>\n",
       "      <td>0</td>\n",
       "      <td>0</td>\n",
       "      <td>0</td>\n",
       "      <td>0</td>\n",
       "      <td>0</td>\n",
       "      <td>0</td>\n",
       "      <td>0</td>\n",
       "      <td>0</td>\n",
       "      <td>1</td>\n",
       "      <td>0</td>\n",
       "      <td>1</td>\n",
       "      <td>0</td>\n",
       "    </tr>\n",
       "    <tr>\n",
       "      <th>4</th>\n",
       "      <td>2019/10/01 12:39:20 PM GMT+8</td>\n",
       "      <td>Male</td>\n",
       "      <td>From 20 to 29</td>\n",
       "      <td>Student</td>\n",
       "      <td>Less than RM25,000</td>\n",
       "      <td>Monthly</td>\n",
       "      <td>Take away</td>\n",
       "      <td>Between 30 minutes to 1 hour</td>\n",
       "      <td>1km - 3km</td>\n",
       "      <td>No</td>\n",
       "      <td>Coffee;Sandwiches</td>\n",
       "      <td>Around RM20 - RM40</td>\n",
       "      <td>3</td>\n",
       "      <td>3</td>\n",
       "      <td>4</td>\n",
       "      <td>2</td>\n",
       "      <td>2</td>\n",
       "      <td>3</td>\n",
       "      <td>3</td>\n",
       "      <td>Starbucks Website/Apps;Social Media</td>\n",
       "      <td>Yes</td>\n",
       "      <td>0</td>\n",
       "      <td>1</td>\n",
       "      <td>0</td>\n",
       "      <td>0</td>\n",
       "      <td>1</td>\n",
       "      <td>0</td>\n",
       "      <td>1</td>\n",
       "      <td>0</td>\n",
       "      <td>0</td>\n",
       "      <td>0</td>\n",
       "      <td>0</td>\n",
       "      <td>0</td>\n",
       "      <td>1</td>\n",
       "      <td>1</td>\n",
       "      <td>0</td>\n",
       "      <td>0</td>\n",
       "      <td>0</td>\n",
       "      <td>0</td>\n",
       "      <td>0</td>\n",
       "      <td>1</td>\n",
       "      <td>0</td>\n",
       "      <td>0</td>\n",
       "      <td>0</td>\n",
       "      <td>0</td>\n",
       "      <td>0</td>\n",
       "      <td>0</td>\n",
       "      <td>1</td>\n",
       "      <td>0</td>\n",
       "      <td>0</td>\n",
       "      <td>0</td>\n",
       "      <td>0</td>\n",
       "      <td>1</td>\n",
       "      <td>0</td>\n",
       "      <td>1</td>\n",
       "      <td>0</td>\n",
       "      <td>1</td>\n",
       "      <td>0</td>\n",
       "      <td>1</td>\n",
       "      <td>0</td>\n",
       "      <td>0</td>\n",
       "      <td>0</td>\n",
       "      <td>0</td>\n",
       "      <td>0</td>\n",
       "      <td>1</td>\n",
       "      <td>0</td>\n",
       "      <td>0</td>\n",
       "      <td>0</td>\n",
       "      <td>0</td>\n",
       "      <td>0</td>\n",
       "      <td>0</td>\n",
       "      <td>0</td>\n",
       "      <td>0</td>\n",
       "      <td>1</td>\n",
       "      <td>0</td>\n",
       "      <td>0</td>\n",
       "      <td>1</td>\n",
       "      <td>0</td>\n",
       "      <td>1</td>\n",
       "    </tr>\n",
       "  </tbody>\n",
       "</table>\n",
       "</div>"
      ],
      "text/plain": [
       "                      timestamp  gender            age occupation  \\\n",
       "0  2019/10/01 12:38:43 PM GMT+8  Female  From 20 to 29    Student   \n",
       "1  2019/10/01 12:38:54 PM GMT+8  Female  From 20 to 29    Student   \n",
       "2  2019/10/01 12:38:56 PM GMT+8    Male  From 20 to 29   Employed   \n",
       "3  2019/10/01 12:39:08 PM GMT+8  Female  From 20 to 29    Student   \n",
       "4  2019/10/01 12:39:20 PM GMT+8    Male  From 20 to 29    Student   \n",
       "\n",
       "            income_rm visit_frequency most_used_service  \\\n",
       "0  Less than RM25,000          Rarely           Dine in   \n",
       "1  Less than RM25,000          Rarely         Take away   \n",
       "2  Less than RM25,000         Monthly           Dine in   \n",
       "3  Less than RM25,000          Rarely         Take away   \n",
       "4  Less than RM25,000         Monthly         Take away   \n",
       "\n",
       "           time_spent_per_visit distance_from_shop member  \\\n",
       "0  Between 30 minutes to 1 hour         within 1km    Yes   \n",
       "1              Below 30 minutes          1km - 3km    Yes   \n",
       "2  Between 30 minutes to 1 hour      more than 3km    Yes   \n",
       "3              Below 30 minutes      more than 3km     No   \n",
       "4  Between 30 minutes to 1 hour          1km - 3km     No   \n",
       "\n",
       "    most_purchased_item average_amount_spent_rm  brand_rating_comparison  \\\n",
       "0                Coffee          Less than RM20                        4   \n",
       "1  Cold drinks;Pastries          Less than RM20                        4   \n",
       "2                Coffee          Less than RM20                        4   \n",
       "3                Coffee          Less than RM20                        2   \n",
       "4     Coffee;Sandwiches      Around RM20 - RM40                        3   \n",
       "\n",
       "   price_rating  sales_promotions_influence  ambience_rating  wifi_rating  \\\n",
       "0             3                           5                5            4   \n",
       "1             3                           4                4            4   \n",
       "2             3                           4                4            4   \n",
       "3             1                           4                3            3   \n",
       "4             3                           4                2            2   \n",
       "\n",
       "   service_rating  preferred_social_hangout  \\\n",
       "0               4                         3   \n",
       "1               5                         2   \n",
       "2               4                         3   \n",
       "3               3                         3   \n",
       "4               3                         3   \n",
       "\n",
       "                                            referral continued_patronage  \\\n",
       "0  Starbucks Website/Apps;Social Media;Emails;Dea...                 Yes   \n",
       "1                     Social Media;In Store displays                 Yes   \n",
       "2                       In Store displays;Billboards                 Yes   \n",
       "3                  Through friends and word of mouth                  No   \n",
       "4                Starbucks Website/Apps;Social Media                 Yes   \n",
       "\n",
       "   Female  Male  age_40 and above  age_Below 20  age_From 20 to 29  \\\n",
       "0       1     0                 0             0                  1   \n",
       "1       1     0                 0             0                  1   \n",
       "2       0     1                 0             0                  1   \n",
       "3       1     0                 0             0                  1   \n",
       "4       0     1                 0             0                  1   \n",
       "\n",
       "   age_From 30 to 39  distance_1km - 3km  distance_more than 3km  \\\n",
       "0                  0                   0                       0   \n",
       "1                  0                   1                       0   \n",
       "2                  0                   0                       1   \n",
       "3                  0                   0                       1   \n",
       "4                  0                   1                       0   \n",
       "\n",
       "   distance_within 1km  occupation_Employed  occupation_Housewife  \\\n",
       "0                    1                    0                     0   \n",
       "1                    0                    0                     0   \n",
       "2                    0                    1                     0   \n",
       "3                    0                    0                     0   \n",
       "4                    0                    0                     0   \n",
       "\n",
       "   occupation_Self-employed  occupation_Student  income_Less than RM25,000  \\\n",
       "0                         0                   1                          1   \n",
       "1                         0                   1                          1   \n",
       "2                         0                   0                          1   \n",
       "3                         0                   1                          1   \n",
       "4                         0                   1                          1   \n",
       "\n",
       "   income_More than RM150,000  income_RM100,000 - RM150,000  \\\n",
       "0                           0                             0   \n",
       "1                           0                             0   \n",
       "2                           0                             0   \n",
       "3                           0                             0   \n",
       "4                           0                             0   \n",
       "\n",
       "   income_RM25,000 - RM50,000  income_RM50,000 - RM100,000  visit_Daily  \\\n",
       "0                           0                            0            0   \n",
       "1                           0                            0            0   \n",
       "2                           0                            0            0   \n",
       "3                           0                            0            0   \n",
       "4                           0                            0            0   \n",
       "\n",
       "   visit_Monthly  visit_Never  visit_Rarely  visit_Weekly  most_used_Dine in  \\\n",
       "0              0            0             1             0                  1   \n",
       "1              0            0             1             0                  0   \n",
       "2              1            0             0             0                  1   \n",
       "3              0            0             1             0                  0   \n",
       "4              1            0             0             0                  0   \n",
       "\n",
       "   most_used_Drive-thru  most_used_Never  most_used_Take away  \\\n",
       "0                     0                0                    0   \n",
       "1                     0                0                    1   \n",
       "2                     0                0                    0   \n",
       "3                     0                0                    1   \n",
       "4                     0                0                    1   \n",
       "\n",
       "   most_used_unknown  time_spent_Below 30 minutes  \\\n",
       "0                  0                            0   \n",
       "1                  0                            1   \n",
       "2                  0                            0   \n",
       "3                  0                            1   \n",
       "4                  0                            0   \n",
       "\n",
       "   time_spent_Between 1 hour to 2 hours  \\\n",
       "0                                     0   \n",
       "1                                     0   \n",
       "2                                     0   \n",
       "3                                     0   \n",
       "4                                     0   \n",
       "\n",
       "   time_spent_Between 2 hours to 3 hours  \\\n",
       "0                                      0   \n",
       "1                                      0   \n",
       "2                                      0   \n",
       "3                                      0   \n",
       "4                                      0   \n",
       "\n",
       "   time_spent_Between 30 minutes to 1 hour  time_spent_More than 3 hours  \\\n",
       "0                                        1                             0   \n",
       "1                                        0                             0   \n",
       "2                                        1                             0   \n",
       "3                                        0                             0   \n",
       "4                                        1                             0   \n",
       "\n",
       "   is_member_No  is_member_Yes  most_purchased_coffee  \\\n",
       "0             0              1                      1   \n",
       "1             0              1                      0   \n",
       "2             0              1                      1   \n",
       "3             1              0                      1   \n",
       "4             1              0                      1   \n",
       "\n",
       "   most_purchased_pastries  most_purchased_sandwiches  \\\n",
       "0                        0                          0   \n",
       "1                        1                          0   \n",
       "2                        0                          0   \n",
       "3                        0                          0   \n",
       "4                        0                          1   \n",
       "\n",
       "   most_purchased_cold_drinks  most_purchased_juices  most_purchased_never  \\\n",
       "0                           0                      0                     0   \n",
       "1                           1                      0                     0   \n",
       "2                           0                      0                     0   \n",
       "3                           0                      0                     0   \n",
       "4                           0                      0                     0   \n",
       "\n",
       "   most_purchased_cake  most_purchased_jaws_chip  \\\n",
       "0                    0                         0   \n",
       "1                    0                         0   \n",
       "2                    0                         0   \n",
       "3                    0                         0   \n",
       "4                    0                         0   \n",
       "\n",
       "   average_amount_spent_Around RM20 - RM40  \\\n",
       "0                                        0   \n",
       "1                                        0   \n",
       "2                                        0   \n",
       "3                                        0   \n",
       "4                                        1   \n",
       "\n",
       "   average_amount_spent_Less than RM20  average_amount_spent_More than RM40  \\\n",
       "0                                    1                                    0   \n",
       "1                                    1                                    0   \n",
       "2                                    1                                    0   \n",
       "3                                    1                                    0   \n",
       "4                                    0                                    0   \n",
       "\n",
       "   average_amount_spent_Zero  referral_application_offer  referral_billboards  \\\n",
       "0                          0                           0                    0   \n",
       "1                          0                           0                    0   \n",
       "2                          0                           0                    1   \n",
       "3                          0                           0                    0   \n",
       "4                          0                           0                    0   \n",
       "\n",
       "   referral_emails  referral_in_store  referral_never  referral_social_media  \\\n",
       "0                1                  0               0                      1   \n",
       "1                0                  1               0                      1   \n",
       "2                0                  1               0                      0   \n",
       "3                0                  0               0                      0   \n",
       "4                0                  0               0                      1   \n",
       "\n",
       "   referral_deal_sites  referral_friends  referral_starbucks_website_app  \\\n",
       "0                    1                 0                               1   \n",
       "1                    0                 0                               0   \n",
       "2                    0                 0                               0   \n",
       "3                    0                 1                               0   \n",
       "4                    0                 0                               1   \n",
       "\n",
       "   continued_patronage_No  continued_patronage_Yes  \n",
       "0                       0                        1  \n",
       "1                       0                        1  \n",
       "2                       0                        1  \n",
       "3                       1                        0  \n",
       "4                       0                        1  "
      ]
     },
     "execution_count": 717,
     "metadata": {},
     "output_type": "execute_result"
    }
   ],
   "source": [
    "df_dummy = pd.concat([df, gender_dummy, age_dummy, distance_from_shop_dummy, \n",
    "                      occupation_dummy, income_dummy, visit_frequency_dummy, \n",
    "                      most_used_service_dummy, time_spent_per_visit_dummy, \n",
    "                      member_dummy, most_purchased_items_dummy, \n",
    "                      average_amount_spent_dummy, referral_dummy, \n",
    "                      continued_patronage_dummy], \n",
    "                     axis=1)\n",
    "df_dummy.head()"
   ]
  },
  {
   "cell_type": "markdown",
   "metadata": {
    "colab_type": "text",
    "id": "TEwB2Lx-jJPv"
   },
   "source": [
    "Drop columns that have been dummy coded"
   ]
  },
  {
   "cell_type": "code",
   "execution_count": 718,
   "metadata": {
    "colab": {
     "base_uri": "https://localhost:8080/",
     "height": 514
    },
    "colab_type": "code",
    "id": "Rkbowt0kjJPw",
    "outputId": "fbdf98fb-1a30-4fe9-cf85-04dcf86b807a"
   },
   "outputs": [
    {
     "data": {
      "text/html": [
       "<div>\n",
       "<style scoped>\n",
       "    .dataframe tbody tr th:only-of-type {\n",
       "        vertical-align: middle;\n",
       "    }\n",
       "\n",
       "    .dataframe tbody tr th {\n",
       "        vertical-align: top;\n",
       "    }\n",
       "\n",
       "    .dataframe thead th {\n",
       "        text-align: right;\n",
       "    }\n",
       "</style>\n",
       "<table border=\"1\" class=\"dataframe\">\n",
       "  <thead>\n",
       "    <tr style=\"text-align: right;\">\n",
       "      <th></th>\n",
       "      <th>timestamp</th>\n",
       "      <th>brand_rating_comparison</th>\n",
       "      <th>price_rating</th>\n",
       "      <th>sales_promotions_influence</th>\n",
       "      <th>ambience_rating</th>\n",
       "      <th>wifi_rating</th>\n",
       "      <th>service_rating</th>\n",
       "      <th>preferred_social_hangout</th>\n",
       "      <th>Female</th>\n",
       "      <th>Male</th>\n",
       "      <th>age_40 and above</th>\n",
       "      <th>age_Below 20</th>\n",
       "      <th>age_From 20 to 29</th>\n",
       "      <th>age_From 30 to 39</th>\n",
       "      <th>distance_1km - 3km</th>\n",
       "      <th>distance_more than 3km</th>\n",
       "      <th>distance_within 1km</th>\n",
       "      <th>occupation_Employed</th>\n",
       "      <th>occupation_Housewife</th>\n",
       "      <th>occupation_Self-employed</th>\n",
       "      <th>occupation_Student</th>\n",
       "      <th>income_Less than RM25,000</th>\n",
       "      <th>income_More than RM150,000</th>\n",
       "      <th>income_RM100,000 - RM150,000</th>\n",
       "      <th>income_RM25,000 - RM50,000</th>\n",
       "      <th>income_RM50,000 - RM100,000</th>\n",
       "      <th>visit_Daily</th>\n",
       "      <th>visit_Monthly</th>\n",
       "      <th>visit_Never</th>\n",
       "      <th>visit_Rarely</th>\n",
       "      <th>visit_Weekly</th>\n",
       "      <th>most_used_Dine in</th>\n",
       "      <th>most_used_Drive-thru</th>\n",
       "      <th>most_used_Never</th>\n",
       "      <th>most_used_Take away</th>\n",
       "      <th>most_used_unknown</th>\n",
       "      <th>time_spent_Below 30 minutes</th>\n",
       "      <th>time_spent_Between 1 hour to 2 hours</th>\n",
       "      <th>time_spent_Between 2 hours to 3 hours</th>\n",
       "      <th>time_spent_Between 30 minutes to 1 hour</th>\n",
       "      <th>time_spent_More than 3 hours</th>\n",
       "      <th>is_member_No</th>\n",
       "      <th>is_member_Yes</th>\n",
       "      <th>most_purchased_coffee</th>\n",
       "      <th>most_purchased_pastries</th>\n",
       "      <th>most_purchased_sandwiches</th>\n",
       "      <th>most_purchased_cold_drinks</th>\n",
       "      <th>most_purchased_juices</th>\n",
       "      <th>most_purchased_never</th>\n",
       "      <th>most_purchased_cake</th>\n",
       "      <th>most_purchased_jaws_chip</th>\n",
       "      <th>average_amount_spent_Around RM20 - RM40</th>\n",
       "      <th>average_amount_spent_Less than RM20</th>\n",
       "      <th>average_amount_spent_More than RM40</th>\n",
       "      <th>average_amount_spent_Zero</th>\n",
       "      <th>referral_application_offer</th>\n",
       "      <th>referral_billboards</th>\n",
       "      <th>referral_emails</th>\n",
       "      <th>referral_in_store</th>\n",
       "      <th>referral_never</th>\n",
       "      <th>referral_social_media</th>\n",
       "      <th>referral_deal_sites</th>\n",
       "      <th>referral_friends</th>\n",
       "      <th>referral_starbucks_website_app</th>\n",
       "      <th>continued_patronage_No</th>\n",
       "      <th>continued_patronage_Yes</th>\n",
       "    </tr>\n",
       "  </thead>\n",
       "  <tbody>\n",
       "    <tr>\n",
       "      <th>0</th>\n",
       "      <td>2019/10/01 12:38:43 PM GMT+8</td>\n",
       "      <td>4</td>\n",
       "      <td>3</td>\n",
       "      <td>5</td>\n",
       "      <td>5</td>\n",
       "      <td>4</td>\n",
       "      <td>4</td>\n",
       "      <td>3</td>\n",
       "      <td>1</td>\n",
       "      <td>0</td>\n",
       "      <td>0</td>\n",
       "      <td>0</td>\n",
       "      <td>1</td>\n",
       "      <td>0</td>\n",
       "      <td>0</td>\n",
       "      <td>0</td>\n",
       "      <td>1</td>\n",
       "      <td>0</td>\n",
       "      <td>0</td>\n",
       "      <td>0</td>\n",
       "      <td>1</td>\n",
       "      <td>1</td>\n",
       "      <td>0</td>\n",
       "      <td>0</td>\n",
       "      <td>0</td>\n",
       "      <td>0</td>\n",
       "      <td>0</td>\n",
       "      <td>0</td>\n",
       "      <td>0</td>\n",
       "      <td>1</td>\n",
       "      <td>0</td>\n",
       "      <td>1</td>\n",
       "      <td>0</td>\n",
       "      <td>0</td>\n",
       "      <td>0</td>\n",
       "      <td>0</td>\n",
       "      <td>0</td>\n",
       "      <td>0</td>\n",
       "      <td>0</td>\n",
       "      <td>1</td>\n",
       "      <td>0</td>\n",
       "      <td>0</td>\n",
       "      <td>1</td>\n",
       "      <td>1</td>\n",
       "      <td>0</td>\n",
       "      <td>0</td>\n",
       "      <td>0</td>\n",
       "      <td>0</td>\n",
       "      <td>0</td>\n",
       "      <td>0</td>\n",
       "      <td>0</td>\n",
       "      <td>0</td>\n",
       "      <td>1</td>\n",
       "      <td>0</td>\n",
       "      <td>0</td>\n",
       "      <td>0</td>\n",
       "      <td>0</td>\n",
       "      <td>1</td>\n",
       "      <td>0</td>\n",
       "      <td>0</td>\n",
       "      <td>1</td>\n",
       "      <td>1</td>\n",
       "      <td>0</td>\n",
       "      <td>1</td>\n",
       "      <td>0</td>\n",
       "      <td>1</td>\n",
       "    </tr>\n",
       "    <tr>\n",
       "      <th>1</th>\n",
       "      <td>2019/10/01 12:38:54 PM GMT+8</td>\n",
       "      <td>4</td>\n",
       "      <td>3</td>\n",
       "      <td>4</td>\n",
       "      <td>4</td>\n",
       "      <td>4</td>\n",
       "      <td>5</td>\n",
       "      <td>2</td>\n",
       "      <td>1</td>\n",
       "      <td>0</td>\n",
       "      <td>0</td>\n",
       "      <td>0</td>\n",
       "      <td>1</td>\n",
       "      <td>0</td>\n",
       "      <td>1</td>\n",
       "      <td>0</td>\n",
       "      <td>0</td>\n",
       "      <td>0</td>\n",
       "      <td>0</td>\n",
       "      <td>0</td>\n",
       "      <td>1</td>\n",
       "      <td>1</td>\n",
       "      <td>0</td>\n",
       "      <td>0</td>\n",
       "      <td>0</td>\n",
       "      <td>0</td>\n",
       "      <td>0</td>\n",
       "      <td>0</td>\n",
       "      <td>0</td>\n",
       "      <td>1</td>\n",
       "      <td>0</td>\n",
       "      <td>0</td>\n",
       "      <td>0</td>\n",
       "      <td>0</td>\n",
       "      <td>1</td>\n",
       "      <td>0</td>\n",
       "      <td>1</td>\n",
       "      <td>0</td>\n",
       "      <td>0</td>\n",
       "      <td>0</td>\n",
       "      <td>0</td>\n",
       "      <td>0</td>\n",
       "      <td>1</td>\n",
       "      <td>0</td>\n",
       "      <td>1</td>\n",
       "      <td>0</td>\n",
       "      <td>1</td>\n",
       "      <td>0</td>\n",
       "      <td>0</td>\n",
       "      <td>0</td>\n",
       "      <td>0</td>\n",
       "      <td>0</td>\n",
       "      <td>1</td>\n",
       "      <td>0</td>\n",
       "      <td>0</td>\n",
       "      <td>0</td>\n",
       "      <td>0</td>\n",
       "      <td>0</td>\n",
       "      <td>1</td>\n",
       "      <td>0</td>\n",
       "      <td>1</td>\n",
       "      <td>0</td>\n",
       "      <td>0</td>\n",
       "      <td>0</td>\n",
       "      <td>0</td>\n",
       "      <td>1</td>\n",
       "    </tr>\n",
       "    <tr>\n",
       "      <th>2</th>\n",
       "      <td>2019/10/01 12:38:56 PM GMT+8</td>\n",
       "      <td>4</td>\n",
       "      <td>3</td>\n",
       "      <td>4</td>\n",
       "      <td>4</td>\n",
       "      <td>4</td>\n",
       "      <td>4</td>\n",
       "      <td>3</td>\n",
       "      <td>0</td>\n",
       "      <td>1</td>\n",
       "      <td>0</td>\n",
       "      <td>0</td>\n",
       "      <td>1</td>\n",
       "      <td>0</td>\n",
       "      <td>0</td>\n",
       "      <td>1</td>\n",
       "      <td>0</td>\n",
       "      <td>1</td>\n",
       "      <td>0</td>\n",
       "      <td>0</td>\n",
       "      <td>0</td>\n",
       "      <td>1</td>\n",
       "      <td>0</td>\n",
       "      <td>0</td>\n",
       "      <td>0</td>\n",
       "      <td>0</td>\n",
       "      <td>0</td>\n",
       "      <td>1</td>\n",
       "      <td>0</td>\n",
       "      <td>0</td>\n",
       "      <td>0</td>\n",
       "      <td>1</td>\n",
       "      <td>0</td>\n",
       "      <td>0</td>\n",
       "      <td>0</td>\n",
       "      <td>0</td>\n",
       "      <td>0</td>\n",
       "      <td>0</td>\n",
       "      <td>0</td>\n",
       "      <td>1</td>\n",
       "      <td>0</td>\n",
       "      <td>0</td>\n",
       "      <td>1</td>\n",
       "      <td>1</td>\n",
       "      <td>0</td>\n",
       "      <td>0</td>\n",
       "      <td>0</td>\n",
       "      <td>0</td>\n",
       "      <td>0</td>\n",
       "      <td>0</td>\n",
       "      <td>0</td>\n",
       "      <td>0</td>\n",
       "      <td>1</td>\n",
       "      <td>0</td>\n",
       "      <td>0</td>\n",
       "      <td>0</td>\n",
       "      <td>1</td>\n",
       "      <td>0</td>\n",
       "      <td>1</td>\n",
       "      <td>0</td>\n",
       "      <td>0</td>\n",
       "      <td>0</td>\n",
       "      <td>0</td>\n",
       "      <td>0</td>\n",
       "      <td>0</td>\n",
       "      <td>1</td>\n",
       "    </tr>\n",
       "    <tr>\n",
       "      <th>3</th>\n",
       "      <td>2019/10/01 12:39:08 PM GMT+8</td>\n",
       "      <td>2</td>\n",
       "      <td>1</td>\n",
       "      <td>4</td>\n",
       "      <td>3</td>\n",
       "      <td>3</td>\n",
       "      <td>3</td>\n",
       "      <td>3</td>\n",
       "      <td>1</td>\n",
       "      <td>0</td>\n",
       "      <td>0</td>\n",
       "      <td>0</td>\n",
       "      <td>1</td>\n",
       "      <td>0</td>\n",
       "      <td>0</td>\n",
       "      <td>1</td>\n",
       "      <td>0</td>\n",
       "      <td>0</td>\n",
       "      <td>0</td>\n",
       "      <td>0</td>\n",
       "      <td>1</td>\n",
       "      <td>1</td>\n",
       "      <td>0</td>\n",
       "      <td>0</td>\n",
       "      <td>0</td>\n",
       "      <td>0</td>\n",
       "      <td>0</td>\n",
       "      <td>0</td>\n",
       "      <td>0</td>\n",
       "      <td>1</td>\n",
       "      <td>0</td>\n",
       "      <td>0</td>\n",
       "      <td>0</td>\n",
       "      <td>0</td>\n",
       "      <td>1</td>\n",
       "      <td>0</td>\n",
       "      <td>1</td>\n",
       "      <td>0</td>\n",
       "      <td>0</td>\n",
       "      <td>0</td>\n",
       "      <td>0</td>\n",
       "      <td>1</td>\n",
       "      <td>0</td>\n",
       "      <td>1</td>\n",
       "      <td>0</td>\n",
       "      <td>0</td>\n",
       "      <td>0</td>\n",
       "      <td>0</td>\n",
       "      <td>0</td>\n",
       "      <td>0</td>\n",
       "      <td>0</td>\n",
       "      <td>0</td>\n",
       "      <td>1</td>\n",
       "      <td>0</td>\n",
       "      <td>0</td>\n",
       "      <td>0</td>\n",
       "      <td>0</td>\n",
       "      <td>0</td>\n",
       "      <td>0</td>\n",
       "      <td>0</td>\n",
       "      <td>0</td>\n",
       "      <td>0</td>\n",
       "      <td>1</td>\n",
       "      <td>0</td>\n",
       "      <td>1</td>\n",
       "      <td>0</td>\n",
       "    </tr>\n",
       "    <tr>\n",
       "      <th>4</th>\n",
       "      <td>2019/10/01 12:39:20 PM GMT+8</td>\n",
       "      <td>3</td>\n",
       "      <td>3</td>\n",
       "      <td>4</td>\n",
       "      <td>2</td>\n",
       "      <td>2</td>\n",
       "      <td>3</td>\n",
       "      <td>3</td>\n",
       "      <td>0</td>\n",
       "      <td>1</td>\n",
       "      <td>0</td>\n",
       "      <td>0</td>\n",
       "      <td>1</td>\n",
       "      <td>0</td>\n",
       "      <td>1</td>\n",
       "      <td>0</td>\n",
       "      <td>0</td>\n",
       "      <td>0</td>\n",
       "      <td>0</td>\n",
       "      <td>0</td>\n",
       "      <td>1</td>\n",
       "      <td>1</td>\n",
       "      <td>0</td>\n",
       "      <td>0</td>\n",
       "      <td>0</td>\n",
       "      <td>0</td>\n",
       "      <td>0</td>\n",
       "      <td>1</td>\n",
       "      <td>0</td>\n",
       "      <td>0</td>\n",
       "      <td>0</td>\n",
       "      <td>0</td>\n",
       "      <td>0</td>\n",
       "      <td>0</td>\n",
       "      <td>1</td>\n",
       "      <td>0</td>\n",
       "      <td>0</td>\n",
       "      <td>0</td>\n",
       "      <td>0</td>\n",
       "      <td>1</td>\n",
       "      <td>0</td>\n",
       "      <td>1</td>\n",
       "      <td>0</td>\n",
       "      <td>1</td>\n",
       "      <td>0</td>\n",
       "      <td>1</td>\n",
       "      <td>0</td>\n",
       "      <td>0</td>\n",
       "      <td>0</td>\n",
       "      <td>0</td>\n",
       "      <td>0</td>\n",
       "      <td>1</td>\n",
       "      <td>0</td>\n",
       "      <td>0</td>\n",
       "      <td>0</td>\n",
       "      <td>0</td>\n",
       "      <td>0</td>\n",
       "      <td>0</td>\n",
       "      <td>0</td>\n",
       "      <td>0</td>\n",
       "      <td>1</td>\n",
       "      <td>0</td>\n",
       "      <td>0</td>\n",
       "      <td>1</td>\n",
       "      <td>0</td>\n",
       "      <td>1</td>\n",
       "    </tr>\n",
       "  </tbody>\n",
       "</table>\n",
       "</div>"
      ],
      "text/plain": [
       "                      timestamp  brand_rating_comparison  price_rating  \\\n",
       "0  2019/10/01 12:38:43 PM GMT+8                        4             3   \n",
       "1  2019/10/01 12:38:54 PM GMT+8                        4             3   \n",
       "2  2019/10/01 12:38:56 PM GMT+8                        4             3   \n",
       "3  2019/10/01 12:39:08 PM GMT+8                        2             1   \n",
       "4  2019/10/01 12:39:20 PM GMT+8                        3             3   \n",
       "\n",
       "   sales_promotions_influence  ambience_rating  wifi_rating  service_rating  \\\n",
       "0                           5                5            4               4   \n",
       "1                           4                4            4               5   \n",
       "2                           4                4            4               4   \n",
       "3                           4                3            3               3   \n",
       "4                           4                2            2               3   \n",
       "\n",
       "   preferred_social_hangout  Female  Male  age_40 and above  age_Below 20  \\\n",
       "0                         3       1     0                 0             0   \n",
       "1                         2       1     0                 0             0   \n",
       "2                         3       0     1                 0             0   \n",
       "3                         3       1     0                 0             0   \n",
       "4                         3       0     1                 0             0   \n",
       "\n",
       "   age_From 20 to 29  age_From 30 to 39  distance_1km - 3km  \\\n",
       "0                  1                  0                   0   \n",
       "1                  1                  0                   1   \n",
       "2                  1                  0                   0   \n",
       "3                  1                  0                   0   \n",
       "4                  1                  0                   1   \n",
       "\n",
       "   distance_more than 3km  distance_within 1km  occupation_Employed  \\\n",
       "0                       0                    1                    0   \n",
       "1                       0                    0                    0   \n",
       "2                       1                    0                    1   \n",
       "3                       1                    0                    0   \n",
       "4                       0                    0                    0   \n",
       "\n",
       "   occupation_Housewife  occupation_Self-employed  occupation_Student  \\\n",
       "0                     0                         0                   1   \n",
       "1                     0                         0                   1   \n",
       "2                     0                         0                   0   \n",
       "3                     0                         0                   1   \n",
       "4                     0                         0                   1   \n",
       "\n",
       "   income_Less than RM25,000  income_More than RM150,000  \\\n",
       "0                          1                           0   \n",
       "1                          1                           0   \n",
       "2                          1                           0   \n",
       "3                          1                           0   \n",
       "4                          1                           0   \n",
       "\n",
       "   income_RM100,000 - RM150,000  income_RM25,000 - RM50,000  \\\n",
       "0                             0                           0   \n",
       "1                             0                           0   \n",
       "2                             0                           0   \n",
       "3                             0                           0   \n",
       "4                             0                           0   \n",
       "\n",
       "   income_RM50,000 - RM100,000  visit_Daily  visit_Monthly  visit_Never  \\\n",
       "0                            0            0              0            0   \n",
       "1                            0            0              0            0   \n",
       "2                            0            0              1            0   \n",
       "3                            0            0              0            0   \n",
       "4                            0            0              1            0   \n",
       "\n",
       "   visit_Rarely  visit_Weekly  most_used_Dine in  most_used_Drive-thru  \\\n",
       "0             1             0                  1                     0   \n",
       "1             1             0                  0                     0   \n",
       "2             0             0                  1                     0   \n",
       "3             1             0                  0                     0   \n",
       "4             0             0                  0                     0   \n",
       "\n",
       "   most_used_Never  most_used_Take away  most_used_unknown  \\\n",
       "0                0                    0                  0   \n",
       "1                0                    1                  0   \n",
       "2                0                    0                  0   \n",
       "3                0                    1                  0   \n",
       "4                0                    1                  0   \n",
       "\n",
       "   time_spent_Below 30 minutes  time_spent_Between 1 hour to 2 hours  \\\n",
       "0                            0                                     0   \n",
       "1                            1                                     0   \n",
       "2                            0                                     0   \n",
       "3                            1                                     0   \n",
       "4                            0                                     0   \n",
       "\n",
       "   time_spent_Between 2 hours to 3 hours  \\\n",
       "0                                      0   \n",
       "1                                      0   \n",
       "2                                      0   \n",
       "3                                      0   \n",
       "4                                      0   \n",
       "\n",
       "   time_spent_Between 30 minutes to 1 hour  time_spent_More than 3 hours  \\\n",
       "0                                        1                             0   \n",
       "1                                        0                             0   \n",
       "2                                        1                             0   \n",
       "3                                        0                             0   \n",
       "4                                        1                             0   \n",
       "\n",
       "   is_member_No  is_member_Yes  most_purchased_coffee  \\\n",
       "0             0              1                      1   \n",
       "1             0              1                      0   \n",
       "2             0              1                      1   \n",
       "3             1              0                      1   \n",
       "4             1              0                      1   \n",
       "\n",
       "   most_purchased_pastries  most_purchased_sandwiches  \\\n",
       "0                        0                          0   \n",
       "1                        1                          0   \n",
       "2                        0                          0   \n",
       "3                        0                          0   \n",
       "4                        0                          1   \n",
       "\n",
       "   most_purchased_cold_drinks  most_purchased_juices  most_purchased_never  \\\n",
       "0                           0                      0                     0   \n",
       "1                           1                      0                     0   \n",
       "2                           0                      0                     0   \n",
       "3                           0                      0                     0   \n",
       "4                           0                      0                     0   \n",
       "\n",
       "   most_purchased_cake  most_purchased_jaws_chip  \\\n",
       "0                    0                         0   \n",
       "1                    0                         0   \n",
       "2                    0                         0   \n",
       "3                    0                         0   \n",
       "4                    0                         0   \n",
       "\n",
       "   average_amount_spent_Around RM20 - RM40  \\\n",
       "0                                        0   \n",
       "1                                        0   \n",
       "2                                        0   \n",
       "3                                        0   \n",
       "4                                        1   \n",
       "\n",
       "   average_amount_spent_Less than RM20  average_amount_spent_More than RM40  \\\n",
       "0                                    1                                    0   \n",
       "1                                    1                                    0   \n",
       "2                                    1                                    0   \n",
       "3                                    1                                    0   \n",
       "4                                    0                                    0   \n",
       "\n",
       "   average_amount_spent_Zero  referral_application_offer  referral_billboards  \\\n",
       "0                          0                           0                    0   \n",
       "1                          0                           0                    0   \n",
       "2                          0                           0                    1   \n",
       "3                          0                           0                    0   \n",
       "4                          0                           0                    0   \n",
       "\n",
       "   referral_emails  referral_in_store  referral_never  referral_social_media  \\\n",
       "0                1                  0               0                      1   \n",
       "1                0                  1               0                      1   \n",
       "2                0                  1               0                      0   \n",
       "3                0                  0               0                      0   \n",
       "4                0                  0               0                      1   \n",
       "\n",
       "   referral_deal_sites  referral_friends  referral_starbucks_website_app  \\\n",
       "0                    1                 0                               1   \n",
       "1                    0                 0                               0   \n",
       "2                    0                 0                               0   \n",
       "3                    0                 1                               0   \n",
       "4                    0                 0                               1   \n",
       "\n",
       "   continued_patronage_No  continued_patronage_Yes  \n",
       "0                       0                        1  \n",
       "1                       0                        1  \n",
       "2                       0                        1  \n",
       "3                       1                        0  \n",
       "4                       0                        1  "
      ]
     },
     "execution_count": 718,
     "metadata": {},
     "output_type": "execute_result"
    }
   ],
   "source": [
    "df_dummy.drop(['gender', 'age', 'occupation', 'income_rm', 'visit_frequency', \n",
    "               'most_used_service', 'time_spent_per_visit', \n",
    "               'distance_from_shop', 'member', 'most_purchased_item',\n",
    "               'average_amount_spent_rm', 'referral',  \n",
    "               'continued_patronage'], axis=1, inplace=True)\n",
    "df_dummy.head()"
   ]
  },
  {
   "cell_type": "markdown",
   "metadata": {
    "colab_type": "text",
    "id": "jaCP232jjJPy"
   },
   "source": [
    "--------------------------------------------------------------------------------------------------------------------------------"
   ]
  },
  {
   "cell_type": "markdown",
   "metadata": {
    "colab_type": "text",
    "id": "sC2xFdCujJP1"
   },
   "source": [
    "Let's see how different variables are related:"
   ]
  },
  {
   "cell_type": "code",
   "execution_count": 719,
   "metadata": {
    "colab": {
     "base_uri": "https://localhost:8080/",
     "height": 471
    },
    "colab_type": "code",
    "id": "VRX0uplBjJP1",
    "outputId": "04470c6d-509a-42e9-d535-6118d4a284fb"
   },
   "outputs": [
    {
     "data": {
      "text/html": [
       "<div>\n",
       "<style scoped>\n",
       "    .dataframe tbody tr th:only-of-type {\n",
       "        vertical-align: middle;\n",
       "    }\n",
       "\n",
       "    .dataframe tbody tr th {\n",
       "        vertical-align: top;\n",
       "    }\n",
       "\n",
       "    .dataframe thead th {\n",
       "        text-align: right;\n",
       "    }\n",
       "</style>\n",
       "<table border=\"1\" class=\"dataframe\">\n",
       "  <thead>\n",
       "    <tr style=\"text-align: right;\">\n",
       "      <th></th>\n",
       "      <th>brand_rating_comparison</th>\n",
       "      <th>price_rating</th>\n",
       "      <th>sales_promotions_influence</th>\n",
       "      <th>ambience_rating</th>\n",
       "      <th>wifi_rating</th>\n",
       "      <th>service_rating</th>\n",
       "      <th>preferred_social_hangout</th>\n",
       "      <th>Female</th>\n",
       "      <th>Male</th>\n",
       "      <th>age_40 and above</th>\n",
       "      <th>age_Below 20</th>\n",
       "      <th>age_From 20 to 29</th>\n",
       "      <th>age_From 30 to 39</th>\n",
       "      <th>distance_1km - 3km</th>\n",
       "      <th>distance_more than 3km</th>\n",
       "      <th>distance_within 1km</th>\n",
       "      <th>occupation_Employed</th>\n",
       "      <th>occupation_Housewife</th>\n",
       "      <th>occupation_Self-employed</th>\n",
       "      <th>occupation_Student</th>\n",
       "      <th>income_Less than RM25,000</th>\n",
       "      <th>income_More than RM150,000</th>\n",
       "      <th>income_RM100,000 - RM150,000</th>\n",
       "      <th>income_RM25,000 - RM50,000</th>\n",
       "      <th>income_RM50,000 - RM100,000</th>\n",
       "      <th>visit_Daily</th>\n",
       "      <th>visit_Monthly</th>\n",
       "      <th>visit_Never</th>\n",
       "      <th>visit_Rarely</th>\n",
       "      <th>visit_Weekly</th>\n",
       "      <th>most_used_Dine in</th>\n",
       "      <th>most_used_Drive-thru</th>\n",
       "      <th>most_used_Never</th>\n",
       "      <th>most_used_Take away</th>\n",
       "      <th>most_used_unknown</th>\n",
       "      <th>time_spent_Below 30 minutes</th>\n",
       "      <th>time_spent_Between 1 hour to 2 hours</th>\n",
       "      <th>time_spent_Between 2 hours to 3 hours</th>\n",
       "      <th>time_spent_Between 30 minutes to 1 hour</th>\n",
       "      <th>time_spent_More than 3 hours</th>\n",
       "      <th>is_member_No</th>\n",
       "      <th>is_member_Yes</th>\n",
       "      <th>most_purchased_coffee</th>\n",
       "      <th>most_purchased_pastries</th>\n",
       "      <th>most_purchased_sandwiches</th>\n",
       "      <th>most_purchased_cold_drinks</th>\n",
       "      <th>most_purchased_juices</th>\n",
       "      <th>most_purchased_never</th>\n",
       "      <th>most_purchased_cake</th>\n",
       "      <th>most_purchased_jaws_chip</th>\n",
       "      <th>average_amount_spent_Around RM20 - RM40</th>\n",
       "      <th>average_amount_spent_Less than RM20</th>\n",
       "      <th>average_amount_spent_More than RM40</th>\n",
       "      <th>average_amount_spent_Zero</th>\n",
       "      <th>referral_application_offer</th>\n",
       "      <th>referral_billboards</th>\n",
       "      <th>referral_emails</th>\n",
       "      <th>referral_in_store</th>\n",
       "      <th>referral_never</th>\n",
       "      <th>referral_social_media</th>\n",
       "      <th>referral_deal_sites</th>\n",
       "      <th>referral_friends</th>\n",
       "      <th>referral_starbucks_website_app</th>\n",
       "      <th>continued_patronage_No</th>\n",
       "      <th>continued_patronage_Yes</th>\n",
       "    </tr>\n",
       "  </thead>\n",
       "  <tbody>\n",
       "    <tr>\n",
       "      <th>brand_rating_comparison</th>\n",
       "      <td>1.000000</td>\n",
       "      <td>0.532617</td>\n",
       "      <td>0.222201</td>\n",
       "      <td>0.575164</td>\n",
       "      <td>0.287830</td>\n",
       "      <td>0.451050</td>\n",
       "      <td>0.418969</td>\n",
       "      <td>0.014795</td>\n",
       "      <td>-0.014795</td>\n",
       "      <td>0.013251</td>\n",
       "      <td>-0.074559</td>\n",
       "      <td>0.067820</td>\n",
       "      <td>-0.032491</td>\n",
       "      <td>0.027813</td>\n",
       "      <td>-0.131151</td>\n",
       "      <td>0.127925</td>\n",
       "      <td>0.078690</td>\n",
       "      <td>0.046279</td>\n",
       "      <td>0.018004</td>\n",
       "      <td>-0.108301</td>\n",
       "      <td>0.032983</td>\n",
       "      <td>-0.039770</td>\n",
       "      <td>-0.055993</td>\n",
       "      <td>-0.012961</td>\n",
       "      <td>0.018004</td>\n",
       "      <td>0.115134</td>\n",
       "      <td>0.207909</td>\n",
       "      <td>-0.300216</td>\n",
       "      <td>-0.134566</td>\n",
       "      <td>0.168066</td>\n",
       "      <td>0.062403</td>\n",
       "      <td>0.135120</td>\n",
       "      <td>-0.241934</td>\n",
       "      <td>-0.009502</td>\n",
       "      <td>-0.258327</td>\n",
       "      <td>-0.115345</td>\n",
       "      <td>0.177121</td>\n",
       "      <td>0.032589</td>\n",
       "      <td>-0.011189</td>\n",
       "      <td>0.046279</td>\n",
       "      <td>-0.317671</td>\n",
       "      <td>0.317671</td>\n",
       "      <td>0.117615</td>\n",
       "      <td>0.165176</td>\n",
       "      <td>0.130285</td>\n",
       "      <td>0.071188</td>\n",
       "      <td>0.164198</td>\n",
       "      <td>-0.228590</td>\n",
       "      <td>NaN</td>\n",
       "      <td>NaN</td>\n",
       "      <td>0.165319</td>\n",
       "      <td>-0.043913</td>\n",
       "      <td>0.126039</td>\n",
       "      <td>-0.292635</td>\n",
       "      <td>0.032589</td>\n",
       "      <td>-0.039785</td>\n",
       "      <td>0.075174</td>\n",
       "      <td>0.093975</td>\n",
       "      <td>-0.064383</td>\n",
       "      <td>0.037591</td>\n",
       "      <td>0.050847</td>\n",
       "      <td>0.044003</td>\n",
       "      <td>0.208042</td>\n",
       "      <td>-0.407319</td>\n",
       "      <td>0.407319</td>\n",
       "    </tr>\n",
       "    <tr>\n",
       "      <th>price_rating</th>\n",
       "      <td>0.532617</td>\n",
       "      <td>1.000000</td>\n",
       "      <td>0.170491</td>\n",
       "      <td>0.392726</td>\n",
       "      <td>0.289394</td>\n",
       "      <td>0.365881</td>\n",
       "      <td>0.420468</td>\n",
       "      <td>0.014124</td>\n",
       "      <td>-0.014124</td>\n",
       "      <td>0.122542</td>\n",
       "      <td>0.083470</td>\n",
       "      <td>-0.148006</td>\n",
       "      <td>0.039796</td>\n",
       "      <td>0.129350</td>\n",
       "      <td>-0.190198</td>\n",
       "      <td>0.089380</td>\n",
       "      <td>-0.038040</td>\n",
       "      <td>0.012768</td>\n",
       "      <td>0.127671</td>\n",
       "      <td>-0.056437</td>\n",
       "      <td>-0.037550</td>\n",
       "      <td>-0.012689</td>\n",
       "      <td>0.015703</td>\n",
       "      <td>0.069059</td>\n",
       "      <td>-0.026110</td>\n",
       "      <td>0.072681</td>\n",
       "      <td>0.107205</td>\n",
       "      <td>-0.117612</td>\n",
       "      <td>-0.139737</td>\n",
       "      <td>0.173436</td>\n",
       "      <td>0.124039</td>\n",
       "      <td>0.064345</td>\n",
       "      <td>-0.083053</td>\n",
       "      <td>-0.105199</td>\n",
       "      <td>-0.159766</td>\n",
       "      <td>0.027604</td>\n",
       "      <td>0.109307</td>\n",
       "      <td>0.008991</td>\n",
       "      <td>-0.074272</td>\n",
       "      <td>-0.107057</td>\n",
       "      <td>-0.158166</td>\n",
       "      <td>0.158166</td>\n",
       "      <td>-0.132235</td>\n",
       "      <td>0.196190</td>\n",
       "      <td>-0.004535</td>\n",
       "      <td>0.181520</td>\n",
       "      <td>0.189099</td>\n",
       "      <td>-0.109957</td>\n",
       "      <td>NaN</td>\n",
       "      <td>NaN</td>\n",
       "      <td>0.075608</td>\n",
       "      <td>-0.042956</td>\n",
       "      <td>0.220682</td>\n",
       "      <td>-0.222803</td>\n",
       "      <td>-0.075388</td>\n",
       "      <td>0.084260</td>\n",
       "      <td>0.041146</td>\n",
       "      <td>0.065252</td>\n",
       "      <td>0.008991</td>\n",
       "      <td>0.076789</td>\n",
       "      <td>-0.041026</td>\n",
       "      <td>0.065511</td>\n",
       "      <td>0.130012</td>\n",
       "      <td>-0.452593</td>\n",
       "      <td>0.452593</td>\n",
       "    </tr>\n",
       "    <tr>\n",
       "      <th>sales_promotions_influence</th>\n",
       "      <td>0.222201</td>\n",
       "      <td>0.170491</td>\n",
       "      <td>1.000000</td>\n",
       "      <td>0.398178</td>\n",
       "      <td>0.327042</td>\n",
       "      <td>0.389976</td>\n",
       "      <td>0.197933</td>\n",
       "      <td>0.125862</td>\n",
       "      <td>-0.125862</td>\n",
       "      <td>-0.050811</td>\n",
       "      <td>-0.106071</td>\n",
       "      <td>0.072544</td>\n",
       "      <td>0.032336</td>\n",
       "      <td>-0.017387</td>\n",
       "      <td>-0.098122</td>\n",
       "      <td>0.136961</td>\n",
       "      <td>0.173601</td>\n",
       "      <td>-0.094519</td>\n",
       "      <td>-0.120232</td>\n",
       "      <td>-0.069794</td>\n",
       "      <td>-0.022202</td>\n",
       "      <td>-0.271224</td>\n",
       "      <td>0.078697</td>\n",
       "      <td>0.170594</td>\n",
       "      <td>-0.033050</td>\n",
       "      <td>0.083801</td>\n",
       "      <td>0.024475</td>\n",
       "      <td>-0.264373</td>\n",
       "      <td>0.133527</td>\n",
       "      <td>-0.062247</td>\n",
       "      <td>0.146804</td>\n",
       "      <td>-0.161097</td>\n",
       "      <td>-0.271224</td>\n",
       "      <td>0.139200</td>\n",
       "      <td>-0.233984</td>\n",
       "      <td>-0.123804</td>\n",
       "      <td>0.189051</td>\n",
       "      <td>0.017154</td>\n",
       "      <td>-0.017387</td>\n",
       "      <td>0.083801</td>\n",
       "      <td>-0.110139</td>\n",
       "      <td>0.110139</td>\n",
       "      <td>0.101266</td>\n",
       "      <td>0.050951</td>\n",
       "      <td>-0.010997</td>\n",
       "      <td>-0.052370</td>\n",
       "      <td>0.034742</td>\n",
       "      <td>-0.261954</td>\n",
       "      <td>NaN</td>\n",
       "      <td>NaN</td>\n",
       "      <td>-0.027825</td>\n",
       "      <td>0.119178</td>\n",
       "      <td>0.014099</td>\n",
       "      <td>-0.165783</td>\n",
       "      <td>0.017154</td>\n",
       "      <td>0.033049</td>\n",
       "      <td>0.206200</td>\n",
       "      <td>0.026059</td>\n",
       "      <td>-0.066558</td>\n",
       "      <td>0.072005</td>\n",
       "      <td>0.046555</td>\n",
       "      <td>0.077614</td>\n",
       "      <td>0.219810</td>\n",
       "      <td>-0.112402</td>\n",
       "      <td>0.112402</td>\n",
       "    </tr>\n",
       "    <tr>\n",
       "      <th>ambience_rating</th>\n",
       "      <td>0.575164</td>\n",
       "      <td>0.392726</td>\n",
       "      <td>0.398178</td>\n",
       "      <td>1.000000</td>\n",
       "      <td>0.488045</td>\n",
       "      <td>0.604545</td>\n",
       "      <td>0.349267</td>\n",
       "      <td>0.123895</td>\n",
       "      <td>-0.123895</td>\n",
       "      <td>-0.048667</td>\n",
       "      <td>-0.109104</td>\n",
       "      <td>0.075128</td>\n",
       "      <td>0.030168</td>\n",
       "      <td>-0.052105</td>\n",
       "      <td>-0.035405</td>\n",
       "      <td>0.098919</td>\n",
       "      <td>0.159323</td>\n",
       "      <td>0.034281</td>\n",
       "      <td>0.030168</td>\n",
       "      <td>-0.198814</td>\n",
       "      <td>0.008237</td>\n",
       "      <td>-0.144268</td>\n",
       "      <td>-0.014991</td>\n",
       "      <td>0.090950</td>\n",
       "      <td>-0.020950</td>\n",
       "      <td>0.103985</td>\n",
       "      <td>0.138191</td>\n",
       "      <td>-0.331398</td>\n",
       "      <td>0.012575</td>\n",
       "      <td>0.041078</td>\n",
       "      <td>0.115269</td>\n",
       "      <td>-0.073685</td>\n",
       "      <td>-0.389859</td>\n",
       "      <td>0.127276</td>\n",
       "      <td>-0.074029</td>\n",
       "      <td>-0.091165</td>\n",
       "      <td>-0.001462</td>\n",
       "      <td>0.024140</td>\n",
       "      <td>0.086087</td>\n",
       "      <td>0.034281</td>\n",
       "      <td>-0.261221</td>\n",
       "      <td>0.261221</td>\n",
       "      <td>0.012533</td>\n",
       "      <td>0.129387</td>\n",
       "      <td>0.070343</td>\n",
       "      <td>0.140373</td>\n",
       "      <td>0.148299</td>\n",
       "      <td>-0.299042</td>\n",
       "      <td>NaN</td>\n",
       "      <td>NaN</td>\n",
       "      <td>0.019548</td>\n",
       "      <td>0.146441</td>\n",
       "      <td>-0.048667</td>\n",
       "      <td>-0.239239</td>\n",
       "      <td>0.024140</td>\n",
       "      <td>-0.009119</td>\n",
       "      <td>0.160387</td>\n",
       "      <td>0.050739</td>\n",
       "      <td>-0.074029</td>\n",
       "      <td>0.137194</td>\n",
       "      <td>0.103573</td>\n",
       "      <td>0.127276</td>\n",
       "      <td>0.129285</td>\n",
       "      <td>-0.318145</td>\n",
       "      <td>0.318145</td>\n",
       "    </tr>\n",
       "    <tr>\n",
       "      <th>wifi_rating</th>\n",
       "      <td>0.287830</td>\n",
       "      <td>0.289394</td>\n",
       "      <td>0.327042</td>\n",
       "      <td>0.488045</td>\n",
       "      <td>1.000000</td>\n",
       "      <td>0.581395</td>\n",
       "      <td>0.259387</td>\n",
       "      <td>0.077181</td>\n",
       "      <td>-0.077181</td>\n",
       "      <td>-0.139547</td>\n",
       "      <td>0.102899</td>\n",
       "      <td>-0.067231</td>\n",
       "      <td>0.091274</td>\n",
       "      <td>0.026064</td>\n",
       "      <td>-0.094474</td>\n",
       "      <td>0.085638</td>\n",
       "      <td>0.025766</td>\n",
       "      <td>-0.034372</td>\n",
       "      <td>-0.057529</td>\n",
       "      <td>0.024003</td>\n",
       "      <td>0.208238</td>\n",
       "      <td>-0.139985</td>\n",
       "      <td>-0.097729</td>\n",
       "      <td>-0.007499</td>\n",
       "      <td>-0.156730</td>\n",
       "      <td>0.100898</td>\n",
       "      <td>-0.054667</td>\n",
       "      <td>-0.107995</td>\n",
       "      <td>0.100807</td>\n",
       "      <td>-0.042282</td>\n",
       "      <td>-0.065365</td>\n",
       "      <td>-0.094696</td>\n",
       "      <td>-0.139985</td>\n",
       "      <td>0.202334</td>\n",
       "      <td>-0.024204</td>\n",
       "      <td>0.113014</td>\n",
       "      <td>0.113941</td>\n",
       "      <td>-0.024204</td>\n",
       "      <td>-0.127181</td>\n",
       "      <td>-0.237277</td>\n",
       "      <td>-0.064493</td>\n",
       "      <td>0.064493</td>\n",
       "      <td>-0.080568</td>\n",
       "      <td>0.176431</td>\n",
       "      <td>0.033559</td>\n",
       "      <td>0.154751</td>\n",
       "      <td>0.095667</td>\n",
       "      <td>-0.049020</td>\n",
       "      <td>NaN</td>\n",
       "      <td>NaN</td>\n",
       "      <td>-0.132335</td>\n",
       "      <td>0.124896</td>\n",
       "      <td>0.045103</td>\n",
       "      <td>-0.030258</td>\n",
       "      <td>0.071050</td>\n",
       "      <td>0.096103</td>\n",
       "      <td>0.131408</td>\n",
       "      <td>0.060608</td>\n",
       "      <td>-0.024204</td>\n",
       "      <td>0.162122</td>\n",
       "      <td>0.008173</td>\n",
       "      <td>0.079699</td>\n",
       "      <td>0.077976</td>\n",
       "      <td>-0.165734</td>\n",
       "      <td>0.165734</td>\n",
       "    </tr>\n",
       "    <tr>\n",
       "      <th>...</th>\n",
       "      <td>...</td>\n",
       "      <td>...</td>\n",
       "      <td>...</td>\n",
       "      <td>...</td>\n",
       "      <td>...</td>\n",
       "      <td>...</td>\n",
       "      <td>...</td>\n",
       "      <td>...</td>\n",
       "      <td>...</td>\n",
       "      <td>...</td>\n",
       "      <td>...</td>\n",
       "      <td>...</td>\n",
       "      <td>...</td>\n",
       "      <td>...</td>\n",
       "      <td>...</td>\n",
       "      <td>...</td>\n",
       "      <td>...</td>\n",
       "      <td>...</td>\n",
       "      <td>...</td>\n",
       "      <td>...</td>\n",
       "      <td>...</td>\n",
       "      <td>...</td>\n",
       "      <td>...</td>\n",
       "      <td>...</td>\n",
       "      <td>...</td>\n",
       "      <td>...</td>\n",
       "      <td>...</td>\n",
       "      <td>...</td>\n",
       "      <td>...</td>\n",
       "      <td>...</td>\n",
       "      <td>...</td>\n",
       "      <td>...</td>\n",
       "      <td>...</td>\n",
       "      <td>...</td>\n",
       "      <td>...</td>\n",
       "      <td>...</td>\n",
       "      <td>...</td>\n",
       "      <td>...</td>\n",
       "      <td>...</td>\n",
       "      <td>...</td>\n",
       "      <td>...</td>\n",
       "      <td>...</td>\n",
       "      <td>...</td>\n",
       "      <td>...</td>\n",
       "      <td>...</td>\n",
       "      <td>...</td>\n",
       "      <td>...</td>\n",
       "      <td>...</td>\n",
       "      <td>...</td>\n",
       "      <td>...</td>\n",
       "      <td>...</td>\n",
       "      <td>...</td>\n",
       "      <td>...</td>\n",
       "      <td>...</td>\n",
       "      <td>...</td>\n",
       "      <td>...</td>\n",
       "      <td>...</td>\n",
       "      <td>...</td>\n",
       "      <td>...</td>\n",
       "      <td>...</td>\n",
       "      <td>...</td>\n",
       "      <td>...</td>\n",
       "      <td>...</td>\n",
       "      <td>...</td>\n",
       "      <td>...</td>\n",
       "    </tr>\n",
       "    <tr>\n",
       "      <th>referral_deal_sites</th>\n",
       "      <td>0.050847</td>\n",
       "      <td>-0.041026</td>\n",
       "      <td>0.046555</td>\n",
       "      <td>0.103573</td>\n",
       "      <td>0.008173</td>\n",
       "      <td>-0.009450</td>\n",
       "      <td>-0.021115</td>\n",
       "      <td>0.019108</td>\n",
       "      <td>-0.019108</td>\n",
       "      <td>0.090683</td>\n",
       "      <td>0.029025</td>\n",
       "      <td>0.009427</td>\n",
       "      <td>-0.099273</td>\n",
       "      <td>-0.074745</td>\n",
       "      <td>0.035245</td>\n",
       "      <td>0.038276</td>\n",
       "      <td>-0.035245</td>\n",
       "      <td>0.245709</td>\n",
       "      <td>0.002503</td>\n",
       "      <td>-0.030402</td>\n",
       "      <td>0.066186</td>\n",
       "      <td>-0.056111</td>\n",
       "      <td>-0.039173</td>\n",
       "      <td>0.049385</td>\n",
       "      <td>-0.099273</td>\n",
       "      <td>-0.031851</td>\n",
       "      <td>0.043739</td>\n",
       "      <td>-0.069628</td>\n",
       "      <td>-0.026228</td>\n",
       "      <td>0.065207</td>\n",
       "      <td>-0.046496</td>\n",
       "      <td>-0.109248</td>\n",
       "      <td>-0.056111</td>\n",
       "      <td>0.157345</td>\n",
       "      <td>-0.022429</td>\n",
       "      <td>-0.085450</td>\n",
       "      <td>0.155215</td>\n",
       "      <td>-0.022429</td>\n",
       "      <td>0.003866</td>\n",
       "      <td>-0.031851</td>\n",
       "      <td>-0.109795</td>\n",
       "      <td>0.109795</td>\n",
       "      <td>0.013724</td>\n",
       "      <td>0.112970</td>\n",
       "      <td>0.219413</td>\n",
       "      <td>0.062384</td>\n",
       "      <td>0.350417</td>\n",
       "      <td>-0.045424</td>\n",
       "      <td>NaN</td>\n",
       "      <td>NaN</td>\n",
       "      <td>-0.115560</td>\n",
       "      <td>-0.023140</td>\n",
       "      <td>0.242236</td>\n",
       "      <td>0.036864</td>\n",
       "      <td>-0.022429</td>\n",
       "      <td>0.168446</td>\n",
       "      <td>0.195506</td>\n",
       "      <td>0.074234</td>\n",
       "      <td>-0.022429</td>\n",
       "      <td>0.070889</td>\n",
       "      <td>1.000000</td>\n",
       "      <td>0.085450</td>\n",
       "      <td>0.155208</td>\n",
       "      <td>-0.050838</td>\n",
       "      <td>0.050838</td>\n",
       "    </tr>\n",
       "    <tr>\n",
       "      <th>referral_friends</th>\n",
       "      <td>0.044003</td>\n",
       "      <td>0.065511</td>\n",
       "      <td>0.077614</td>\n",
       "      <td>0.127276</td>\n",
       "      <td>0.079699</td>\n",
       "      <td>0.009132</td>\n",
       "      <td>0.125409</td>\n",
       "      <td>0.096966</td>\n",
       "      <td>-0.096966</td>\n",
       "      <td>0.013554</td>\n",
       "      <td>-0.011993</td>\n",
       "      <td>0.176801</td>\n",
       "      <td>-0.233097</td>\n",
       "      <td>-0.099039</td>\n",
       "      <td>0.016720</td>\n",
       "      <td>0.086827</td>\n",
       "      <td>0.050160</td>\n",
       "      <td>0.025903</td>\n",
       "      <td>-0.039971</td>\n",
       "      <td>-0.030576</td>\n",
       "      <td>0.050293</td>\n",
       "      <td>-0.031689</td>\n",
       "      <td>-0.022123</td>\n",
       "      <td>0.122572</td>\n",
       "      <td>-0.184815</td>\n",
       "      <td>0.025903</td>\n",
       "      <td>0.022758</td>\n",
       "      <td>-0.039323</td>\n",
       "      <td>0.016401</td>\n",
       "      <td>-0.039323</td>\n",
       "      <td>0.018098</td>\n",
       "      <td>-0.136971</td>\n",
       "      <td>-0.031689</td>\n",
       "      <td>0.113223</td>\n",
       "      <td>-0.074481</td>\n",
       "      <td>-0.045010</td>\n",
       "      <td>-0.046021</td>\n",
       "      <td>-0.074481</td>\n",
       "      <td>0.087423</td>\n",
       "      <td>0.025903</td>\n",
       "      <td>0.003290</td>\n",
       "      <td>-0.003290</td>\n",
       "      <td>0.009470</td>\n",
       "      <td>0.077952</td>\n",
       "      <td>0.120698</td>\n",
       "      <td>0.062740</td>\n",
       "      <td>0.130833</td>\n",
       "      <td>0.036941</td>\n",
       "      <td>NaN</td>\n",
       "      <td>NaN</td>\n",
       "      <td>-0.210478</td>\n",
       "      <td>0.124044</td>\n",
       "      <td>0.229241</td>\n",
       "      <td>-0.046021</td>\n",
       "      <td>-0.074481</td>\n",
       "      <td>0.150728</td>\n",
       "      <td>0.083472</td>\n",
       "      <td>0.025051</td>\n",
       "      <td>-0.074481</td>\n",
       "      <td>0.122484</td>\n",
       "      <td>0.085450</td>\n",
       "      <td>1.000000</td>\n",
       "      <td>0.034845</td>\n",
       "      <td>-0.049538</td>\n",
       "      <td>0.049538</td>\n",
       "    </tr>\n",
       "    <tr>\n",
       "      <th>referral_starbucks_website_app</th>\n",
       "      <td>0.208042</td>\n",
       "      <td>0.130012</td>\n",
       "      <td>0.219810</td>\n",
       "      <td>0.129285</td>\n",
       "      <td>0.077976</td>\n",
       "      <td>0.239161</td>\n",
       "      <td>0.281257</td>\n",
       "      <td>-0.023520</td>\n",
       "      <td>0.023520</td>\n",
       "      <td>0.155208</td>\n",
       "      <td>-0.101579</td>\n",
       "      <td>-0.015188</td>\n",
       "      <td>0.006434</td>\n",
       "      <td>0.050358</td>\n",
       "      <td>-0.054366</td>\n",
       "      <td>0.011092</td>\n",
       "      <td>0.054366</td>\n",
       "      <td>0.060828</td>\n",
       "      <td>0.058764</td>\n",
       "      <td>-0.116300</td>\n",
       "      <td>-0.160516</td>\n",
       "      <td>0.023355</td>\n",
       "      <td>-0.100707</td>\n",
       "      <td>0.171857</td>\n",
       "      <td>0.058764</td>\n",
       "      <td>-0.081884</td>\n",
       "      <td>0.245206</td>\n",
       "      <td>-0.109674</td>\n",
       "      <td>-0.179605</td>\n",
       "      <td>0.098309</td>\n",
       "      <td>0.067428</td>\n",
       "      <td>0.012839</td>\n",
       "      <td>-0.060448</td>\n",
       "      <td>-0.039087</td>\n",
       "      <td>-0.057661</td>\n",
       "      <td>-0.182711</td>\n",
       "      <td>0.155623</td>\n",
       "      <td>0.143329</td>\n",
       "      <td>0.050358</td>\n",
       "      <td>0.060828</td>\n",
       "      <td>-0.282266</td>\n",
       "      <td>0.282266</td>\n",
       "      <td>0.035283</td>\n",
       "      <td>0.129372</td>\n",
       "      <td>0.198026</td>\n",
       "      <td>0.003849</td>\n",
       "      <td>0.086750</td>\n",
       "      <td>-0.015014</td>\n",
       "      <td>NaN</td>\n",
       "      <td>NaN</td>\n",
       "      <td>0.116064</td>\n",
       "      <td>-0.204640</td>\n",
       "      <td>0.233132</td>\n",
       "      <td>-0.026935</td>\n",
       "      <td>-0.057661</td>\n",
       "      <td>-0.073125</td>\n",
       "      <td>0.298218</td>\n",
       "      <td>-0.193205</td>\n",
       "      <td>-0.057661</td>\n",
       "      <td>0.019060</td>\n",
       "      <td>0.155208</td>\n",
       "      <td>0.034845</td>\n",
       "      <td>1.000000</td>\n",
       "      <td>-0.173791</td>\n",
       "      <td>0.173791</td>\n",
       "    </tr>\n",
       "    <tr>\n",
       "      <th>continued_patronage_No</th>\n",
       "      <td>-0.407319</td>\n",
       "      <td>-0.452593</td>\n",
       "      <td>-0.112402</td>\n",
       "      <td>-0.318145</td>\n",
       "      <td>-0.165734</td>\n",
       "      <td>-0.209820</td>\n",
       "      <td>-0.369625</td>\n",
       "      <td>0.003202</td>\n",
       "      <td>-0.003202</td>\n",
       "      <td>-0.050838</td>\n",
       "      <td>0.001036</td>\n",
       "      <td>0.105662</td>\n",
       "      <td>-0.107035</td>\n",
       "      <td>-0.078397</td>\n",
       "      <td>0.116952</td>\n",
       "      <td>-0.056191</td>\n",
       "      <td>-0.077968</td>\n",
       "      <td>-0.070459</td>\n",
       "      <td>-0.107035</td>\n",
       "      <td>0.178895</td>\n",
       "      <td>0.067376</td>\n",
       "      <td>0.056152</td>\n",
       "      <td>0.039202</td>\n",
       "      <td>-0.035624</td>\n",
       "      <td>-0.107035</td>\n",
       "      <td>-0.070459</td>\n",
       "      <td>-0.236433</td>\n",
       "      <td>0.218816</td>\n",
       "      <td>0.183293</td>\n",
       "      <td>-0.154027</td>\n",
       "      <td>0.058021</td>\n",
       "      <td>-0.083723</td>\n",
       "      <td>0.146291</td>\n",
       "      <td>-0.089299</td>\n",
       "      <td>0.166568</td>\n",
       "      <td>0.009777</td>\n",
       "      <td>-0.114811</td>\n",
       "      <td>-0.049616</td>\n",
       "      <td>0.008552</td>\n",
       "      <td>0.236543</td>\n",
       "      <td>0.341955</td>\n",
       "      <td>-0.341955</td>\n",
       "      <td>-0.011730</td>\n",
       "      <td>-0.096555</td>\n",
       "      <td>-0.144580</td>\n",
       "      <td>-0.156632</td>\n",
       "      <td>-0.100486</td>\n",
       "      <td>0.227887</td>\n",
       "      <td>NaN</td>\n",
       "      <td>NaN</td>\n",
       "      <td>-0.296035</td>\n",
       "      <td>0.143968</td>\n",
       "      <td>-0.134653</td>\n",
       "      <td>0.343360</td>\n",
       "      <td>0.166568</td>\n",
       "      <td>-0.103756</td>\n",
       "      <td>-0.117133</td>\n",
       "      <td>0.009311</td>\n",
       "      <td>0.166568</td>\n",
       "      <td>-0.238102</td>\n",
       "      <td>-0.050838</td>\n",
       "      <td>-0.049538</td>\n",
       "      <td>-0.173791</td>\n",
       "      <td>1.000000</td>\n",
       "      <td>-1.000000</td>\n",
       "    </tr>\n",
       "    <tr>\n",
       "      <th>continued_patronage_Yes</th>\n",
       "      <td>0.407319</td>\n",
       "      <td>0.452593</td>\n",
       "      <td>0.112402</td>\n",
       "      <td>0.318145</td>\n",
       "      <td>0.165734</td>\n",
       "      <td>0.209820</td>\n",
       "      <td>0.369625</td>\n",
       "      <td>-0.003202</td>\n",
       "      <td>0.003202</td>\n",
       "      <td>0.050838</td>\n",
       "      <td>-0.001036</td>\n",
       "      <td>-0.105662</td>\n",
       "      <td>0.107035</td>\n",
       "      <td>0.078397</td>\n",
       "      <td>-0.116952</td>\n",
       "      <td>0.056191</td>\n",
       "      <td>0.077968</td>\n",
       "      <td>0.070459</td>\n",
       "      <td>0.107035</td>\n",
       "      <td>-0.178895</td>\n",
       "      <td>-0.067376</td>\n",
       "      <td>-0.056152</td>\n",
       "      <td>-0.039202</td>\n",
       "      <td>0.035624</td>\n",
       "      <td>0.107035</td>\n",
       "      <td>0.070459</td>\n",
       "      <td>0.236433</td>\n",
       "      <td>-0.218816</td>\n",
       "      <td>-0.183293</td>\n",
       "      <td>0.154027</td>\n",
       "      <td>-0.058021</td>\n",
       "      <td>0.083723</td>\n",
       "      <td>-0.146291</td>\n",
       "      <td>0.089299</td>\n",
       "      <td>-0.166568</td>\n",
       "      <td>-0.009777</td>\n",
       "      <td>0.114811</td>\n",
       "      <td>0.049616</td>\n",
       "      <td>-0.008552</td>\n",
       "      <td>-0.236543</td>\n",
       "      <td>-0.341955</td>\n",
       "      <td>0.341955</td>\n",
       "      <td>0.011730</td>\n",
       "      <td>0.096555</td>\n",
       "      <td>0.144580</td>\n",
       "      <td>0.156632</td>\n",
       "      <td>0.100486</td>\n",
       "      <td>-0.227887</td>\n",
       "      <td>NaN</td>\n",
       "      <td>NaN</td>\n",
       "      <td>0.296035</td>\n",
       "      <td>-0.143968</td>\n",
       "      <td>0.134653</td>\n",
       "      <td>-0.343360</td>\n",
       "      <td>-0.166568</td>\n",
       "      <td>0.103756</td>\n",
       "      <td>0.117133</td>\n",
       "      <td>-0.009311</td>\n",
       "      <td>-0.166568</td>\n",
       "      <td>0.238102</td>\n",
       "      <td>0.050838</td>\n",
       "      <td>0.049538</td>\n",
       "      <td>0.173791</td>\n",
       "      <td>-1.000000</td>\n",
       "      <td>1.000000</td>\n",
       "    </tr>\n",
       "  </tbody>\n",
       "</table>\n",
       "<p>65 rows × 65 columns</p>\n",
       "</div>"
      ],
      "text/plain": [
       "                                brand_rating_comparison  price_rating  \\\n",
       "brand_rating_comparison                        1.000000      0.532617   \n",
       "price_rating                                   0.532617      1.000000   \n",
       "sales_promotions_influence                     0.222201      0.170491   \n",
       "ambience_rating                                0.575164      0.392726   \n",
       "wifi_rating                                    0.287830      0.289394   \n",
       "...                                                 ...           ...   \n",
       "referral_deal_sites                            0.050847     -0.041026   \n",
       "referral_friends                               0.044003      0.065511   \n",
       "referral_starbucks_website_app                 0.208042      0.130012   \n",
       "continued_patronage_No                        -0.407319     -0.452593   \n",
       "continued_patronage_Yes                        0.407319      0.452593   \n",
       "\n",
       "                                sales_promotions_influence  ambience_rating  \\\n",
       "brand_rating_comparison                           0.222201         0.575164   \n",
       "price_rating                                      0.170491         0.392726   \n",
       "sales_promotions_influence                        1.000000         0.398178   \n",
       "ambience_rating                                   0.398178         1.000000   \n",
       "wifi_rating                                       0.327042         0.488045   \n",
       "...                                                    ...              ...   \n",
       "referral_deal_sites                               0.046555         0.103573   \n",
       "referral_friends                                  0.077614         0.127276   \n",
       "referral_starbucks_website_app                    0.219810         0.129285   \n",
       "continued_patronage_No                           -0.112402        -0.318145   \n",
       "continued_patronage_Yes                           0.112402         0.318145   \n",
       "\n",
       "                                wifi_rating  service_rating  \\\n",
       "brand_rating_comparison            0.287830        0.451050   \n",
       "price_rating                       0.289394        0.365881   \n",
       "sales_promotions_influence         0.327042        0.389976   \n",
       "ambience_rating                    0.488045        0.604545   \n",
       "wifi_rating                        1.000000        0.581395   \n",
       "...                                     ...             ...   \n",
       "referral_deal_sites                0.008173       -0.009450   \n",
       "referral_friends                   0.079699        0.009132   \n",
       "referral_starbucks_website_app     0.077976        0.239161   \n",
       "continued_patronage_No            -0.165734       -0.209820   \n",
       "continued_patronage_Yes            0.165734        0.209820   \n",
       "\n",
       "                                preferred_social_hangout    Female      Male  \\\n",
       "brand_rating_comparison                         0.418969  0.014795 -0.014795   \n",
       "price_rating                                    0.420468  0.014124 -0.014124   \n",
       "sales_promotions_influence                      0.197933  0.125862 -0.125862   \n",
       "ambience_rating                                 0.349267  0.123895 -0.123895   \n",
       "wifi_rating                                     0.259387  0.077181 -0.077181   \n",
       "...                                                  ...       ...       ...   \n",
       "referral_deal_sites                            -0.021115  0.019108 -0.019108   \n",
       "referral_friends                                0.125409  0.096966 -0.096966   \n",
       "referral_starbucks_website_app                  0.281257 -0.023520  0.023520   \n",
       "continued_patronage_No                         -0.369625  0.003202 -0.003202   \n",
       "continued_patronage_Yes                         0.369625 -0.003202  0.003202   \n",
       "\n",
       "                                age_40 and above  age_Below 20  \\\n",
       "brand_rating_comparison                 0.013251     -0.074559   \n",
       "price_rating                            0.122542      0.083470   \n",
       "sales_promotions_influence             -0.050811     -0.106071   \n",
       "ambience_rating                        -0.048667     -0.109104   \n",
       "wifi_rating                            -0.139547      0.102899   \n",
       "...                                          ...           ...   \n",
       "referral_deal_sites                     0.090683      0.029025   \n",
       "referral_friends                        0.013554     -0.011993   \n",
       "referral_starbucks_website_app          0.155208     -0.101579   \n",
       "continued_patronage_No                 -0.050838      0.001036   \n",
       "continued_patronage_Yes                 0.050838     -0.001036   \n",
       "\n",
       "                                age_From 20 to 29  age_From 30 to 39  \\\n",
       "brand_rating_comparison                  0.067820          -0.032491   \n",
       "price_rating                            -0.148006           0.039796   \n",
       "sales_promotions_influence               0.072544           0.032336   \n",
       "ambience_rating                          0.075128           0.030168   \n",
       "wifi_rating                             -0.067231           0.091274   \n",
       "...                                           ...                ...   \n",
       "referral_deal_sites                      0.009427          -0.099273   \n",
       "referral_friends                         0.176801          -0.233097   \n",
       "referral_starbucks_website_app          -0.015188           0.006434   \n",
       "continued_patronage_No                   0.105662          -0.107035   \n",
       "continued_patronage_Yes                 -0.105662           0.107035   \n",
       "\n",
       "                                distance_1km - 3km  distance_more than 3km  \\\n",
       "brand_rating_comparison                   0.027813               -0.131151   \n",
       "price_rating                              0.129350               -0.190198   \n",
       "sales_promotions_influence               -0.017387               -0.098122   \n",
       "ambience_rating                          -0.052105               -0.035405   \n",
       "wifi_rating                               0.026064               -0.094474   \n",
       "...                                            ...                     ...   \n",
       "referral_deal_sites                      -0.074745                0.035245   \n",
       "referral_friends                         -0.099039                0.016720   \n",
       "referral_starbucks_website_app            0.050358               -0.054366   \n",
       "continued_patronage_No                   -0.078397                0.116952   \n",
       "continued_patronage_Yes                   0.078397               -0.116952   \n",
       "\n",
       "                                distance_within 1km  occupation_Employed  \\\n",
       "brand_rating_comparison                    0.127925             0.078690   \n",
       "price_rating                               0.089380            -0.038040   \n",
       "sales_promotions_influence                 0.136961             0.173601   \n",
       "ambience_rating                            0.098919             0.159323   \n",
       "wifi_rating                                0.085638             0.025766   \n",
       "...                                             ...                  ...   \n",
       "referral_deal_sites                        0.038276            -0.035245   \n",
       "referral_friends                           0.086827             0.050160   \n",
       "referral_starbucks_website_app             0.011092             0.054366   \n",
       "continued_patronage_No                    -0.056191            -0.077968   \n",
       "continued_patronage_Yes                    0.056191             0.077968   \n",
       "\n",
       "                                occupation_Housewife  \\\n",
       "brand_rating_comparison                     0.046279   \n",
       "price_rating                                0.012768   \n",
       "sales_promotions_influence                 -0.094519   \n",
       "ambience_rating                             0.034281   \n",
       "wifi_rating                                -0.034372   \n",
       "...                                              ...   \n",
       "referral_deal_sites                         0.245709   \n",
       "referral_friends                            0.025903   \n",
       "referral_starbucks_website_app              0.060828   \n",
       "continued_patronage_No                     -0.070459   \n",
       "continued_patronage_Yes                     0.070459   \n",
       "\n",
       "                                occupation_Self-employed  occupation_Student  \\\n",
       "brand_rating_comparison                         0.018004           -0.108301   \n",
       "price_rating                                    0.127671           -0.056437   \n",
       "sales_promotions_influence                     -0.120232           -0.069794   \n",
       "ambience_rating                                 0.030168           -0.198814   \n",
       "wifi_rating                                    -0.057529            0.024003   \n",
       "...                                                  ...                 ...   \n",
       "referral_deal_sites                             0.002503           -0.030402   \n",
       "referral_friends                               -0.039971           -0.030576   \n",
       "referral_starbucks_website_app                  0.058764           -0.116300   \n",
       "continued_patronage_No                         -0.107035            0.178895   \n",
       "continued_patronage_Yes                         0.107035           -0.178895   \n",
       "\n",
       "                                income_Less than RM25,000  \\\n",
       "brand_rating_comparison                          0.032983   \n",
       "price_rating                                    -0.037550   \n",
       "sales_promotions_influence                      -0.022202   \n",
       "ambience_rating                                  0.008237   \n",
       "wifi_rating                                      0.208238   \n",
       "...                                                   ...   \n",
       "referral_deal_sites                              0.066186   \n",
       "referral_friends                                 0.050293   \n",
       "referral_starbucks_website_app                  -0.160516   \n",
       "continued_patronage_No                           0.067376   \n",
       "continued_patronage_Yes                         -0.067376   \n",
       "\n",
       "                                income_More than RM150,000  \\\n",
       "brand_rating_comparison                          -0.039770   \n",
       "price_rating                                     -0.012689   \n",
       "sales_promotions_influence                       -0.271224   \n",
       "ambience_rating                                  -0.144268   \n",
       "wifi_rating                                      -0.139985   \n",
       "...                                                    ...   \n",
       "referral_deal_sites                              -0.056111   \n",
       "referral_friends                                 -0.031689   \n",
       "referral_starbucks_website_app                    0.023355   \n",
       "continued_patronage_No                            0.056152   \n",
       "continued_patronage_Yes                          -0.056152   \n",
       "\n",
       "                                income_RM100,000 - RM150,000  \\\n",
       "brand_rating_comparison                            -0.055993   \n",
       "price_rating                                        0.015703   \n",
       "sales_promotions_influence                          0.078697   \n",
       "ambience_rating                                    -0.014991   \n",
       "wifi_rating                                        -0.097729   \n",
       "...                                                      ...   \n",
       "referral_deal_sites                                -0.039173   \n",
       "referral_friends                                   -0.022123   \n",
       "referral_starbucks_website_app                     -0.100707   \n",
       "continued_patronage_No                              0.039202   \n",
       "continued_patronage_Yes                            -0.039202   \n",
       "\n",
       "                                income_RM25,000 - RM50,000  \\\n",
       "brand_rating_comparison                          -0.012961   \n",
       "price_rating                                      0.069059   \n",
       "sales_promotions_influence                        0.170594   \n",
       "ambience_rating                                   0.090950   \n",
       "wifi_rating                                      -0.007499   \n",
       "...                                                    ...   \n",
       "referral_deal_sites                               0.049385   \n",
       "referral_friends                                  0.122572   \n",
       "referral_starbucks_website_app                    0.171857   \n",
       "continued_patronage_No                           -0.035624   \n",
       "continued_patronage_Yes                           0.035624   \n",
       "\n",
       "                                income_RM50,000 - RM100,000  visit_Daily  \\\n",
       "brand_rating_comparison                            0.018004     0.115134   \n",
       "price_rating                                      -0.026110     0.072681   \n",
       "sales_promotions_influence                        -0.033050     0.083801   \n",
       "ambience_rating                                   -0.020950     0.103985   \n",
       "wifi_rating                                       -0.156730     0.100898   \n",
       "...                                                     ...          ...   \n",
       "referral_deal_sites                               -0.099273    -0.031851   \n",
       "referral_friends                                  -0.184815     0.025903   \n",
       "referral_starbucks_website_app                     0.058764    -0.081884   \n",
       "continued_patronage_No                            -0.107035    -0.070459   \n",
       "continued_patronage_Yes                            0.107035     0.070459   \n",
       "\n",
       "                                visit_Monthly  visit_Never  visit_Rarely  \\\n",
       "brand_rating_comparison              0.207909    -0.300216     -0.134566   \n",
       "price_rating                         0.107205    -0.117612     -0.139737   \n",
       "sales_promotions_influence           0.024475    -0.264373      0.133527   \n",
       "ambience_rating                      0.138191    -0.331398      0.012575   \n",
       "wifi_rating                         -0.054667    -0.107995      0.100807   \n",
       "...                                       ...          ...           ...   \n",
       "referral_deal_sites                  0.043739    -0.069628     -0.026228   \n",
       "referral_friends                     0.022758    -0.039323      0.016401   \n",
       "referral_starbucks_website_app       0.245206    -0.109674     -0.179605   \n",
       "continued_patronage_No              -0.236433     0.218816      0.183293   \n",
       "continued_patronage_Yes              0.236433    -0.218816     -0.183293   \n",
       "\n",
       "                                visit_Weekly  most_used_Dine in  \\\n",
       "brand_rating_comparison             0.168066           0.062403   \n",
       "price_rating                        0.173436           0.124039   \n",
       "sales_promotions_influence         -0.062247           0.146804   \n",
       "ambience_rating                     0.041078           0.115269   \n",
       "wifi_rating                        -0.042282          -0.065365   \n",
       "...                                      ...                ...   \n",
       "referral_deal_sites                 0.065207          -0.046496   \n",
       "referral_friends                   -0.039323           0.018098   \n",
       "referral_starbucks_website_app      0.098309           0.067428   \n",
       "continued_patronage_No             -0.154027           0.058021   \n",
       "continued_patronage_Yes             0.154027          -0.058021   \n",
       "\n",
       "                                most_used_Drive-thru  most_used_Never  \\\n",
       "brand_rating_comparison                     0.135120        -0.241934   \n",
       "price_rating                                0.064345        -0.083053   \n",
       "sales_promotions_influence                 -0.161097        -0.271224   \n",
       "ambience_rating                            -0.073685        -0.389859   \n",
       "wifi_rating                                -0.094696        -0.139985   \n",
       "...                                              ...              ...   \n",
       "referral_deal_sites                        -0.109248        -0.056111   \n",
       "referral_friends                           -0.136971        -0.031689   \n",
       "referral_starbucks_website_app              0.012839        -0.060448   \n",
       "continued_patronage_No                     -0.083723         0.146291   \n",
       "continued_patronage_Yes                     0.083723        -0.146291   \n",
       "\n",
       "                                most_used_Take away  most_used_unknown  \\\n",
       "brand_rating_comparison                   -0.009502          -0.258327   \n",
       "price_rating                              -0.105199          -0.159766   \n",
       "sales_promotions_influence                 0.139200          -0.233984   \n",
       "ambience_rating                            0.127276          -0.074029   \n",
       "wifi_rating                                0.202334          -0.024204   \n",
       "...                                             ...                ...   \n",
       "referral_deal_sites                        0.157345          -0.022429   \n",
       "referral_friends                           0.113223          -0.074481   \n",
       "referral_starbucks_website_app            -0.039087          -0.057661   \n",
       "continued_patronage_No                    -0.089299           0.166568   \n",
       "continued_patronage_Yes                    0.089299          -0.166568   \n",
       "\n",
       "                                time_spent_Below 30 minutes  \\\n",
       "brand_rating_comparison                           -0.115345   \n",
       "price_rating                                       0.027604   \n",
       "sales_promotions_influence                        -0.123804   \n",
       "ambience_rating                                   -0.091165   \n",
       "wifi_rating                                        0.113014   \n",
       "...                                                     ...   \n",
       "referral_deal_sites                               -0.085450   \n",
       "referral_friends                                  -0.045010   \n",
       "referral_starbucks_website_app                    -0.182711   \n",
       "continued_patronage_No                             0.009777   \n",
       "continued_patronage_Yes                           -0.009777   \n",
       "\n",
       "                                time_spent_Between 1 hour to 2 hours  \\\n",
       "brand_rating_comparison                                     0.177121   \n",
       "price_rating                                                0.109307   \n",
       "sales_promotions_influence                                  0.189051   \n",
       "ambience_rating                                            -0.001462   \n",
       "wifi_rating                                                 0.113941   \n",
       "...                                                              ...   \n",
       "referral_deal_sites                                         0.155215   \n",
       "referral_friends                                           -0.046021   \n",
       "referral_starbucks_website_app                              0.155623   \n",
       "continued_patronage_No                                     -0.114811   \n",
       "continued_patronage_Yes                                     0.114811   \n",
       "\n",
       "                                time_spent_Between 2 hours to 3 hours  \\\n",
       "brand_rating_comparison                                      0.032589   \n",
       "price_rating                                                 0.008991   \n",
       "sales_promotions_influence                                   0.017154   \n",
       "ambience_rating                                              0.024140   \n",
       "wifi_rating                                                 -0.024204   \n",
       "...                                                               ...   \n",
       "referral_deal_sites                                         -0.022429   \n",
       "referral_friends                                            -0.074481   \n",
       "referral_starbucks_website_app                               0.143329   \n",
       "continued_patronage_No                                      -0.049616   \n",
       "continued_patronage_Yes                                      0.049616   \n",
       "\n",
       "                                time_spent_Between 30 minutes to 1 hour  \\\n",
       "brand_rating_comparison                                       -0.011189   \n",
       "price_rating                                                  -0.074272   \n",
       "sales_promotions_influence                                    -0.017387   \n",
       "ambience_rating                                                0.086087   \n",
       "wifi_rating                                                   -0.127181   \n",
       "...                                                                 ...   \n",
       "referral_deal_sites                                            0.003866   \n",
       "referral_friends                                               0.087423   \n",
       "referral_starbucks_website_app                                 0.050358   \n",
       "continued_patronage_No                                         0.008552   \n",
       "continued_patronage_Yes                                       -0.008552   \n",
       "\n",
       "                                time_spent_More than 3 hours  is_member_No  \\\n",
       "brand_rating_comparison                             0.046279     -0.317671   \n",
       "price_rating                                       -0.107057     -0.158166   \n",
       "sales_promotions_influence                          0.083801     -0.110139   \n",
       "ambience_rating                                     0.034281     -0.261221   \n",
       "wifi_rating                                        -0.237277     -0.064493   \n",
       "...                                                      ...           ...   \n",
       "referral_deal_sites                                -0.031851     -0.109795   \n",
       "referral_friends                                    0.025903      0.003290   \n",
       "referral_starbucks_website_app                      0.060828     -0.282266   \n",
       "continued_patronage_No                              0.236543      0.341955   \n",
       "continued_patronage_Yes                            -0.236543     -0.341955   \n",
       "\n",
       "                                is_member_Yes  most_purchased_coffee  \\\n",
       "brand_rating_comparison              0.317671               0.117615   \n",
       "price_rating                         0.158166              -0.132235   \n",
       "sales_promotions_influence           0.110139               0.101266   \n",
       "ambience_rating                      0.261221               0.012533   \n",
       "wifi_rating                          0.064493              -0.080568   \n",
       "...                                       ...                    ...   \n",
       "referral_deal_sites                  0.109795               0.013724   \n",
       "referral_friends                    -0.003290               0.009470   \n",
       "referral_starbucks_website_app       0.282266               0.035283   \n",
       "continued_patronage_No              -0.341955              -0.011730   \n",
       "continued_patronage_Yes              0.341955               0.011730   \n",
       "\n",
       "                                most_purchased_pastries  \\\n",
       "brand_rating_comparison                        0.165176   \n",
       "price_rating                                   0.196190   \n",
       "sales_promotions_influence                     0.050951   \n",
       "ambience_rating                                0.129387   \n",
       "wifi_rating                                    0.176431   \n",
       "...                                                 ...   \n",
       "referral_deal_sites                            0.112970   \n",
       "referral_friends                               0.077952   \n",
       "referral_starbucks_website_app                 0.129372   \n",
       "continued_patronage_No                        -0.096555   \n",
       "continued_patronage_Yes                        0.096555   \n",
       "\n",
       "                                most_purchased_sandwiches  \\\n",
       "brand_rating_comparison                          0.130285   \n",
       "price_rating                                    -0.004535   \n",
       "sales_promotions_influence                      -0.010997   \n",
       "ambience_rating                                  0.070343   \n",
       "wifi_rating                                      0.033559   \n",
       "...                                                   ...   \n",
       "referral_deal_sites                              0.219413   \n",
       "referral_friends                                 0.120698   \n",
       "referral_starbucks_website_app                   0.198026   \n",
       "continued_patronage_No                          -0.144580   \n",
       "continued_patronage_Yes                          0.144580   \n",
       "\n",
       "                                most_purchased_cold_drinks  \\\n",
       "brand_rating_comparison                           0.071188   \n",
       "price_rating                                      0.181520   \n",
       "sales_promotions_influence                       -0.052370   \n",
       "ambience_rating                                   0.140373   \n",
       "wifi_rating                                       0.154751   \n",
       "...                                                    ...   \n",
       "referral_deal_sites                               0.062384   \n",
       "referral_friends                                  0.062740   \n",
       "referral_starbucks_website_app                    0.003849   \n",
       "continued_patronage_No                           -0.156632   \n",
       "continued_patronage_Yes                           0.156632   \n",
       "\n",
       "                                most_purchased_juices  most_purchased_never  \\\n",
       "brand_rating_comparison                      0.164198             -0.228590   \n",
       "price_rating                                 0.189099             -0.109957   \n",
       "sales_promotions_influence                   0.034742             -0.261954   \n",
       "ambience_rating                              0.148299             -0.299042   \n",
       "wifi_rating                                  0.095667             -0.049020   \n",
       "...                                               ...                   ...   \n",
       "referral_deal_sites                          0.350417             -0.045424   \n",
       "referral_friends                             0.130833              0.036941   \n",
       "referral_starbucks_website_app               0.086750             -0.015014   \n",
       "continued_patronage_No                      -0.100486              0.227887   \n",
       "continued_patronage_Yes                      0.100486             -0.227887   \n",
       "\n",
       "                                most_purchased_cake  most_purchased_jaws_chip  \\\n",
       "brand_rating_comparison                         NaN                       NaN   \n",
       "price_rating                                    NaN                       NaN   \n",
       "sales_promotions_influence                      NaN                       NaN   \n",
       "ambience_rating                                 NaN                       NaN   \n",
       "wifi_rating                                     NaN                       NaN   \n",
       "...                                             ...                       ...   \n",
       "referral_deal_sites                             NaN                       NaN   \n",
       "referral_friends                                NaN                       NaN   \n",
       "referral_starbucks_website_app                  NaN                       NaN   \n",
       "continued_patronage_No                          NaN                       NaN   \n",
       "continued_patronage_Yes                         NaN                       NaN   \n",
       "\n",
       "                                average_amount_spent_Around RM20 - RM40  \\\n",
       "brand_rating_comparison                                        0.165319   \n",
       "price_rating                                                   0.075608   \n",
       "sales_promotions_influence                                    -0.027825   \n",
       "ambience_rating                                                0.019548   \n",
       "wifi_rating                                                   -0.132335   \n",
       "...                                                                 ...   \n",
       "referral_deal_sites                                           -0.115560   \n",
       "referral_friends                                              -0.210478   \n",
       "referral_starbucks_website_app                                 0.116064   \n",
       "continued_patronage_No                                        -0.296035   \n",
       "continued_patronage_Yes                                        0.296035   \n",
       "\n",
       "                                average_amount_spent_Less than RM20  \\\n",
       "brand_rating_comparison                                   -0.043913   \n",
       "price_rating                                              -0.042956   \n",
       "sales_promotions_influence                                 0.119178   \n",
       "ambience_rating                                            0.146441   \n",
       "wifi_rating                                                0.124896   \n",
       "...                                                             ...   \n",
       "referral_deal_sites                                       -0.023140   \n",
       "referral_friends                                           0.124044   \n",
       "referral_starbucks_website_app                            -0.204640   \n",
       "continued_patronage_No                                     0.143968   \n",
       "continued_patronage_Yes                                   -0.143968   \n",
       "\n",
       "                                average_amount_spent_More than RM40  \\\n",
       "brand_rating_comparison                                    0.126039   \n",
       "price_rating                                               0.220682   \n",
       "sales_promotions_influence                                 0.014099   \n",
       "ambience_rating                                           -0.048667   \n",
       "wifi_rating                                                0.045103   \n",
       "...                                                             ...   \n",
       "referral_deal_sites                                        0.242236   \n",
       "referral_friends                                           0.229241   \n",
       "referral_starbucks_website_app                             0.233132   \n",
       "continued_patronage_No                                    -0.134653   \n",
       "continued_patronage_Yes                                    0.134653   \n",
       "\n",
       "                                average_amount_spent_Zero  \\\n",
       "brand_rating_comparison                         -0.292635   \n",
       "price_rating                                    -0.222803   \n",
       "sales_promotions_influence                      -0.165783   \n",
       "ambience_rating                                 -0.239239   \n",
       "wifi_rating                                     -0.030258   \n",
       "...                                                   ...   \n",
       "referral_deal_sites                              0.036864   \n",
       "referral_friends                                -0.046021   \n",
       "referral_starbucks_website_app                  -0.026935   \n",
       "continued_patronage_No                           0.343360   \n",
       "continued_patronage_Yes                         -0.343360   \n",
       "\n",
       "                                referral_application_offer  \\\n",
       "brand_rating_comparison                           0.032589   \n",
       "price_rating                                     -0.075388   \n",
       "sales_promotions_influence                        0.017154   \n",
       "ambience_rating                                   0.024140   \n",
       "wifi_rating                                       0.071050   \n",
       "...                                                    ...   \n",
       "referral_deal_sites                              -0.022429   \n",
       "referral_friends                                 -0.074481   \n",
       "referral_starbucks_website_app                   -0.057661   \n",
       "continued_patronage_No                            0.166568   \n",
       "continued_patronage_Yes                          -0.166568   \n",
       "\n",
       "                                referral_billboards  referral_emails  \\\n",
       "brand_rating_comparison                   -0.039785         0.075174   \n",
       "price_rating                               0.084260         0.041146   \n",
       "sales_promotions_influence                 0.033049         0.206200   \n",
       "ambience_rating                           -0.009119         0.160387   \n",
       "wifi_rating                                0.096103         0.131408   \n",
       "...                                             ...              ...   \n",
       "referral_deal_sites                        0.168446         0.195506   \n",
       "referral_friends                           0.150728         0.083472   \n",
       "referral_starbucks_website_app            -0.073125         0.298218   \n",
       "continued_patronage_No                    -0.103756        -0.117133   \n",
       "continued_patronage_Yes                    0.103756         0.117133   \n",
       "\n",
       "                                referral_in_store  referral_never  \\\n",
       "brand_rating_comparison                  0.093975       -0.064383   \n",
       "price_rating                             0.065252        0.008991   \n",
       "sales_promotions_influence               0.026059       -0.066558   \n",
       "ambience_rating                          0.050739       -0.074029   \n",
       "wifi_rating                              0.060608       -0.024204   \n",
       "...                                           ...             ...   \n",
       "referral_deal_sites                      0.074234       -0.022429   \n",
       "referral_friends                         0.025051       -0.074481   \n",
       "referral_starbucks_website_app          -0.193205       -0.057661   \n",
       "continued_patronage_No                   0.009311        0.166568   \n",
       "continued_patronage_Yes                 -0.009311       -0.166568   \n",
       "\n",
       "                                referral_social_media  referral_deal_sites  \\\n",
       "brand_rating_comparison                      0.037591             0.050847   \n",
       "price_rating                                 0.076789            -0.041026   \n",
       "sales_promotions_influence                   0.072005             0.046555   \n",
       "ambience_rating                              0.137194             0.103573   \n",
       "wifi_rating                                  0.162122             0.008173   \n",
       "...                                               ...                  ...   \n",
       "referral_deal_sites                          0.070889             1.000000   \n",
       "referral_friends                             0.122484             0.085450   \n",
       "referral_starbucks_website_app               0.019060             0.155208   \n",
       "continued_patronage_No                      -0.238102            -0.050838   \n",
       "continued_patronage_Yes                      0.238102             0.050838   \n",
       "\n",
       "                                referral_friends  \\\n",
       "brand_rating_comparison                 0.044003   \n",
       "price_rating                            0.065511   \n",
       "sales_promotions_influence              0.077614   \n",
       "ambience_rating                         0.127276   \n",
       "wifi_rating                             0.079699   \n",
       "...                                          ...   \n",
       "referral_deal_sites                     0.085450   \n",
       "referral_friends                        1.000000   \n",
       "referral_starbucks_website_app          0.034845   \n",
       "continued_patronage_No                 -0.049538   \n",
       "continued_patronage_Yes                 0.049538   \n",
       "\n",
       "                                referral_starbucks_website_app  \\\n",
       "brand_rating_comparison                               0.208042   \n",
       "price_rating                                          0.130012   \n",
       "sales_promotions_influence                            0.219810   \n",
       "ambience_rating                                       0.129285   \n",
       "wifi_rating                                           0.077976   \n",
       "...                                                        ...   \n",
       "referral_deal_sites                                   0.155208   \n",
       "referral_friends                                      0.034845   \n",
       "referral_starbucks_website_app                        1.000000   \n",
       "continued_patronage_No                               -0.173791   \n",
       "continued_patronage_Yes                               0.173791   \n",
       "\n",
       "                                continued_patronage_No  \\\n",
       "brand_rating_comparison                      -0.407319   \n",
       "price_rating                                 -0.452593   \n",
       "sales_promotions_influence                   -0.112402   \n",
       "ambience_rating                              -0.318145   \n",
       "wifi_rating                                  -0.165734   \n",
       "...                                                ...   \n",
       "referral_deal_sites                          -0.050838   \n",
       "referral_friends                             -0.049538   \n",
       "referral_starbucks_website_app               -0.173791   \n",
       "continued_patronage_No                        1.000000   \n",
       "continued_patronage_Yes                      -1.000000   \n",
       "\n",
       "                                continued_patronage_Yes  \n",
       "brand_rating_comparison                        0.407319  \n",
       "price_rating                                   0.452593  \n",
       "sales_promotions_influence                     0.112402  \n",
       "ambience_rating                                0.318145  \n",
       "wifi_rating                                    0.165734  \n",
       "...                                                 ...  \n",
       "referral_deal_sites                            0.050838  \n",
       "referral_friends                               0.049538  \n",
       "referral_starbucks_website_app                 0.173791  \n",
       "continued_patronage_No                        -1.000000  \n",
       "continued_patronage_Yes                        1.000000  \n",
       "\n",
       "[65 rows x 65 columns]"
      ]
     },
     "execution_count": 719,
     "metadata": {},
     "output_type": "execute_result"
    }
   ],
   "source": [
    "df_dummy.corr()"
   ]
  },
  {
   "cell_type": "code",
   "execution_count": 720,
   "metadata": {
    "colab": {
     "base_uri": "https://localhost:8080/",
     "height": 495
    },
    "colab_type": "code",
    "id": "dyPOff6_jJP3",
    "outputId": "8f2ef22f-2ece-42cb-91c4-7daa81d4e4c8"
   },
   "outputs": [
    {
     "data": {
      "image/png": "[encoded data removed]",
      "text/plain": [
       "<Figure size 432x288 with 2 Axes>"
      ]
     },
     "metadata": {},
     "output_type": "display_data"
    }
   ],
   "source": [
    "import seaborn as sns\n",
    "\n",
    "_ = sns.heatmap(df_dummy.corr())"
   ]
  },
  {
   "cell_type": "code",
   "execution_count": 721,
   "metadata": {
    "scrolled": true
   },
   "outputs": [
    {
     "data": {
      "text/plain": [
       "timestamp                         object\n",
       "brand_rating_comparison            int64\n",
       "price_rating                       int64\n",
       "sales_promotions_influence         int64\n",
       "ambience_rating                    int64\n",
       "                                   ...  \n",
       "referral_deal_sites                int64\n",
       "referral_friends                   int64\n",
       "referral_starbucks_website_app     int64\n",
       "continued_patronage_No             uint8\n",
       "continued_patronage_Yes            uint8\n",
       "Length: 66, dtype: object"
      ]
     },
     "execution_count": 721,
     "metadata": {},
     "output_type": "execute_result"
    }
   ],
   "source": [
    "df_dummy.dtypes"
   ]
  },
  {
   "cell_type": "code",
   "execution_count": 722,
   "metadata": {},
   "outputs": [],
   "source": [
    "df_dummy.to_csv('encoded_starbucks_dummy.csv')"
   ]
  },
  {
   "cell_type": "markdown",
   "metadata": {
    "colab_type": "text",
    "id": "yrHoUGZXrhEC"
   },
   "source": [
    "# Predictive Modelling"
   ]
  },
  {
   "cell_type": "markdown",
   "metadata": {
    "colab_type": "text",
    "id": "eJzb6YBTsz3V"
   },
   "source": [
    "Seperate the target from the dataset."
   ]
  },
  {
   "cell_type": "code",
   "execution_count": 723,
   "metadata": {
    "colab": {
     "base_uri": "https://localhost:8080/",
     "height": 34
    },
    "colab_type": "code",
    "id": "70gt9fROs9PA",
    "outputId": "8aec0c97-1329-448a-b6e6-ab6ecfa9ab99"
   },
   "outputs": [
    {
     "data": {
      "text/plain": [
       "(122, 63)"
      ]
     },
     "execution_count": 723,
     "metadata": {},
     "output_type": "execute_result"
    }
   ],
   "source": [
    "X = df_dummy.drop(columns=['continued_patronage_Yes', 'continued_patronage_No', 'timestamp',])\n",
    "X.shape"
   ]
  },
  {
   "cell_type": "code",
   "execution_count": 724,
   "metadata": {
    "colab": {
     "base_uri": "https://localhost:8080/",
     "height": 34
    },
    "colab_type": "code",
    "id": "izht8XjCtZ7M",
    "outputId": "e9e41afd-22f5-4b00-cb45-118030b8ec61",
    "scrolled": true
   },
   "outputs": [
    {
     "data": {
      "text/plain": [
       "(122,)"
      ]
     },
     "execution_count": 724,
     "metadata": {},
     "output_type": "execute_result"
    }
   ],
   "source": [
    "y = df_dummy.continued_patronage_Yes\n",
    "y.shape"
   ]
  },
  {
   "cell_type": "markdown",
   "metadata": {
    "colab_type": "text",
    "id": "uJ23AADJrvcR"
   },
   "source": [
    "I import the required libraries"
   ]
  },
  {
   "cell_type": "code",
   "execution_count": 725,
   "metadata": {
    "colab": {},
    "colab_type": "code",
    "id": "t3JlQwJMrp44"
   },
   "outputs": [],
   "source": [
    "from sklearn.model_selection import train_test_split"
   ]
  },
  {
   "cell_type": "markdown",
   "metadata": {
    "colab_type": "text",
    "id": "m39h7eaHxCP-"
   },
   "source": [
    "Partitioning the data into train and test data through random sampling"
   ]
  },
  {
   "cell_type": "code",
   "execution_count": 726,
   "metadata": {
    "colab": {
     "base_uri": "https://localhost:8080/",
     "height": 34
    },
    "colab_type": "code",
    "id": "S7qiKAySxWAf",
    "outputId": "849e218e-83d1-4c08-83c8-243c5626b392"
   },
   "outputs": [
    {
     "name": "stdout",
     "output_type": "stream",
     "text": [
      "(85, 63) (85,) (37, 63) (37,)\n"
     ]
    }
   ],
   "source": [
    "X_train, X_test, y_train, y_test = train_test_split(X, y, test_size=0.3, random_state=5)\n",
    "print(X_train.shape, \n",
    "      y_train.shape, \n",
    "      X_test.shape, \n",
    "      y_test.shape)"
   ]
  },
  {
   "cell_type": "markdown",
   "metadata": {},
   "source": [
    "The goal of this project is to predict whether a customer will continue the service or not. A false negative prediction will hurt the business more than a false positive one, hence our aim would be to minimize false negative. \n",
    "\n",
    "A good metrics for success would be Recall."
   ]
  },
  {
   "cell_type": "markdown",
   "metadata": {},
   "source": [
    "I am going to test out three models to see how they perform against a Recall criterion."
   ]
  },
  {
   "cell_type": "markdown",
   "metadata": {},
   "source": [
    "- Decision Tree"
   ]
  },
  {
   "cell_type": "code",
   "execution_count": 727,
   "metadata": {
    "colab": {},
    "colab_type": "code",
    "id": "3SrGOSLSxMS3"
   },
   "outputs": [],
   "source": [
    "from sklearn import tree\n",
    "from sklearn.metrics import accuracy_score\n",
    "from sklearn import ensemble\n",
    "from sklearn.feature_selection import SelectFromModel\n",
    "from sklearn.metrics import roc_curve\n",
    "from sklearn.metrics import roc_auc_score\n",
    "from sklearn.metrics import classification_report"
   ]
  },
  {
   "cell_type": "code",
   "execution_count": 728,
   "metadata": {},
   "outputs": [
    {
     "name": "stdout",
     "output_type": "stream",
     "text": [
      "0.8648648648648649 0.1351351351351351\n"
     ]
    }
   ],
   "source": [
    "dsTreeClf = tree.DecisionTreeClassifier()\n",
    "_ = dsTreeClf.fit(X_train, y_train)\n",
    "ds_pred = dsTreeClf.predict(X_test)\n",
    "ds_accuracy = accuracy_score(y_test, ds_pred)\n",
    "ds_error = 1 - ds_accuracy\n",
    "print(ds_accuracy, ds_error)"
   ]
  },
  {
   "cell_type": "markdown",
   "metadata": {},
   "source": [
    "Ensemble Learning Methods"
   ]
  },
  {
   "cell_type": "markdown",
   "metadata": {},
   "source": [
    "- Random Forest"
   ]
  },
  {
   "cell_type": "code",
   "execution_count": 729,
   "metadata": {},
   "outputs": [],
   "source": [
    "from sklearn import ensemble\n",
    "rfClf = ensemble.RandomForestClassifier()"
   ]
  },
  {
   "cell_type": "code",
   "execution_count": 730,
   "metadata": {},
   "outputs": [
    {
     "name": "stdout",
     "output_type": "stream",
     "text": [
      "0.8648648648648649 0.1351351351351351\n"
     ]
    }
   ],
   "source": [
    "_ = rfClf.fit(X_train, y_train)\n",
    "rf_pred = rfClf.predict(X_test)\n",
    "rf_accuracy = accuracy_score(y_test, rf_pred)\n",
    "rf_error = 1 - rf_accuracy\n",
    "print(ds_accuracy, ds_error)"
   ]
  },
  {
   "cell_type": "markdown",
   "metadata": {},
   "source": [
    "- Gradient Boosting"
   ]
  },
  {
   "cell_type": "code",
   "execution_count": 731,
   "metadata": {},
   "outputs": [
    {
     "name": "stdout",
     "output_type": "stream",
     "text": [
      "0.8648648648648649 0.1351351351351351\n"
     ]
    }
   ],
   "source": [
    "gbClf = ensemble.GradientBoostingClassifier()\n",
    "_ = gbClf.fit(X_train, y_train)\n",
    "gb_pred = gbClf.predict(X_test)\n",
    "gb_accuracy = accuracy_score(y_test, gb_pred)\n",
    "gb_error = 1 - gb_accuracy\n",
    "\n",
    "print(gb_accuracy, gb_error)"
   ]
  },
  {
   "cell_type": "markdown",
   "metadata": {},
   "source": [
    "Let's see how our models did on Recall"
   ]
  },
  {
   "cell_type": "code",
   "execution_count": 732,
   "metadata": {
    "scrolled": false
   },
   "outputs": [
    {
     "name": "stdout",
     "output_type": "stream",
     "text": [
      ".....Decision Tree Classification Report......\n",
      "              precision    recall  f1-score   support\n",
      "\n",
      "           0       0.64      0.88      0.74         8\n",
      "           1       0.96      0.86      0.91        29\n",
      "\n",
      "    accuracy                           0.86        37\n",
      "   macro avg       0.80      0.87      0.82        37\n",
      "weighted avg       0.89      0.86      0.87        37\n",
      "\n",
      ".....Random Forest Classification Report......\n",
      "              precision    recall  f1-score   support\n",
      "\n",
      "           0       0.67      0.50      0.57         8\n",
      "           1       0.87      0.93      0.90        29\n",
      "\n",
      "    accuracy                           0.84        37\n",
      "   macro avg       0.77      0.72      0.74        37\n",
      "weighted avg       0.83      0.84      0.83        37\n",
      "\n",
      ".....Gradient Boosting Classification Report......\n",
      "              precision    recall  f1-score   support\n",
      "\n",
      "           0       0.67      0.75      0.71         8\n",
      "           1       0.93      0.90      0.91        29\n",
      "\n",
      "    accuracy                           0.86        37\n",
      "   macro avg       0.80      0.82      0.81        37\n",
      "weighted avg       0.87      0.86      0.87        37\n",
      "\n"
     ]
    }
   ],
   "source": [
    "from sklearn.metrics import classification_report\n",
    "print('.....Decision Tree Classification Report......')\n",
    "print(classification_report(y_test, ds_pred))\n",
    "print('.....Random Forest Classification Report......')\n",
    "print(classification_report(y_test, rf_pred))\n",
    "print('.....Gradient Boosting Classification Report......')\n",
    "print(classification_report(y_test, gb_pred))"
   ]
  },
  {
   "cell_type": "markdown",
   "metadata": {
    "colab_type": "text",
    "id": "mLxrYnhmxMTN"
   },
   "source": [
    "### Finetuning Gradient Boosting Before Data Sampling"
   ]
  },
  {
   "cell_type": "markdown",
   "metadata": {},
   "source": [
    "#### Mod 1"
   ]
  },
  {
   "cell_type": "markdown",
   "metadata": {},
   "source": [
    "Decision Tree"
   ]
  },
  {
   "cell_type": "code",
   "execution_count": 733,
   "metadata": {
    "colab": {},
    "colab_type": "code",
    "id": "T3OI3qDmxMTN",
    "outputId": "f21ae176-f193-414a-84ab-9aefd43bae55"
   },
   "outputs": [
    {
     "data": {
      "text/plain": [
       "0.7837837837837838"
      ]
     },
     "execution_count": 733,
     "metadata": {},
     "output_type": "execute_result"
    }
   ],
   "source": [
    "ds_clf_mod1 = tree.DecisionTreeClassifier(max_depth=6, \n",
    "                                          max_leaf_nodes=3,)\n",
    "_ = ds_clf_mod1.fit(X_train, y_train)\n",
    "ds_mod1_pred = ds_clf_mod1.predict(X_test)\n",
    "ds_clf_acc = accuracy_score(y_test, ds_mod1_pred)\n",
    "\n",
    "ds_clf_acc"
   ]
  },
  {
   "cell_type": "markdown",
   "metadata": {},
   "source": [
    "Random Forest"
   ]
  },
  {
   "cell_type": "code",
   "execution_count": 734,
   "metadata": {
    "colab": {},
    "colab_type": "code",
    "id": "T3OI3qDmxMTN",
    "outputId": "f21ae176-f193-414a-84ab-9aefd43bae55"
   },
   "outputs": [
    {
     "data": {
      "text/plain": [
       "0.7837837837837838"
      ]
     },
     "execution_count": 734,
     "metadata": {},
     "output_type": "execute_result"
    }
   ],
   "source": [
    "rf_clf_mod1 = ensemble.RandomForestClassifier(n_estimators=1000, \n",
    "                                             max_depth=6, \n",
    "                                             max_leaf_nodes=3,)\n",
    "_ = rf_clf_mod1.fit(X_train, y_train)\n",
    "rf_mod1_pred = rf_clf_mod1.predict(X_test)\n",
    "rf_clf_acc = accuracy_score(y_test, rf_mod1_pred)\n",
    "\n",
    "rf_clf_acc"
   ]
  },
  {
   "cell_type": "markdown",
   "metadata": {},
   "source": [
    "Gradient Boosting"
   ]
  },
  {
   "cell_type": "code",
   "execution_count": 735,
   "metadata": {
    "colab": {},
    "colab_type": "code",
    "id": "T3OI3qDmxMTN",
    "outputId": "f21ae176-f193-414a-84ab-9aefd43bae55"
   },
   "outputs": [
    {
     "data": {
      "text/plain": [
       "0.8648648648648649"
      ]
     },
     "execution_count": 735,
     "metadata": {},
     "output_type": "execute_result"
    }
   ],
   "source": [
    "gb_clf_mod1 = ensemble.GradientBoostingClassifier(n_estimators=1000, \n",
    "                                             max_depth=6, \n",
    "                                             max_leaf_nodes=3,\n",
    "                                            )\n",
    "_ = gb_clf_mod1.fit(X_train, y_train)\n",
    "gb_mod1_pred = gb_clf_mod1.predict(X_test)\n",
    "gb_mod1_acc = accuracy_score(y_test, gb_mod1_pred)\n",
    "\n",
    "gb_mod1_acc"
   ]
  },
  {
   "cell_type": "markdown",
   "metadata": {},
   "source": [
    "AUC Scores"
   ]
  },
  {
   "cell_type": "code",
   "execution_count": 736,
   "metadata": {
    "colab": {},
    "colab_type": "code",
    "id": "X_omz870xMTV",
    "outputId": "5aab8d36-2b1d-48c9-b22b-42a3c3296c41",
    "scrolled": true
   },
   "outputs": [
    {
     "name": "stdout",
     "output_type": "stream",
     "text": [
      "AUC_score for Decision Tree 0.7219827586206897\n"
     ]
    }
   ],
   "source": [
    "y_pred_mod1_prob = ds_clf_mod1.predict_proba(X_test)[:,1]\n",
    "print('AUC_score for Decision Tree', roc_auc_score(y_test, y_pred_mod1_prob))"
   ]
  },
  {
   "cell_type": "code",
   "execution_count": 737,
   "metadata": {
    "colab": {},
    "colab_type": "code",
    "id": "X_omz870xMTV",
    "outputId": "5aab8d36-2b1d-48c9-b22b-42a3c3296c41",
    "scrolled": true
   },
   "outputs": [
    {
     "name": "stdout",
     "output_type": "stream",
     "text": [
      "AUC_score for Random Forest 0.9482758620689655\n"
     ]
    }
   ],
   "source": [
    "y_pred_mod1_prob = rf_clf_mod1.predict_proba(X_test)[:,1]\n",
    "print('AUC_score for Random Forest', roc_auc_score(y_test, y_pred_mod1_prob))"
   ]
  },
  {
   "cell_type": "code",
   "execution_count": 738,
   "metadata": {
    "colab": {},
    "colab_type": "code",
    "id": "X_omz870xMTV",
    "outputId": "5aab8d36-2b1d-48c9-b22b-42a3c3296c41",
    "scrolled": true
   },
   "outputs": [
    {
     "name": "stdout",
     "output_type": "stream",
     "text": [
      "AUC_score for Gradient Boosting 0.853448275862069\n"
     ]
    }
   ],
   "source": [
    "y_pred_mod1_prob = gb_clf_mod1.predict_proba(X_test)[:,1]\n",
    "print('AUC_score for Gradient Boosting', roc_auc_score(y_test, y_pred_mod1_prob))"
   ]
  },
  {
   "cell_type": "code",
   "execution_count": 739,
   "metadata": {
    "colab": {},
    "colab_type": "code",
    "id": "DLWfoXWAxMTJ",
    "outputId": "aed9a5cb-f4f8-45f0-e87d-db3f1484b967",
    "scrolled": false
   },
   "outputs": [
    {
     "name": "stdout",
     "output_type": "stream",
     "text": [
      ".....Decision Tree Classification Report......\n",
      "              precision    recall  f1-score   support\n",
      "\n",
      "           0       0.50      0.75      0.60         8\n",
      "           1       0.92      0.79      0.85        29\n",
      "\n",
      "    accuracy                           0.78        37\n",
      "   macro avg       0.71      0.77      0.73        37\n",
      "weighted avg       0.83      0.78      0.80        37\n",
      "\n",
      ".....Random Forest Classification Report......\n",
      "              precision    recall  f1-score   support\n",
      "\n",
      "           0       0.00      0.00      0.00         8\n",
      "           1       0.78      1.00      0.88        29\n",
      "\n",
      "    accuracy                           0.78        37\n",
      "   macro avg       0.39      0.50      0.44        37\n",
      "weighted avg       0.61      0.78      0.69        37\n",
      "\n",
      ".....Gradient Boosting Classification Report......\n",
      "              precision    recall  f1-score   support\n",
      "\n",
      "           0       0.67      0.75      0.71         8\n",
      "           1       0.93      0.90      0.91        29\n",
      "\n",
      "    accuracy                           0.86        37\n",
      "   macro avg       0.80      0.82      0.81        37\n",
      "weighted avg       0.87      0.86      0.87        37\n",
      "\n"
     ]
    },
    {
     "name": "stderr",
     "output_type": "stream",
     "text": [
      "C:\\Users\\kboyz\\AppData\\Roaming\\Python\\Python37\\site-packages\\sklearn\\metrics\\_classification.py:1221: UndefinedMetricWarning: Precision and F-score are ill-defined and being set to 0.0 in labels with no predicted samples. Use `zero_division` parameter to control this behavior.\n",
      "  _warn_prf(average, modifier, msg_start, len(result))\n"
     ]
    }
   ],
   "source": [
    "print('.....Decision Tree Classification Report......')\n",
    "print(classification_report(y_test, ds_mod1_pred))\n",
    "print('.....Random Forest Classification Report......')\n",
    "print(classification_report(y_test, rf_mod1_pred))\n",
    "print('.....Gradient Boosting Classification Report......')\n",
    "print(classification_report(y_test, gb_mod1_pred))"
   ]
  },
  {
   "cell_type": "markdown",
   "metadata": {},
   "source": [
    "Recall being our main criterion for success is only slightly better in GBM Mod 1"
   ]
  },
  {
   "cell_type": "markdown",
   "metadata": {},
   "source": [
    "#### Mod 2"
   ]
  },
  {
   "cell_type": "markdown",
   "metadata": {},
   "source": [
    "Decision Tree"
   ]
  },
  {
   "cell_type": "code",
   "execution_count": 740,
   "metadata": {
    "colab": {},
    "colab_type": "code",
    "id": "T3OI3qDmxMTN",
    "outputId": "f21ae176-f193-414a-84ab-9aefd43bae55"
   },
   "outputs": [
    {
     "data": {
      "text/plain": [
       "0.8378378378378378"
      ]
     },
     "execution_count": 740,
     "metadata": {},
     "output_type": "execute_result"
    }
   ],
   "source": [
    "ds_clf_mod2 = tree.DecisionTreeClassifier(   max_depth=6, \n",
    "                                             max_leaf_nodes=3, \n",
    "                                             max_features='sqrt', \n",
    "                                             random_state=23\n",
    "                                            )\n",
    "_ = ds_clf_mod2.fit(X_train, y_train)\n",
    "ds_mod2_pred = ds_clf_mod2.predict(X_test)\n",
    "ds_mod2_acc = accuracy_score(y_test, ds_mod2_pred)\n",
    "\n",
    "ds_mod2_acc"
   ]
  },
  {
   "cell_type": "markdown",
   "metadata": {},
   "source": [
    "Random Forest"
   ]
  },
  {
   "cell_type": "code",
   "execution_count": 741,
   "metadata": {
    "colab": {},
    "colab_type": "code",
    "id": "T3OI3qDmxMTN",
    "outputId": "f21ae176-f193-414a-84ab-9aefd43bae55"
   },
   "outputs": [
    {
     "data": {
      "text/plain": [
       "0.7837837837837838"
      ]
     },
     "execution_count": 741,
     "metadata": {},
     "output_type": "execute_result"
    }
   ],
   "source": [
    "rf_clf_mod2 = ensemble.RandomForestClassifier(n_estimators=1000, \n",
    "                                             max_depth=6, \n",
    "                                             max_leaf_nodes=3,\n",
    "                                             random_state=23)\n",
    "_ = rf_clf_mod2.fit(X_train, y_train)\n",
    "rf_mod2_pred = rf_clf_mod1.predict(X_test)\n",
    "rf_mod2_acc = accuracy_score(y_test, rf_mod2_pred)\n",
    "\n",
    "rf_mod2_acc"
   ]
  },
  {
   "cell_type": "markdown",
   "metadata": {},
   "source": [
    "Gradient Boosting"
   ]
  },
  {
   "cell_type": "code",
   "execution_count": 742,
   "metadata": {
    "colab": {},
    "colab_type": "code",
    "id": "T3OI3qDmxMTN",
    "outputId": "f21ae176-f193-414a-84ab-9aefd43bae55"
   },
   "outputs": [
    {
     "data": {
      "text/plain": [
       "0.8918918918918919"
      ]
     },
     "execution_count": 742,
     "metadata": {},
     "output_type": "execute_result"
    }
   ],
   "source": [
    "gb_clf_mod2 = ensemble.GradientBoostingClassifier(n_estimators=1000, \n",
    "                                             max_depth=6, \n",
    "                                             max_leaf_nodes=3, \n",
    "                                             max_features='sqrt', \n",
    "                                             learning_rate=0.1451,\n",
    "                                             random_state=23\n",
    "                                            )\n",
    "_ = gb_clf_mod2.fit(X_train, y_train)\n",
    "gb_mod2_pred = gb_clf_mod2.predict(X_test)\n",
    "gb_mod2_acc = accuracy_score(y_test, gb_mod2_pred)\n",
    "\n",
    "gb_mod2_acc"
   ]
  },
  {
   "cell_type": "code",
   "execution_count": 743,
   "metadata": {
    "colab": {},
    "colab_type": "code",
    "id": "X_omz870xMTV",
    "outputId": "5aab8d36-2b1d-48c9-b22b-42a3c3296c41"
   },
   "outputs": [
    {
     "name": "stdout",
     "output_type": "stream",
     "text": [
      "AUC_score for Decision Tree 0.7219827586206897\n"
     ]
    }
   ],
   "source": [
    "y_pred_mod2_prob = ds_clf_mod1.predict_proba(X_test)[:,1]\n",
    "print('AUC_score for Decision Tree', roc_auc_score(y_test, y_pred_mod2_prob))"
   ]
  },
  {
   "cell_type": "code",
   "execution_count": 746,
   "metadata": {
    "colab": {},
    "colab_type": "code",
    "id": "X_omz870xMTV",
    "outputId": "5aab8d36-2b1d-48c9-b22b-42a3c3296c41"
   },
   "outputs": [
    {
     "name": "stdout",
     "output_type": "stream",
     "text": [
      "AUC_score for Random Forest 0.9612068965517242\n"
     ]
    }
   ],
   "source": [
    "y_pred_mod2_prob = rf_clf_mod2.predict_proba(X_test)[:,1]\n",
    "print('AUC_score for Random Forest', roc_auc_score(y_test, y_pred_mod2_prob))"
   ]
  },
  {
   "cell_type": "code",
   "execution_count": 747,
   "metadata": {
    "colab": {},
    "colab_type": "code",
    "id": "X_omz870xMTV",
    "outputId": "5aab8d36-2b1d-48c9-b22b-42a3c3296c41"
   },
   "outputs": [
    {
     "name": "stdout",
     "output_type": "stream",
     "text": [
      "AUC_score for Gradient Boosting 0.8836206896551724\n"
     ]
    }
   ],
   "source": [
    "y_pred_mod2_prob = gb_clf_mod2.predict_proba(X_test)[:,1]\n",
    "print('AUC_score for Gradient Boosting', roc_auc_score(y_test, y_pred_mod2_prob))"
   ]
  },
  {
   "cell_type": "code",
   "execution_count": 748,
   "metadata": {
    "colab": {},
    "colab_type": "code",
    "id": "DLWfoXWAxMTJ",
    "outputId": "aed9a5cb-f4f8-45f0-e87d-db3f1484b967",
    "scrolled": false
   },
   "outputs": [
    {
     "name": "stdout",
     "output_type": "stream",
     "text": [
      ".....Decision Tree Classification Report......\n",
      "              precision    recall  f1-score   support\n",
      "\n",
      "           0       0.57      1.00      0.73         8\n",
      "           1       1.00      0.79      0.88        29\n",
      "\n",
      "    accuracy                           0.84        37\n",
      "   macro avg       0.79      0.90      0.81        37\n",
      "weighted avg       0.91      0.84      0.85        37\n",
      "\n",
      ".....Random Forest Classification Report......\n",
      "              precision    recall  f1-score   support\n",
      "\n",
      "           0       0.00      0.00      0.00         8\n",
      "           1       0.78      1.00      0.88        29\n",
      "\n",
      "    accuracy                           0.78        37\n",
      "   macro avg       0.39      0.50      0.44        37\n",
      "weighted avg       0.61      0.78      0.69        37\n",
      "\n",
      ".....Gradient Boosting Classification Report......\n",
      "              precision    recall  f1-score   support\n",
      "\n",
      "           0       0.75      0.75      0.75         8\n",
      "           1       0.93      0.93      0.93        29\n",
      "\n",
      "    accuracy                           0.89        37\n",
      "   macro avg       0.84      0.84      0.84        37\n",
      "weighted avg       0.89      0.89      0.89        37\n",
      "\n"
     ]
    },
    {
     "name": "stderr",
     "output_type": "stream",
     "text": [
      "C:\\Users\\kboyz\\AppData\\Roaming\\Python\\Python37\\site-packages\\sklearn\\metrics\\_classification.py:1221: UndefinedMetricWarning: Precision and F-score are ill-defined and being set to 0.0 in labels with no predicted samples. Use `zero_division` parameter to control this behavior.\n",
      "  _warn_prf(average, modifier, msg_start, len(result))\n"
     ]
    }
   ],
   "source": [
    "print('.....Decision Tree Classification Report......')\n",
    "print(classification_report(y_test, ds_mod2_pred))\n",
    "print('.....Random Forest Classification Report......')\n",
    "print(classification_report(y_test, rf_mod2_pred))\n",
    "print('.....Gradient Boosting Classification Report......')\n",
    "print(classification_report(y_test, gb_mod2_pred))"
   ]
  },
  {
   "cell_type": "markdown",
   "metadata": {},
   "source": [
    "Seemingly no change after Mod 2"
   ]
  },
  {
   "cell_type": "markdown",
   "metadata": {},
   "source": [
    "## Data Standardization and Normalization"
   ]
  },
  {
   "cell_type": "markdown",
   "metadata": {},
   "source": [
    "Seeing as the data in this dataset is mostly nominal and ordinal data, there is no pressing need for either of these methods"
   ]
  },
  {
   "cell_type": "markdown",
   "metadata": {
    "colab_type": "text",
    "id": "_p-if1FaxMTo"
   },
   "source": [
    "## Data Sampling"
   ]
  },
  {
   "cell_type": "code",
   "execution_count": 749,
   "metadata": {
    "colab": {},
    "colab_type": "code",
    "id": "w0eHc_IDxMTp",
    "outputId": "71512b31-e5c1-40b9-b5ab-ed2bd2beb7f6"
   },
   "outputs": [
    {
     "data": {
      "text/plain": [
       "1    94\n",
       "0    28\n",
       "Name: continued_patronage_Yes, dtype: int64"
      ]
     },
     "execution_count": 749,
     "metadata": {},
     "output_type": "execute_result"
    }
   ],
   "source": [
    "y.value_counts()"
   ]
  },
  {
   "cell_type": "markdown",
   "metadata": {},
   "source": [
    "### Combination of Over- and Under- Sampling"
   ]
  },
  {
   "cell_type": "code",
   "execution_count": 750,
   "metadata": {},
   "outputs": [],
   "source": [
    "# SMOTEENN\n",
    "from imblearn.combine import SMOTEENN\n",
    "sampler = SMOTEENN()\n",
    "X_us, y_us = sampler.fit_sample(X, y)\n",
    "\n",
    "X_train, X_test, y_train, y_test = train_test_split(X_us, y_us, test_size=0.3, random_state=66)"
   ]
  },
  {
   "cell_type": "markdown",
   "metadata": {},
   "source": [
    "#### No finetuning"
   ]
  },
  {
   "cell_type": "code",
   "execution_count": 751,
   "metadata": {
    "colab": {},
    "colab_type": "code",
    "id": "OAxn1-jqxMTB",
    "outputId": "14999149-8456-4d28-e1cd-608057aad227",
    "scrolled": true
   },
   "outputs": [
    {
     "data": {
      "text/plain": [
       "0.925"
      ]
     },
     "execution_count": 751,
     "metadata": {},
     "output_type": "execute_result"
    }
   ],
   "source": [
    "ds_clf = tree.DecisionTreeClassifier()\n",
    "_ = ds_clf.fit(X_train, y_train)\n",
    "ds_pred = ds_clf.predict(X_test)\n",
    "ds_acc = accuracy_score(y_test, ds_pred)\n",
    "\n",
    "ds_acc"
   ]
  },
  {
   "cell_type": "code",
   "execution_count": 752,
   "metadata": {
    "colab": {},
    "colab_type": "code",
    "id": "OAxn1-jqxMTB",
    "outputId": "14999149-8456-4d28-e1cd-608057aad227",
    "scrolled": true
   },
   "outputs": [
    {
     "data": {
      "text/plain": [
       "0.975"
      ]
     },
     "execution_count": 752,
     "metadata": {},
     "output_type": "execute_result"
    }
   ],
   "source": [
    "rf_clf = ensemble.RandomForestClassifier()\n",
    "_ = rf_clf.fit(X_train, y_train)\n",
    "rf_pred = rf_clf.predict(X_test)\n",
    "rf_acc = accuracy_score(y_test, rf_pred)\n",
    "\n",
    "rf_acc"
   ]
  },
  {
   "cell_type": "code",
   "execution_count": 753,
   "metadata": {
    "colab": {},
    "colab_type": "code",
    "id": "OAxn1-jqxMTB",
    "outputId": "14999149-8456-4d28-e1cd-608057aad227",
    "scrolled": true
   },
   "outputs": [
    {
     "data": {
      "text/plain": [
       "0.95"
      ]
     },
     "execution_count": 753,
     "metadata": {},
     "output_type": "execute_result"
    }
   ],
   "source": [
    "gb_clf = ensemble.GradientBoostingClassifier()\n",
    "_ = gb_clf.fit(X_train, y_train)\n",
    "gb_pred = gb_clf.predict(X_test)\n",
    "gb_acc = accuracy_score(y_test, gb_pred)\n",
    "\n",
    "gb_acc"
   ]
  },
  {
   "cell_type": "code",
   "execution_count": 754,
   "metadata": {
    "colab": {},
    "colab_type": "code",
    "id": "X_omz870xMTV",
    "outputId": "5aab8d36-2b1d-48c9-b22b-42a3c3296c41",
    "scrolled": false
   },
   "outputs": [
    {
     "name": "stdout",
     "output_type": "stream",
     "text": [
      "AUC_score for Decision Tree 0.9166666666666666\n"
     ]
    }
   ],
   "source": [
    "y_pred_prob = ds_clf.predict_proba(X_test)[:,1]\n",
    "print('AUC_score for Decision Tree', roc_auc_score(y_test, y_pred_prob))"
   ]
  },
  {
   "cell_type": "code",
   "execution_count": 755,
   "metadata": {
    "colab": {},
    "colab_type": "code",
    "id": "X_omz870xMTV",
    "outputId": "5aab8d36-2b1d-48c9-b22b-42a3c3296c41",
    "scrolled": false
   },
   "outputs": [
    {
     "name": "stdout",
     "output_type": "stream",
     "text": [
      "AUC_score for Random Forest 1.0\n"
     ]
    }
   ],
   "source": [
    "y_pred_prob = rf_clf.predict_proba(X_test)[:,1]\n",
    "print('AUC_score for Random Forest', roc_auc_score(y_test, y_pred_prob))"
   ]
  },
  {
   "cell_type": "code",
   "execution_count": 756,
   "metadata": {
    "colab": {},
    "colab_type": "code",
    "id": "X_omz870xMTV",
    "outputId": "5aab8d36-2b1d-48c9-b22b-42a3c3296c41",
    "scrolled": false
   },
   "outputs": [
    {
     "name": "stdout",
     "output_type": "stream",
     "text": [
      "AUC_score for Gradient Boosting 1.0\n"
     ]
    }
   ],
   "source": [
    "y_pred_prob = gb_clf.predict_proba(X_test)[:,1]\n",
    "print('AUC_score for Gradient Boosting', roc_auc_score(y_test, y_pred_prob))"
   ]
  },
  {
   "cell_type": "code",
   "execution_count": 757,
   "metadata": {
    "colab": {},
    "colab_type": "code",
    "id": "08hPACjUxMTv",
    "outputId": "37c47501-6b3c-4ecc-b483-3dbfed11bc16"
   },
   "outputs": [
    {
     "name": "stdout",
     "output_type": "stream",
     "text": [
      ".....Decision Tree Classification Report......\n",
      "              precision    recall  f1-score   support\n",
      "\n",
      "           0       0.92      1.00      0.96        24\n",
      "           1       1.00      0.88      0.93        16\n",
      "\n",
      "    accuracy                           0.95        40\n",
      "   macro avg       0.96      0.94      0.95        40\n",
      "weighted avg       0.95      0.95      0.95        40\n",
      "\n",
      ".....Random Forest Classification Report......\n",
      "              precision    recall  f1-score   support\n",
      "\n",
      "           0       0.96      1.00      0.98        24\n",
      "           1       1.00      0.94      0.97        16\n",
      "\n",
      "    accuracy                           0.97        40\n",
      "   macro avg       0.98      0.97      0.97        40\n",
      "weighted avg       0.98      0.97      0.97        40\n",
      "\n",
      ".....Gradient Boosting Classification Report......\n",
      "              precision    recall  f1-score   support\n",
      "\n",
      "           0       0.92      1.00      0.96        24\n",
      "           1       1.00      0.88      0.93        16\n",
      "\n",
      "    accuracy                           0.95        40\n",
      "   macro avg       0.96      0.94      0.95        40\n",
      "weighted avg       0.95      0.95      0.95        40\n",
      "\n"
     ]
    }
   ],
   "source": [
    "#Gradient Boosting (No Modification)\n",
    "_ = gb_clf.fit(X_train, y_train)\n",
    "gb_pred = gb_clf.predict(X_test)\n",
    "\n",
    "# Evaluation Metrics\n",
    "print('.....Decision Tree Classification Report......')\n",
    "print(classification_report(y_test, gb_pred))\n",
    "print('.....Random Forest Classification Report......')\n",
    "print(classification_report(y_test, rf_pred))\n",
    "print('.....Gradient Boosting Classification Report......')\n",
    "print(classification_report(y_test, gb_pred))"
   ]
  },
  {
   "cell_type": "markdown",
   "metadata": {},
   "source": [
    "Recall shot up to 72% accuracy. This is a good increment."
   ]
  },
  {
   "cell_type": "markdown",
   "metadata": {},
   "source": [
    "#### Mod 1"
   ]
  },
  {
   "cell_type": "markdown",
   "metadata": {},
   "source": [
    "Decision Tree"
   ]
  },
  {
   "cell_type": "code",
   "execution_count": 758,
   "metadata": {
    "colab": {},
    "colab_type": "code",
    "id": "T3OI3qDmxMTN",
    "outputId": "f21ae176-f193-414a-84ab-9aefd43bae55",
    "scrolled": true
   },
   "outputs": [
    {
     "data": {
      "text/plain": [
       "0.9"
      ]
     },
     "execution_count": 758,
     "metadata": {},
     "output_type": "execute_result"
    }
   ],
   "source": [
    "ds_clf_mod1 = tree.DecisionTreeClassifier(   max_depth=6, \n",
    "                                             max_leaf_nodes=3,\n",
    "                                            )\n",
    "_ = ds_clf_mod1.fit(X_train, y_train)\n",
    "ds_mod1_pred =ds_clf_mod1.predict(X_test)\n",
    "ds_mod1_acc = accuracy_score(y_test, ds_mod1_pred)\n",
    "\n",
    "ds_mod1_acc"
   ]
  },
  {
   "cell_type": "markdown",
   "metadata": {},
   "source": [
    "Random Forest"
   ]
  },
  {
   "cell_type": "code",
   "execution_count": 759,
   "metadata": {
    "colab": {},
    "colab_type": "code",
    "id": "T3OI3qDmxMTN",
    "outputId": "f21ae176-f193-414a-84ab-9aefd43bae55"
   },
   "outputs": [
    {
     "data": {
      "text/plain": [
       "0.95"
      ]
     },
     "execution_count": 759,
     "metadata": {},
     "output_type": "execute_result"
    }
   ],
   "source": [
    "rf_clf_mod1 = ensemble.RandomForestClassifier(n_estimators=1000, \n",
    "                                             max_depth=6, \n",
    "                                             max_leaf_nodes=3,\n",
    "                                            )\n",
    "_ = rf_clf_mod1.fit(X_train, y_train)\n",
    "rf_mod1_pred = rf_clf_mod1.predict(X_test)\n",
    "rf_mod1_acc = accuracy_score(y_test, rf_mod1_pred)\n",
    "\n",
    "rf_mod1_acc"
   ]
  },
  {
   "cell_type": "markdown",
   "metadata": {},
   "source": [
    "Gradient Boosting"
   ]
  },
  {
   "cell_type": "code",
   "execution_count": 760,
   "metadata": {
    "colab": {},
    "colab_type": "code",
    "id": "T3OI3qDmxMTN",
    "outputId": "f21ae176-f193-414a-84ab-9aefd43bae55"
   },
   "outputs": [
    {
     "data": {
      "text/plain": [
       "0.95"
      ]
     },
     "execution_count": 760,
     "metadata": {},
     "output_type": "execute_result"
    }
   ],
   "source": [
    "gb_clf_mod1 = ensemble.GradientBoostingClassifier(n_estimators=1000, \n",
    "                                             max_depth=6, \n",
    "                                             max_leaf_nodes=3,\n",
    "                                            )\n",
    "_ = gb_clf_mod1.fit(X_train, y_train)\n",
    "gb_mod1_pred = gb_clf_mod1.predict(X_test)\n",
    "gb_mod1_acc = accuracy_score(y_test, gb_mod1_pred)\n",
    "\n",
    "gb_mod1_acc"
   ]
  },
  {
   "cell_type": "code",
   "execution_count": 761,
   "metadata": {
    "colab": {},
    "colab_type": "code",
    "id": "X_omz870xMTV",
    "outputId": "5aab8d36-2b1d-48c9-b22b-42a3c3296c41",
    "scrolled": true
   },
   "outputs": [
    {
     "name": "stdout",
     "output_type": "stream",
     "text": [
      "AUC_score for Decision Tree 0.96875\n"
     ]
    }
   ],
   "source": [
    "y_pred_mod1_prob = ds_clf_mod1.predict_proba(X_test)[:,1]\n",
    "print('AUC_score for Decision Tree', roc_auc_score(y_test, y_pred_mod1_prob))"
   ]
  },
  {
   "cell_type": "code",
   "execution_count": 762,
   "metadata": {
    "colab": {},
    "colab_type": "code",
    "id": "X_omz870xMTV",
    "outputId": "5aab8d36-2b1d-48c9-b22b-42a3c3296c41",
    "scrolled": true
   },
   "outputs": [
    {
     "name": "stdout",
     "output_type": "stream",
     "text": [
      "AUC_score for Random Forest 1.0\n"
     ]
    }
   ],
   "source": [
    "y_pred_mod1_prob = rf_clf_mod1.predict_proba(X_test)[:,1]\n",
    "print('AUC_score for Random Forest', roc_auc_score(y_test, y_pred_mod1_prob))"
   ]
  },
  {
   "cell_type": "code",
   "execution_count": 763,
   "metadata": {
    "colab": {},
    "colab_type": "code",
    "id": "X_omz870xMTV",
    "outputId": "5aab8d36-2b1d-48c9-b22b-42a3c3296c41",
    "scrolled": true
   },
   "outputs": [
    {
     "name": "stdout",
     "output_type": "stream",
     "text": [
      "AUC_score for Gradient Boosting 1.0\n"
     ]
    }
   ],
   "source": [
    "y_pred_mod1_prob = gb_clf_mod1.predict_proba(X_test)[:,1]\n",
    "print('AUC_score for Gradient Boosting', roc_auc_score(y_test, y_pred_mod1_prob))"
   ]
  },
  {
   "cell_type": "code",
   "execution_count": 764,
   "metadata": {
    "scrolled": false
   },
   "outputs": [
    {
     "name": "stdout",
     "output_type": "stream",
     "text": [
      ".....Decision Tree Classification Report......\n",
      "              precision    recall  f1-score   support\n",
      "\n",
      "           0       0.86      1.00      0.92        24\n",
      "           1       1.00      0.75      0.86        16\n",
      "\n",
      "    accuracy                           0.90        40\n",
      "   macro avg       0.93      0.88      0.89        40\n",
      "weighted avg       0.91      0.90      0.90        40\n",
      "\n",
      ".....Random Forest Classification Report......\n",
      "              precision    recall  f1-score   support\n",
      "\n",
      "           0       0.92      1.00      0.96        24\n",
      "           1       1.00      0.88      0.93        16\n",
      "\n",
      "    accuracy                           0.95        40\n",
      "   macro avg       0.96      0.94      0.95        40\n",
      "weighted avg       0.95      0.95      0.95        40\n",
      "\n",
      ".....Gradient Boosting Classification Report......\n",
      "              precision    recall  f1-score   support\n",
      "\n",
      "           0       0.92      1.00      0.96        24\n",
      "           1       1.00      0.88      0.93        16\n",
      "\n",
      "    accuracy                           0.95        40\n",
      "   macro avg       0.96      0.94      0.95        40\n",
      "weighted avg       0.95      0.95      0.95        40\n",
      "\n"
     ]
    }
   ],
   "source": [
    "#Gradient Boosting (Mod1)\n",
    "_ = gb_clf_mod1.fit(X_train, y_train)\n",
    "gb_pred = gb_clf_mod1.predict(X_test)\n",
    "\n",
    "# Evaluation Metrics\n",
    "print('.....Decision Tree Classification Report......')\n",
    "print(classification_report(y_test, ds_mod1_pred))\n",
    "print('.....Random Forest Classification Report......')\n",
    "print(classification_report(y_test, rf_mod1_pred))\n",
    "print('.....Gradient Boosting Classification Report......')\n",
    "print(classification_report(y_test, gb_mod1_pred))"
   ]
  },
  {
   "cell_type": "markdown",
   "metadata": {},
   "source": [
    "#### Mod 2"
   ]
  },
  {
   "cell_type": "markdown",
   "metadata": {},
   "source": [
    "Decision Tree"
   ]
  },
  {
   "cell_type": "code",
   "execution_count": 765,
   "metadata": {
    "colab": {},
    "colab_type": "code",
    "id": "T3OI3qDmxMTN",
    "outputId": "f21ae176-f193-414a-84ab-9aefd43bae55"
   },
   "outputs": [
    {
     "data": {
      "text/plain": [
       "0.85"
      ]
     },
     "execution_count": 765,
     "metadata": {},
     "output_type": "execute_result"
    }
   ],
   "source": [
    "ds_clf_mod2 = tree.DecisionTreeClassifier(\n",
    "                                             max_depth=6, \n",
    "                                             max_leaf_nodes=3, \n",
    "                                             max_features='sqrt',\n",
    "                                             random_state=23\n",
    "                                            )\n",
    "_ = ds_clf_mod2.fit(X_train, y_train)\n",
    "ds_mod2_pred = ds_clf_mod2.predict(X_test)\n",
    "ds_mod2_acc = accuracy_score(y_test, ds_mod2_pred)\n",
    "\n",
    "ds_mod2_acc"
   ]
  },
  {
   "cell_type": "markdown",
   "metadata": {},
   "source": [
    "Random Forest"
   ]
  },
  {
   "cell_type": "code",
   "execution_count": 766,
   "metadata": {
    "colab": {},
    "colab_type": "code",
    "id": "T3OI3qDmxMTN",
    "outputId": "f21ae176-f193-414a-84ab-9aefd43bae55"
   },
   "outputs": [
    {
     "data": {
      "text/plain": [
       "0.975"
      ]
     },
     "execution_count": 766,
     "metadata": {},
     "output_type": "execute_result"
    }
   ],
   "source": [
    "rf_clf_mod2 = ensemble.GradientBoostingClassifier(n_estimators=1000, \n",
    "                                           max_depth=6, \n",
    "                                           max_leaf_nodes=3, \n",
    "                                           max_features='sqrt', \n",
    "                                           learning_rate=0.1451,\n",
    "                                           random_state=23\n",
    "                                          )\n",
    "_ = rf_clf_mod2.fit(X_train, y_train)\n",
    "rf_mod2_pred = rf_clf_mod2.predict(X_test)\n",
    "rf_mod2_acc = accuracy_score(y_test, rf_mod2_pred)\n",
    "\n",
    "rf_mod2_acc"
   ]
  },
  {
   "cell_type": "markdown",
   "metadata": {},
   "source": [
    "Gradient Boosting"
   ]
  },
  {
   "cell_type": "code",
   "execution_count": 767,
   "metadata": {
    "colab": {},
    "colab_type": "code",
    "id": "T3OI3qDmxMTN",
    "outputId": "f21ae176-f193-414a-84ab-9aefd43bae55"
   },
   "outputs": [
    {
     "data": {
      "text/plain": [
       "0.95"
      ]
     },
     "execution_count": 767,
     "metadata": {},
     "output_type": "execute_result"
    }
   ],
   "source": [
    "gb_clf_mod2 = ensemble.RandomForestClassifier(n_estimators=1000, \n",
    "                                             max_depth=6, \n",
    "                                             max_leaf_nodes=3, \n",
    "                                             max_features='sqrt',\n",
    "                                             random_state=23\n",
    "                                            )\n",
    "_ = gb_clf_mod2.fit(X_train, y_train)\n",
    "gb_mod2_pred = gb_clf_mod2.predict(X_test)\n",
    "gb_mod2_acc = accuracy_score(y_test, gb_mod2_pred)\n",
    "\n",
    "gb_mod2_acc"
   ]
  },
  {
   "cell_type": "code",
   "execution_count": 768,
   "metadata": {
    "colab": {},
    "colab_type": "code",
    "id": "X_omz870xMTV",
    "outputId": "5aab8d36-2b1d-48c9-b22b-42a3c3296c41"
   },
   "outputs": [
    {
     "name": "stdout",
     "output_type": "stream",
     "text": [
      "AUC_score for Decision Tree 0.96875\n"
     ]
    }
   ],
   "source": [
    "y_pred_mod2_prob = ds_clf_mod2.predict_proba(X_test)[:,1]\n",
    "print('AUC_score for Decision Tree', roc_auc_score(y_test, y_pred_mod2_prob))"
   ]
  },
  {
   "cell_type": "code",
   "execution_count": 769,
   "metadata": {
    "colab": {},
    "colab_type": "code",
    "id": "X_omz870xMTV",
    "outputId": "5aab8d36-2b1d-48c9-b22b-42a3c3296c41"
   },
   "outputs": [
    {
     "name": "stdout",
     "output_type": "stream",
     "text": [
      "AUC_score for Random Forest 1.0\n"
     ]
    }
   ],
   "source": [
    "y_pred_mod2_prob = rf_clf_mod2.predict_proba(X_test)[:,1]\n",
    "print('AUC_score for Random Forest', roc_auc_score(y_test, y_pred_mod2_prob))"
   ]
  },
  {
   "cell_type": "code",
   "execution_count": 770,
   "metadata": {
    "colab": {},
    "colab_type": "code",
    "id": "X_omz870xMTV",
    "outputId": "5aab8d36-2b1d-48c9-b22b-42a3c3296c41"
   },
   "outputs": [
    {
     "name": "stdout",
     "output_type": "stream",
     "text": [
      "AUC_score for Gradient Boosting 1.0\n"
     ]
    }
   ],
   "source": [
    "y_pred_mod2_prob = gb_clf_mod2.predict_proba(X_test)[:,1]\n",
    "print('AUC_score for Gradient Boosting', roc_auc_score(y_test, y_pred_mod2_prob))"
   ]
  },
  {
   "cell_type": "code",
   "execution_count": 771,
   "metadata": {
    "scrolled": false
   },
   "outputs": [
    {
     "name": "stdout",
     "output_type": "stream",
     "text": [
      ".....Decision Tree Classification Report......\n",
      "              precision    recall  f1-score   support\n",
      "\n",
      "           0       0.80      1.00      0.89        24\n",
      "           1       1.00      0.62      0.77        16\n",
      "\n",
      "    accuracy                           0.85        40\n",
      "   macro avg       0.90      0.81      0.83        40\n",
      "weighted avg       0.88      0.85      0.84        40\n",
      "\n",
      ".....Random Forest Classification Report......\n",
      "              precision    recall  f1-score   support\n",
      "\n",
      "           0       0.96      1.00      0.98        24\n",
      "           1       1.00      0.94      0.97        16\n",
      "\n",
      "    accuracy                           0.97        40\n",
      "   macro avg       0.98      0.97      0.97        40\n",
      "weighted avg       0.98      0.97      0.97        40\n",
      "\n",
      ".....Gradient Boosting Classification Report......\n",
      "              precision    recall  f1-score   support\n",
      "\n",
      "           0       0.92      1.00      0.96        24\n",
      "           1       1.00      0.88      0.93        16\n",
      "\n",
      "    accuracy                           0.95        40\n",
      "   macro avg       0.96      0.94      0.95        40\n",
      "weighted avg       0.95      0.95      0.95        40\n",
      "\n"
     ]
    }
   ],
   "source": [
    "#Gradient Boosting (Mod1)\n",
    "_ = gb_clf_mod2.fit(X_train, y_train)\n",
    "gb_pred = gb_clf_mod2.predict(X_test)\n",
    "\n",
    "# Evaluation Metrics\n",
    "print('.....Decision Tree Classification Report......')\n",
    "print(classification_report(y_test, ds_mod2_pred))\n",
    "print('.....Random Forest Classification Report......')\n",
    "print(classification_report(y_test, rf_mod2_pred))\n",
    "print('.....Gradient Boosting Classification Report......')\n",
    "print(classification_report(y_test, gb_mod2_pred))"
   ]
  },
  {
   "cell_type": "markdown",
   "metadata": {},
   "source": [
    "### Repeated Edited Nearest Neighbours"
   ]
  },
  {
   "cell_type": "code",
   "execution_count": 772,
   "metadata": {},
   "outputs": [],
   "source": [
    "from imblearn.under_sampling import RepeatedEditedNearestNeighbours\n",
    "\n",
    "# RepeatedEditedNearestNeighbours\n",
    "sampler = RepeatedEditedNearestNeighbours(sampling_strategy='auto')\n",
    "X_us, y_us = sampler.fit_sample(X, y)\n",
    "\n",
    "X_train, X_test, y_train, y_test = train_test_split(X_us, y_us, test_size=0.3, random_state=66)"
   ]
  },
  {
   "cell_type": "markdown",
   "metadata": {},
   "source": [
    "#### No finetuning"
   ]
  },
  {
   "cell_type": "markdown",
   "metadata": {},
   "source": [
    "Decision Tree"
   ]
  },
  {
   "cell_type": "code",
   "execution_count": 773,
   "metadata": {
    "colab": {},
    "colab_type": "code",
    "id": "OAxn1-jqxMTB",
    "outputId": "14999149-8456-4d28-e1cd-608057aad227",
    "scrolled": true
   },
   "outputs": [
    {
     "data": {
      "text/plain": [
       "0.8571428571428571"
      ]
     },
     "execution_count": 773,
     "metadata": {},
     "output_type": "execute_result"
    }
   ],
   "source": [
    "ds_clf = tree.DecisionTreeClassifier()\n",
    "_ = ds_clf.fit(X_train, y_train)\n",
    "ds_pred = ds_clf.predict(X_test)\n",
    "ds_acc = accuracy_score(y_test, ds_pred)\n",
    "\n",
    "ds_acc"
   ]
  },
  {
   "cell_type": "markdown",
   "metadata": {},
   "source": [
    "Random Forest"
   ]
  },
  {
   "cell_type": "code",
   "execution_count": 774,
   "metadata": {
    "colab": {},
    "colab_type": "code",
    "id": "OAxn1-jqxMTB",
    "outputId": "14999149-8456-4d28-e1cd-608057aad227",
    "scrolled": true
   },
   "outputs": [
    {
     "data": {
      "text/plain": [
       "0.9523809523809523"
      ]
     },
     "execution_count": 774,
     "metadata": {},
     "output_type": "execute_result"
    }
   ],
   "source": [
    "rf_clf = ensemble.RandomForestClassifier()\n",
    "_ = rf_clf.fit(X_train, y_train)\n",
    "rf_pred = rf_clf.predict(X_test)\n",
    "rf_acc = accuracy_score(y_test, rf_pred)\n",
    "\n",
    "rf_acc"
   ]
  },
  {
   "cell_type": "markdown",
   "metadata": {},
   "source": [
    "Gradient Boosting"
   ]
  },
  {
   "cell_type": "code",
   "execution_count": 775,
   "metadata": {
    "colab": {},
    "colab_type": "code",
    "id": "OAxn1-jqxMTB",
    "outputId": "14999149-8456-4d28-e1cd-608057aad227",
    "scrolled": true
   },
   "outputs": [
    {
     "data": {
      "text/plain": [
       "0.9047619047619048"
      ]
     },
     "execution_count": 775,
     "metadata": {},
     "output_type": "execute_result"
    }
   ],
   "source": [
    "gb_clf = ensemble.GradientBoostingClassifier()\n",
    "_ = gb_clf.fit(X_train, y_train)\n",
    "gb_pred = gb_clf.predict(X_test)\n",
    "gb_acc = accuracy_score(y_test, gb_pred)\n",
    "\n",
    "gb_acc"
   ]
  },
  {
   "cell_type": "code",
   "execution_count": 776,
   "metadata": {
    "colab": {},
    "colab_type": "code",
    "id": "X_omz870xMTV",
    "outputId": "5aab8d36-2b1d-48c9-b22b-42a3c3296c41",
    "scrolled": false
   },
   "outputs": [
    {
     "name": "stdout",
     "output_type": "stream",
     "text": [
      "AUC_score for Decision Tree 0.9615384615384616\n"
     ]
    }
   ],
   "source": [
    "y_pred_prob = gb_clf.predict_proba(X_test)[:,1]\n",
    "print('AUC_score for Decision Tree', roc_auc_score(y_test, y_pred_prob))"
   ]
  },
  {
   "cell_type": "code",
   "execution_count": 777,
   "metadata": {
    "colab": {},
    "colab_type": "code",
    "id": "X_omz870xMTV",
    "outputId": "5aab8d36-2b1d-48c9-b22b-42a3c3296c41",
    "scrolled": false
   },
   "outputs": [
    {
     "name": "stdout",
     "output_type": "stream",
     "text": [
      "AUC_score for Random Forest 0.9615384615384616\n"
     ]
    }
   ],
   "source": [
    "y_pred_prob = gb_clf.predict_proba(X_test)[:,1]\n",
    "print('AUC_score for Random Forest', roc_auc_score(y_test, y_pred_prob))"
   ]
  },
  {
   "cell_type": "code",
   "execution_count": 778,
   "metadata": {
    "colab": {},
    "colab_type": "code",
    "id": "X_omz870xMTV",
    "outputId": "5aab8d36-2b1d-48c9-b22b-42a3c3296c41",
    "scrolled": false
   },
   "outputs": [
    {
     "name": "stdout",
     "output_type": "stream",
     "text": [
      "AUC_score for Gradient Boosting 0.9615384615384616\n"
     ]
    }
   ],
   "source": [
    "y_pred_prob = gb_clf.predict_proba(X_test)[:,1]\n",
    "print('AUC_score for Gradient Boosting', roc_auc_score(y_test, y_pred_prob))"
   ]
  },
  {
   "cell_type": "code",
   "execution_count": 779,
   "metadata": {
    "colab": {},
    "colab_type": "code",
    "id": "10XpNU7cxMT2",
    "outputId": "f6994de2-f492-4ff7-ea3f-65ee225d2419"
   },
   "outputs": [
    {
     "name": "stdout",
     "output_type": "stream",
     "text": [
      ".....Gradient Boosting Report......\n",
      ".....Decision Tree Classification Report......\n",
      "              precision    recall  f1-score   support\n",
      "\n",
      "           0       0.88      0.88      0.88         8\n",
      "           1       0.92      0.92      0.92        13\n",
      "\n",
      "    accuracy                           0.90        21\n",
      "   macro avg       0.90      0.90      0.90        21\n",
      "weighted avg       0.90      0.90      0.90        21\n",
      "\n",
      ".....Random Forest Classification Report......\n",
      "              precision    recall  f1-score   support\n",
      "\n",
      "           0       1.00      0.88      0.93         8\n",
      "           1       0.93      1.00      0.96        13\n",
      "\n",
      "    accuracy                           0.95        21\n",
      "   macro avg       0.96      0.94      0.95        21\n",
      "weighted avg       0.96      0.95      0.95        21\n",
      "\n",
      ".....Gradient Boosting Classification Report......\n",
      "              precision    recall  f1-score   support\n",
      "\n",
      "           0       0.88      0.88      0.88         8\n",
      "           1       0.92      0.92      0.92        13\n",
      "\n",
      "    accuracy                           0.90        21\n",
      "   macro avg       0.90      0.90      0.90        21\n",
      "weighted avg       0.90      0.90      0.90        21\n",
      "\n"
     ]
    }
   ],
   "source": [
    "#Gradient Boosting (Default)\n",
    "_ = gb_clf.fit(X_train, y_train)\n",
    "gb_pred = gb_clf.predict(X_test)\n",
    "\n",
    "print('.....Gradient Boosting Report......')\n",
    "print('.....Decision Tree Classification Report......')\n",
    "print(classification_report(y_test, gb_pred))\n",
    "print('.....Random Forest Classification Report......')\n",
    "print(classification_report(y_test, rf_pred))\n",
    "print('.....Gradient Boosting Classification Report......')\n",
    "print(classification_report(y_test, gb_pred))"
   ]
  },
  {
   "cell_type": "markdown",
   "metadata": {},
   "source": [
    "#### Mod 1"
   ]
  },
  {
   "cell_type": "markdown",
   "metadata": {},
   "source": [
    "Decision tree"
   ]
  },
  {
   "cell_type": "code",
   "execution_count": 780,
   "metadata": {
    "colab": {},
    "colab_type": "code",
    "id": "T3OI3qDmxMTN",
    "outputId": "f21ae176-f193-414a-84ab-9aefd43bae55",
    "scrolled": false
   },
   "outputs": [
    {
     "data": {
      "text/plain": [
       "0.8571428571428571"
      ]
     },
     "execution_count": 780,
     "metadata": {},
     "output_type": "execute_result"
    }
   ],
   "source": [
    "ds_clf_mod1 = tree.DecisionTreeClassifier(\n",
    "                                             max_depth=6, \n",
    "                                             max_leaf_nodes=3,\n",
    "                                            )\n",
    "_ = ds_clf_mod1.fit(X_train, y_train)\n",
    "ds_mod1_pred = ds_clf_mod1.predict(X_test)\n",
    "ds_mod1_acc = accuracy_score(y_test, ds_pred)\n",
    "\n",
    "ds_mod1_acc"
   ]
  },
  {
   "cell_type": "markdown",
   "metadata": {},
   "source": [
    "Random Forest"
   ]
  },
  {
   "cell_type": "code",
   "execution_count": 781,
   "metadata": {
    "colab": {},
    "colab_type": "code",
    "id": "T3OI3qDmxMTN",
    "outputId": "f21ae176-f193-414a-84ab-9aefd43bae55"
   },
   "outputs": [
    {
     "data": {
      "text/plain": [
       "0.9523809523809523"
      ]
     },
     "execution_count": 781,
     "metadata": {},
     "output_type": "execute_result"
    }
   ],
   "source": [
    "rf_clf_mod1 = ensemble.RandomForestClassifier(n_estimators=1000, \n",
    "                                             max_depth=6, \n",
    "                                             max_leaf_nodes=3,\n",
    "                                            )\n",
    "_ = rf_clf_mod1.fit(X_train, y_train)\n",
    "rf_mod1_pred = rf_clf_mod1.predict(X_test)\n",
    "rf_mod1_acc = accuracy_score(y_test, rf_pred)\n",
    "\n",
    "rf_mod1_acc"
   ]
  },
  {
   "cell_type": "markdown",
   "metadata": {},
   "source": [
    "Gradient Boosting"
   ]
  },
  {
   "cell_type": "code",
   "execution_count": 782,
   "metadata": {
    "colab": {},
    "colab_type": "code",
    "id": "T3OI3qDmxMTN",
    "outputId": "f21ae176-f193-414a-84ab-9aefd43bae55"
   },
   "outputs": [
    {
     "data": {
      "text/plain": [
       "0.9047619047619048"
      ]
     },
     "execution_count": 782,
     "metadata": {},
     "output_type": "execute_result"
    }
   ],
   "source": [
    "gb_clf_mod1 = ensemble.GradientBoostingClassifier(n_estimators=1000, \n",
    "                                             max_depth=6, \n",
    "                                             max_leaf_nodes=3,\n",
    "                                            )\n",
    "_ = gb_clf_mod1.fit(X_train, y_train)\n",
    "gb_mod1_pred = gb_clf_mod1.predict(X_test)\n",
    "gb_mod1_acc = accuracy_score(y_test, gb_pred)\n",
    "\n",
    "gb_mod1_acc"
   ]
  },
  {
   "cell_type": "code",
   "execution_count": 783,
   "metadata": {
    "colab": {},
    "colab_type": "code",
    "id": "X_omz870xMTV",
    "outputId": "5aab8d36-2b1d-48c9-b22b-42a3c3296c41",
    "scrolled": true
   },
   "outputs": [
    {
     "name": "stdout",
     "output_type": "stream",
     "text": [
      "AUC_score for Decision Tree 0.8846153846153846\n"
     ]
    }
   ],
   "source": [
    "y_pred_mod1_prob = ds_clf_mod1.predict_proba(X_test)[:,1]\n",
    "print('AUC_score for Decision Tree', roc_auc_score(y_test, y_pred_mod1_prob))"
   ]
  },
  {
   "cell_type": "code",
   "execution_count": 784,
   "metadata": {
    "colab": {},
    "colab_type": "code",
    "id": "X_omz870xMTV",
    "outputId": "5aab8d36-2b1d-48c9-b22b-42a3c3296c41",
    "scrolled": true
   },
   "outputs": [
    {
     "name": "stdout",
     "output_type": "stream",
     "text": [
      "AUC_score for Random Forest 1.0\n"
     ]
    }
   ],
   "source": [
    "y_pred_mod1_prob = rf_clf_mod1.predict_proba(X_test)[:,1]\n",
    "print('AUC_score for Random Forest', roc_auc_score(y_test, y_pred_mod1_prob))"
   ]
  },
  {
   "cell_type": "code",
   "execution_count": 785,
   "metadata": {
    "colab": {},
    "colab_type": "code",
    "id": "X_omz870xMTV",
    "outputId": "5aab8d36-2b1d-48c9-b22b-42a3c3296c41",
    "scrolled": true
   },
   "outputs": [
    {
     "name": "stdout",
     "output_type": "stream",
     "text": [
      "AUC_score for Gradient Boosting 0.9903846153846154\n"
     ]
    }
   ],
   "source": [
    "y_pred_mod1_prob = gb_clf_mod1.predict_proba(X_test)[:,1]\n",
    "print('AUC_score for Gradient Boosting', roc_auc_score(y_test, y_pred_mod1_prob))"
   ]
  },
  {
   "cell_type": "code",
   "execution_count": 786,
   "metadata": {},
   "outputs": [
    {
     "name": "stdout",
     "output_type": "stream",
     "text": [
      ".....Decision Tree Classification Report......\n",
      "              precision    recall  f1-score   support\n",
      "\n",
      "           0       0.80      1.00      0.89         8\n",
      "           1       1.00      0.85      0.92        13\n",
      "\n",
      "    accuracy                           0.90        21\n",
      "   macro avg       0.90      0.92      0.90        21\n",
      "weighted avg       0.92      0.90      0.91        21\n",
      "\n",
      ".....Random Forest Classification Report......\n",
      "              precision    recall  f1-score   support\n",
      "\n",
      "           0       1.00      0.75      0.86         8\n",
      "           1       0.87      1.00      0.93        13\n",
      "\n",
      "    accuracy                           0.90        21\n",
      "   macro avg       0.93      0.88      0.89        21\n",
      "weighted avg       0.92      0.90      0.90        21\n",
      "\n",
      ".....Gradient Boosting Classification Report......\n",
      "              precision    recall  f1-score   support\n",
      "\n",
      "           0       0.88      0.88      0.88         8\n",
      "           1       0.92      0.92      0.92        13\n",
      "\n",
      "    accuracy                           0.90        21\n",
      "   macro avg       0.90      0.90      0.90        21\n",
      "weighted avg       0.90      0.90      0.90        21\n",
      "\n"
     ]
    }
   ],
   "source": [
    "#Gradient Boosting (Mod1)\n",
    "_ = gb_clf_mod1.fit(X_train, y_train)\n",
    "gb_pred = gb_clf_mod1.predict(X_test)\n",
    "\n",
    "# Evaluation Metrics\n",
    "print('.....Decision Tree Classification Report......')\n",
    "print(classification_report(y_test, ds_mod1_pred))\n",
    "print('.....Random Forest Classification Report......')\n",
    "print(classification_report(y_test, rf_mod1_pred))\n",
    "print('.....Gradient Boosting Classification Report......')\n",
    "print(classification_report(y_test, gb_mod1_pred))"
   ]
  },
  {
   "cell_type": "markdown",
   "metadata": {},
   "source": [
    "#### Mod 2"
   ]
  },
  {
   "cell_type": "markdown",
   "metadata": {},
   "source": [
    "Decision Tree"
   ]
  },
  {
   "cell_type": "code",
   "execution_count": 787,
   "metadata": {
    "colab": {},
    "colab_type": "code",
    "id": "T3OI3qDmxMTN",
    "outputId": "f21ae176-f193-414a-84ab-9aefd43bae55"
   },
   "outputs": [
    {
     "data": {
      "text/plain": [
       "0.9047619047619048"
      ]
     },
     "execution_count": 787,
     "metadata": {},
     "output_type": "execute_result"
    }
   ],
   "source": [
    "ds_clf_mod2 = tree.DecisionTreeClassifier( \n",
    "                                             max_depth=6, \n",
    "                                             max_leaf_nodes=3, \n",
    "                                             max_features='sqrt', \n",
    "                                             random_state=23\n",
    "                                            )\n",
    "_ = ds_clf_mod2.fit(X_train, y_train)\n",
    "ds_mod2_pred = ds_clf_mod2.predict(X_test)\n",
    "ds_mod2_acc = accuracy_score(y_test, ds_mod2_pred)\n",
    "\n",
    "ds_mod2_acc"
   ]
  },
  {
   "cell_type": "markdown",
   "metadata": {},
   "source": [
    "Random Forest"
   ]
  },
  {
   "cell_type": "code",
   "execution_count": 788,
   "metadata": {
    "colab": {},
    "colab_type": "code",
    "id": "T3OI3qDmxMTN",
    "outputId": "f21ae176-f193-414a-84ab-9aefd43bae55"
   },
   "outputs": [
    {
     "data": {
      "text/plain": [
       "0.9047619047619048"
      ]
     },
     "execution_count": 788,
     "metadata": {},
     "output_type": "execute_result"
    }
   ],
   "source": [
    "rf_clf_mod2 = ensemble.RandomForestClassifier(n_estimators=1000, \n",
    "                                             max_depth=6, \n",
    "                                             max_leaf_nodes=3, \n",
    "                                             max_features='sqrt',\n",
    "                                             random_state=23\n",
    "                                            )\n",
    "_ = rf_clf_mod2.fit(X_train, y_train)\n",
    "rf_mod2_pred = rf_clf_mod2.predict(X_test)\n",
    "rf_mod2_acc = accuracy_score(y_test, rf_mod2_pred)\n",
    "\n",
    "rf_mod2_acc"
   ]
  },
  {
   "cell_type": "markdown",
   "metadata": {},
   "source": [
    "Gradient Boosting"
   ]
  },
  {
   "cell_type": "code",
   "execution_count": 789,
   "metadata": {
    "colab": {},
    "colab_type": "code",
    "id": "T3OI3qDmxMTN",
    "outputId": "f21ae176-f193-414a-84ab-9aefd43bae55"
   },
   "outputs": [
    {
     "data": {
      "text/plain": [
       "0.9047619047619048"
      ]
     },
     "execution_count": 789,
     "metadata": {},
     "output_type": "execute_result"
    }
   ],
   "source": [
    "gb_clf_mod2 = ensemble.GradientBoostingClassifier(n_estimators=1000, \n",
    "                                             max_depth=6, \n",
    "                                             max_leaf_nodes=3, \n",
    "                                             max_features='sqrt', \n",
    "                                             learning_rate=0.1451,\n",
    "                                             random_state=23\n",
    "                                            )\n",
    "_ = gb_clf_mod2.fit(X_train, y_train)\n",
    "gb_mod2_pred = gb_clf_mod2.predict(X_test)\n",
    "gb_mod2_acc = accuracy_score(y_test, gb_mod2_pred)\n",
    "\n",
    "gb_mod2_acc"
   ]
  },
  {
   "cell_type": "code",
   "execution_count": 790,
   "metadata": {
    "colab": {},
    "colab_type": "code",
    "id": "X_omz870xMTV",
    "outputId": "5aab8d36-2b1d-48c9-b22b-42a3c3296c41"
   },
   "outputs": [
    {
     "name": "stdout",
     "output_type": "stream",
     "text": [
      "AUC_score for Decision Tree 0.8846153846153846\n"
     ]
    }
   ],
   "source": [
    "y_pred_mod2_prob = ds_clf_mod2.predict_proba(X_test)[:,1]\n",
    "print('AUC_score for Decision Tree', roc_auc_score(y_test, y_pred_mod2_prob))"
   ]
  },
  {
   "cell_type": "code",
   "execution_count": 791,
   "metadata": {
    "colab": {},
    "colab_type": "code",
    "id": "X_omz870xMTV",
    "outputId": "5aab8d36-2b1d-48c9-b22b-42a3c3296c41"
   },
   "outputs": [
    {
     "name": "stdout",
     "output_type": "stream",
     "text": [
      "AUC_score for Random Forest 1.0\n"
     ]
    }
   ],
   "source": [
    "y_pred_mod2_prob = rf_clf_mod2.predict_proba(X_test)[:,1]\n",
    "print('AUC_score for Random Forest', roc_auc_score(y_test, y_pred_mod2_prob))"
   ]
  },
  {
   "cell_type": "code",
   "execution_count": 792,
   "metadata": {
    "colab": {},
    "colab_type": "code",
    "id": "X_omz870xMTV",
    "outputId": "5aab8d36-2b1d-48c9-b22b-42a3c3296c41"
   },
   "outputs": [
    {
     "name": "stdout",
     "output_type": "stream",
     "text": [
      "AUC_score for Gradient Boosting 0.9903846153846154\n"
     ]
    }
   ],
   "source": [
    "y_pred_mod2_prob = gb_clf_mod2.predict_proba(X_test)[:,1]\n",
    "print('AUC_score for Gradient Boosting', roc_auc_score(y_test, y_pred_mod2_prob))"
   ]
  },
  {
   "cell_type": "code",
   "execution_count": 793,
   "metadata": {
    "scrolled": false
   },
   "outputs": [
    {
     "name": "stdout",
     "output_type": "stream",
     "text": [
      ".....Decision Tree Classification Report......\n",
      "              precision    recall  f1-score   support\n",
      "\n",
      "           0       0.80      1.00      0.89         8\n",
      "           1       1.00      0.85      0.92        13\n",
      "\n",
      "    accuracy                           0.90        21\n",
      "   macro avg       0.90      0.92      0.90        21\n",
      "weighted avg       0.92      0.90      0.91        21\n",
      "\n",
      ".....Random Forest Classification Report......\n",
      "              precision    recall  f1-score   support\n",
      "\n",
      "           0       1.00      0.75      0.86         8\n",
      "           1       0.87      1.00      0.93        13\n",
      "\n",
      "    accuracy                           0.90        21\n",
      "   macro avg       0.93      0.88      0.89        21\n",
      "weighted avg       0.92      0.90      0.90        21\n",
      "\n",
      ".....Gradient Boosting Classification Report......\n",
      "              precision    recall  f1-score   support\n",
      "\n",
      "           0       0.88      0.88      0.88         8\n",
      "           1       0.92      0.92      0.92        13\n",
      "\n",
      "    accuracy                           0.90        21\n",
      "   macro avg       0.90      0.90      0.90        21\n",
      "weighted avg       0.90      0.90      0.90        21\n",
      "\n"
     ]
    }
   ],
   "source": [
    "#Gradient Boosting (Mod2)\n",
    "_ = gb_clf_mod2.fit(X_train, y_train)\n",
    "gb_pred = gb_clf_mod2.predict(X_test)\n",
    "\n",
    "# Evaluation Metrics\n",
    "print('.....Decision Tree Classification Report......')\n",
    "print(classification_report(y_test, ds_mod2_pred))\n",
    "print('.....Random Forest Classification Report......')\n",
    "print(classification_report(y_test, rf_mod2_pred))\n",
    "print('.....Gradient Boosting Classification Report......')\n",
    "print(classification_report(y_test, gb_mod2_pred))"
   ]
  }
 ],
 "metadata": {
  "colab": {
   "collapsed_sections": [],
   "name": "dikamsi_submission.ipynb",
   "provenance": []
  },
  "kernelspec": {
   "display_name": "Python 3.7.6 64-bit ('base': conda)",
   "language": "python",
   "name": "python37664bitbasecondab91cdf57587746d5b7f29fe4a12d1c7a"
  },
  "language_info": {
   "codemirror_mode": {
    "name": "ipython",
    "version": 3
   },
   "file_extension": ".py",
   "mimetype": "text/x-python",
   "name": "python",
   "nbconvert_exporter": "python",
   "pygments_lexer": "ipython3",
   "version": "3.7.6"
  }
 },
 "nbformat": 4,
 "nbformat_minor": 1
}
